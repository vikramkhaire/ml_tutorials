{
 "cells": [
  {
   "cell_type": "code",
   "execution_count": 1,
   "metadata": {
    "collapsed": true,
    "id": "3pR3rTfgVYnz"
   },
   "outputs": [],
   "source": [
    "%matplotlib inline\n",
    "import numpy as np\n",
    "from sklearn.model_selection import train_test_split\n",
    "from tensorflow import keras\n",
    "import astropy.table as tab\n",
    "from sklearn.metrics import confusion_matrix\n",
    "import seaborn as sns\n",
    "import matplotlib.pyplot as plt\n"
   ]
  },
  {
   "cell_type": "code",
   "execution_count": 2,
   "metadata": {
    "collapsed": true,
    "id": "dObMyrM33tLP"
   },
   "outputs": [],
   "source": [
    "# Load the data and preprocess the labels as shown above\n",
    "#data_table = tab.Table.read('/content/drive/MyDrive/Colab-Notebooks/workshop_planet_local.fits')\n",
    "data_table = tab.Table.read('workshop_planet_local.fits')\n"
   ]
  },
  {
   "cell_type": "code",
   "execution_count": 3,
   "metadata": {
    "id": "buaO9Lzn7vUF",
    "scrolled": true
   },
   "outputs": [
    {
     "data": {
      "text/html": [
       "<i>Table length=1000</i>\n",
       "<table id=\"table140049511982024\" class=\"table-striped table-bordered table-condensed\">\n",
       "<thead><tr><th>id</th><th>class</th><th>local [201]</th><th>av_training_set</th><th>depth</th><th>duration</th><th>impact</th><th>period</th><th>max_mult_ev</th><th>model_snr</th><th>plnt_num</th><th>time0bk</th><th>spline_bkspace</th></tr></thead>\n",
       "<thead><tr><th>int64</th><th>bytes3</th><th>float64</th><th>bytes3</th><th>float64</th><th>float64</th><th>float64</th><th>float64</th><th>float64</th><th>float64</th><th>int64</th><th>float64</th><th>float64</th></tr></thead>\n",
       "<tr><td>6507433</td><td>PC</td><td>-0.003685545176267624 .. 0.049602705985307693</td><td>PC</td><td>3522.0</td><td>0.05329166725277901</td><td>0.9376999735832214</td><td>4.742549896240234</td><td>91.80000305175781</td><td>106.30000305175781</td><td>1</td><td>133.13800048828125</td><td>0.5</td></tr>\n",
       "<tr><td>10272640</td><td>PC</td><td>-0.0009759697713889182 .. -0.003937867935746908</td><td>PC</td><td>13170.0</td><td>0.15862500667572021</td><td>0.06650999933481216</td><td>3.770550012588501</td><td>658.5</td><td>639.2999877929688</td><td>1</td><td>134.656005859375</td><td>0.5</td></tr>\n",
       "<tr><td>9761573</td><td>PC</td><td>-0.014799775555729866 .. 0.03045441210269928</td><td>PC</td><td>2207.0</td><td>0.11837500333786011</td><td>1.0</td><td>7.441659927368164</td><td>63.369998931884766</td><td>59.81999969482422</td><td>1</td><td>137.3090057373047</td><td>0.8952139616012573</td></tr>\n",
       "<tr><td>10352938</td><td>PC</td><td>0.0001071926235454157 .. 0.0107777314260602</td><td>AFP</td><td>6161.0</td><td>0.29762500524520874</td><td>0.34470000863075256</td><td>6.471749782562256</td><td>255.3000030517578</td><td>260.70001220703125</td><td>1</td><td>136.3520050048828</td><td>0.7372382879257202</td></tr>\n",
       "<tr><td>6946199</td><td>PC</td><td>-0.004892205819487572 .. -0.042620230466127396</td><td>PC</td><td>1350.0</td><td>0.23079167306423187</td><td>0.29980000853538513</td><td>37.101200103759766</td><td>48.47999954223633</td><td>50.189998626708984</td><td>2</td><td>147.8730010986328</td><td>20.0</td></tr>\n",
       "<tr><td>10583066</td><td>PC</td><td>-0.0829419493675232 .. 0.02255663089454174</td><td>PC</td><td>1896.0</td><td>0.06616666913032532</td><td>0.3499000072479248</td><td>6.029300212860107</td><td>54.720001220703125</td><td>64.80999755859375</td><td>1</td><td>135.42799377441406</td><td>5.138038635253906</td></tr>\n",
       "<tr><td>11027624</td><td>PC</td><td>-0.006467259488999844 .. 0.0021557530853897333</td><td>PC</td><td>1997.0</td><td>1.00041663646698</td><td>0.3253999948501587</td><td>394.625</td><td>76.05999755859375</td><td>107.69999694824219</td><td>1</td><td>177.8459930419922</td><td>1.9462679624557495</td></tr>\n",
       "<tr><td>5640085</td><td>PC</td><td>0.043257515877485275 .. -0.06920187175273895</td><td>PC</td><td>1182.0</td><td>0.11366666853427887</td><td>0.7210999727249146</td><td>10.139599800109863</td><td>51.7599983215332</td><td>56.779998779296875</td><td>1</td><td>137.89199829101562</td><td>0.8952139616012573</td></tr>\n",
       "<tr><td>2989404</td><td>PC</td><td>-0.011556240729987621 .. 0.04006163403391838</td><td>PC</td><td>133.39999389648438</td><td>0.09537500143051147</td><td>0.5020999908447266</td><td>1.678320050239563</td><td>53.66999816894531</td><td>59.63999938964844</td><td>2</td><td>132.697998046875</td><td>2.3633148670196533</td></tr>\n",
       "<tr><td>10656508</td><td>PC</td><td>0.014008358120918274 .. -0.0016211919719353318</td><td>PC</td><td>7968.0</td><td>0.2029999941587448</td><td>0.38670000433921814</td><td>124.03600311279297</td><td>187.1999969482422</td><td>174.6999969482422</td><td>1</td><td>136.01499938964844</td><td>3.484652519226074</td></tr>\n",
       "<tr><td>...</td><td>...</td><td>...</td><td>...</td><td>...</td><td>...</td><td>...</td><td>...</td><td>...</td><td>...</td><td>...</td><td>...</td><td>...</td></tr>\n",
       "<tr><td>4832197</td><td>AFP</td><td>0.07353904098272324 .. 0.09011198580265045</td><td>AFP</td><td>10650.0</td><td>0.06433333456516266</td><td>0.9000999927520752</td><td>0.9477239847183228</td><td>2972.0</td><td>1747.0</td><td>1</td><td>132.39599609375</td><td>0.5</td></tr>\n",
       "<tr><td>8299947</td><td>AFP</td><td>-0.0007290078792721033 .. -8.748094114707783e-05</td><td>AFP</td><td>393800.0</td><td>0.18920832872390747</td><td>0.46650001406669617</td><td>2.682770013809204</td><td>2003.0</td><td>1127.0</td><td>1</td><td>131.5679931640625</td><td>1.087040662765503</td></tr>\n",
       "<tr><td>8560285</td><td>AFP</td><td>0.0011314699659124017 .. -0.002455076202750206</td><td>AFP</td><td>51250.0</td><td>0.44208332896232605</td><td>0.789900004863739</td><td>85.34089660644531</td><td>1157.0</td><td>876.5</td><td>1</td><td>215.52999877929688</td><td>7.575917720794678</td></tr>\n",
       "<tr><td>5481416</td><td>AFP</td><td>-0.01769576594233513 .. -0.0042583392933011055</td><td>AFP</td><td>1256.0</td><td>0.09200000017881393</td><td>0.22910000383853912</td><td>2.3840599060058594</td><td>48.7599983215332</td><td>53.40999984741211</td><td>1</td><td>133.43800354003906</td><td>1.319972038269043</td></tr>\n",
       "<tr><td>6758917</td><td>AFP</td><td>-0.1130988597869873 .. 0.0104118213057518</td><td>AFP</td><td>3025.0</td><td>0.06279166787862778</td><td>0.8996999859809875</td><td>2.236109972000122</td><td>162.5</td><td>179.1999969482422</td><td>2</td><td>132.75100708007812</td><td>0.5</td></tr>\n",
       "<tr><td>2305543</td><td>AFP</td><td>0.03441477194428444 .. 0.03268295153975487</td><td>AFP</td><td>103800.0</td><td>0.1002916693687439</td><td>0.784600019454956</td><td>0.6811379790306091</td><td>7455.0</td><td>4293.0</td><td>1</td><td>131.57699584960938</td><td>0.5</td></tr>\n",
       "<tr><td>8655458</td><td>AFP</td><td>-0.03697723522782326 .. -0.026133904233574867</td><td>AFP</td><td>8816.0</td><td>0.16087499260902405</td><td>0.8726000189781189</td><td>1.5941599607467651</td><td>998.9000244140625</td><td>594.5999755859375</td><td>1</td><td>132.63499450683594</td><td>0.8952139616012573</td></tr>\n",
       "<tr><td>11231334</td><td>AFP</td><td>0.009312780573964119 .. 0.0006422607693821192</td><td>AFP</td><td>1156.0</td><td>0.23983334004878998</td><td>1.0</td><td>4.157470226287842</td><td>135.60000610351562</td><td>141.89999389648438</td><td>1</td><td>135.07899475097656</td><td>0.5</td></tr>\n",
       "<tr><td>12167361</td><td>AFP</td><td>0.004677373915910721 .. 0.0038320652674883604</td><td>AFP</td><td>2107.0</td><td>0.11050000041723251</td><td>0.9998999834060669</td><td>47.93090057373047</td><td>283.3999938964844</td><td>283.1000061035156</td><td>1</td><td>179.0959930419922</td><td>0.5</td></tr>\n",
       "<tr><td>9966115</td><td>AFP</td><td>0.0009396919049322605 .. -0.006259019486606121</td><td>AFP</td><td>3648.0</td><td>0.1977500021457672</td><td>0.8855000138282776</td><td>8.947429656982422</td><td>555.5999755859375</td><td>531.5</td><td>2</td><td>136.52000427246094</td><td>0.8952139616012573</td></tr>\n",
       "</table>"
      ],
      "text/plain": [
       "<Table length=1000>\n",
       "   id    class  ...      time0bk         spline_bkspace  \n",
       " int64   bytes3 ...      float64            float64      \n",
       "-------- ------ ... ------------------ ------------------\n",
       " 6507433     PC ... 133.13800048828125                0.5\n",
       "10272640     PC ...   134.656005859375                0.5\n",
       " 9761573     PC ...  137.3090057373047 0.8952139616012573\n",
       "10352938     PC ...  136.3520050048828 0.7372382879257202\n",
       " 6946199     PC ...  147.8730010986328               20.0\n",
       "10583066     PC ... 135.42799377441406  5.138038635253906\n",
       "11027624     PC ...  177.8459930419922 1.9462679624557495\n",
       " 5640085     PC ... 137.89199829101562 0.8952139616012573\n",
       " 2989404     PC ...   132.697998046875 2.3633148670196533\n",
       "10656508     PC ... 136.01499938964844  3.484652519226074\n",
       "     ...    ... ...                ...                ...\n",
       " 4832197    AFP ...    132.39599609375                0.5\n",
       " 8299947    AFP ...  131.5679931640625  1.087040662765503\n",
       " 8560285    AFP ... 215.52999877929688  7.575917720794678\n",
       " 5481416    AFP ... 133.43800354003906  1.319972038269043\n",
       " 6758917    AFP ... 132.75100708007812                0.5\n",
       " 2305543    AFP ... 131.57699584960938                0.5\n",
       " 8655458    AFP ... 132.63499450683594 0.8952139616012573\n",
       "11231334    AFP ... 135.07899475097656                0.5\n",
       "12167361    AFP ...  179.0959930419922                0.5\n",
       " 9966115    AFP ... 136.52000427246094 0.8952139616012573"
      ]
     },
     "execution_count": 3,
     "metadata": {},
     "output_type": "execute_result"
    }
   ],
   "source": [
    "data_table"
   ]
  },
  {
   "cell_type": "markdown",
   "metadata": {},
   "source": [
    "A subset of data taken from Shallue & Vandenburg 2018 (https://ui.adsabs.harvard.edu/abs/2018AJ....155...94S/abstract).\n",
    "\n",
    "The first step in the 'data preparation' is to phase-fold each light curve using a pipeline that determines the period. Next, a region centered on the transit is selected. The size of this region is a fixed multiple of the transit duration. This region is divided into 201 bins of equal size, and the flux in each bin is then normalized to have a median value of 0 and a maximum depth of -1.\n"
   ]
  },
  {
   "cell_type": "code",
   "execution_count": 4,
   "metadata": {},
   "outputs": [
    {
     "data": {
      "image/png": "[encoded data removed]",
      "text/plain": [
       "<Figure size 432x288 with 1 Axes>"
      ]
     },
     "metadata": {},
     "output_type": "display_data"
    }
   ],
   "source": [
    "# random example plots\n",
    "i = 42\n",
    "plt.plot(data_table['local'][i], label = data_table['class'][i])\n",
    "plt.legend()\n",
    "plt.grid()\n",
    "plt.show()"
   ]
  },
  {
   "cell_type": "code",
   "execution_count": 5,
   "metadata": {},
   "outputs": [
    {
     "data": {
      "image/png": "[encoded data removed]",
      "text/plain": [
       "<Figure size 432x288 with 1 Axes>"
      ]
     },
     "metadata": {},
     "output_type": "display_data"
    }
   ],
   "source": [
    "# random example plots\n",
    "i = 52\n",
    "plt.plot(data_table['local'][i], label = data_table['class'][i])\n",
    "plt.legend()\n",
    "plt.grid()\n",
    "plt.show()"
   ]
  },
  {
   "cell_type": "code",
   "execution_count": 6,
   "metadata": {
    "collapsed": true,
    "id": "a8C6I4Cy7qFR"
   },
   "outputs": [],
   "source": [
    "input_data = np.array(data_table['local'].tolist())\n",
    "\n",
    "# PC == Planet candidate &  AFP =  Astrophysical False Positives\n",
    "labels = np.where(data_table['class'] == 'PC', 0, 1)"
   ]
  },
  {
   "cell_type": "code",
   "execution_count": 7,
   "metadata": {
    "colab": {
     "base_uri": "https://localhost:8080/"
    },
    "id": "QrVPVsa-79nq",
    "outputId": "e1fc4e03-0cf0-462e-ce88-fd9f93e63224",
    "scrolled": true
   },
   "outputs": [
    {
     "data": {
      "text/plain": [
       "array([[-0.00368555,  0.00375317,  0.01159763, ...,  0.03120879,\n",
       "         0.03120879,  0.04960271],\n",
       "       [-0.00097597, -0.00297161, -0.00210246, ..., -0.00151494,\n",
       "        -0.0019131 , -0.00393787],\n",
       "       [-0.01479978,  0.03045441,  0.03045441, ...,  0.03916331,\n",
       "         0.03045441,  0.03045441],\n",
       "       ...,\n",
       "       [ 0.00931278,  0.00620852,  0.00299722, ...,  0.00085635,\n",
       "        -0.00042817,  0.00064226],\n",
       "       [ 0.00467737,  0.00580445,  0.00580445, ..., -0.00636799,\n",
       "        -0.00636799,  0.00383207],\n",
       "       [ 0.00093969, -0.00484948, -0.00481592, ..., -0.00761822,\n",
       "        -0.00605766, -0.00625902]])"
      ]
     },
     "execution_count": 7,
     "metadata": {},
     "output_type": "execute_result"
    }
   ],
   "source": [
    "input_data"
   ]
  },
  {
   "cell_type": "code",
   "execution_count": 8,
   "metadata": {
    "colab": {
     "base_uri": "https://localhost:8080/"
    },
    "id": "BtovTwti8EuE",
    "outputId": "ad71797d-8e9a-4dbc-a8e7-ad2c1619505c",
    "scrolled": true
   },
   "outputs": [
    {
     "data": {
      "text/plain": [
       "array([0, 0, 0, 0, 0, 0, 0, 0, 0, 0, 0, 0, 0, 0, 0, 0, 0, 0, 0, 0, 0, 0,\n",
       "       0, 0, 0, 0, 0, 0, 0, 0, 0, 0, 0, 0, 0, 0, 0, 0, 0, 0, 0, 0, 0, 0,\n",
       "       0, 0, 0, 0, 0, 0, 1, 1, 1, 1, 1, 1, 1, 1, 1, 1, 1, 1, 1, 1, 1, 1,\n",
       "       1, 1, 1, 1, 1, 1, 1, 1, 1, 1, 1, 1, 1, 1, 1, 1, 1, 1, 1, 1, 1, 1,\n",
       "       1, 1, 1, 1, 1, 1, 1, 1, 1, 1, 1, 1, 0, 0, 0, 0, 0, 0, 0, 0, 0, 0,\n",
       "       0, 0, 0, 0, 0, 0, 0, 0, 0, 0, 0, 0, 0, 0, 0, 0, 0, 0, 0, 0, 0, 0,\n",
       "       0, 0, 0, 0, 0, 0, 0, 0, 0, 0, 0, 0, 0, 0, 0, 0, 0, 0, 1, 1, 1, 1,\n",
       "       1, 1, 1, 1, 1, 1, 1, 1, 1, 1, 1, 1, 1, 1, 1, 1, 1, 1, 1, 1, 1, 1,\n",
       "       1, 1, 1, 1, 1, 1, 1, 1, 1, 1, 1, 1, 1, 1, 1, 1, 1, 1, 1, 1, 1, 1,\n",
       "       1, 1, 0, 0, 0, 0, 0, 0, 0, 0, 0, 0, 0, 0, 0, 0, 0, 0, 0, 0, 0, 0,\n",
       "       0, 0, 0, 0, 0, 0, 0, 0, 0, 0, 0, 0, 0, 0, 0, 0, 0, 0, 0, 0, 0, 0,\n",
       "       0, 0, 0, 0, 0, 0, 0, 0, 1, 1, 1, 1, 1, 1, 1, 1, 1, 1, 1, 1, 1, 1,\n",
       "       1, 1, 1, 1, 1, 1, 1, 1, 1, 1, 1, 1, 1, 1, 1, 1, 1, 1, 1, 1, 1, 1,\n",
       "       1, 1, 1, 1, 1, 1, 1, 1, 1, 1, 1, 1, 1, 1, 0, 0, 0, 0, 0, 0, 0, 0,\n",
       "       0, 0, 0, 0, 0, 0, 0, 0, 0, 0, 0, 0, 0, 0, 0, 0, 0, 0, 0, 0, 0, 0,\n",
       "       0, 0, 0, 0, 0, 0, 0, 0, 0, 0, 0, 0, 0, 0, 0, 0, 0, 0, 0, 0, 1, 1,\n",
       "       1, 1, 1, 1, 1, 1, 1, 1, 1, 1, 1, 1, 1, 1, 1, 1, 1, 1, 1, 1, 1, 1,\n",
       "       1, 1, 1, 1, 1, 1, 1, 1, 1, 1, 1, 1, 1, 1, 1, 1, 1, 1, 1, 1, 1, 1,\n",
       "       1, 1, 1, 1, 0, 0, 0, 0, 0, 0, 0, 0, 0, 0, 0, 0, 0, 0, 0, 0, 0, 0,\n",
       "       0, 0, 0, 0, 0, 0, 0, 0, 0, 0, 0, 0, 0, 0, 0, 0, 0, 0, 0, 0, 0, 0,\n",
       "       0, 0, 0, 0, 0, 0, 0, 0, 0, 0, 1, 1, 1, 1, 1, 1, 1, 1, 1, 1, 1, 1,\n",
       "       1, 1, 1, 1, 1, 1, 1, 1, 1, 1, 1, 1, 1, 1, 1, 1, 1, 1, 1, 1, 1, 1,\n",
       "       1, 1, 1, 1, 1, 1, 1, 1, 1, 1, 1, 1, 1, 1, 1, 1, 0, 0, 0, 0, 0, 0,\n",
       "       0, 0, 0, 0, 0, 0, 0, 0, 0, 0, 0, 0, 0, 0, 0, 0, 0, 0, 0, 0, 0, 0,\n",
       "       0, 0, 0, 0, 0, 0, 0, 0, 0, 0, 0, 0, 0, 0, 0, 0, 0, 0, 0, 0, 0, 0,\n",
       "       1, 1, 1, 1, 1, 1, 1, 1, 1, 1, 1, 1, 1, 1, 1, 1, 1, 1, 1, 1, 1, 1,\n",
       "       1, 1, 1, 1, 1, 1, 1, 1, 1, 1, 1, 1, 1, 1, 1, 1, 1, 1, 1, 1, 1, 1,\n",
       "       1, 1, 1, 1, 1, 1, 0, 0, 0, 0, 0, 0, 0, 0, 0, 0, 0, 0, 0, 0, 0, 0,\n",
       "       0, 0, 0, 0, 0, 0, 0, 0, 0, 0, 0, 0, 0, 0, 0, 0, 0, 0, 0, 0, 0, 0,\n",
       "       0, 0, 0, 0, 0, 0, 0, 0, 0, 0, 0, 0, 1, 1, 1, 1, 1, 1, 1, 1, 1, 1,\n",
       "       1, 1, 1, 1, 1, 1, 1, 1, 1, 1, 1, 1, 1, 1, 1, 1, 1, 1, 1, 1, 1, 1,\n",
       "       1, 1, 1, 1, 1, 1, 1, 1, 1, 1, 1, 1, 1, 1, 1, 1, 1, 1, 0, 0, 0, 0,\n",
       "       0, 0, 0, 0, 0, 0, 0, 0, 0, 0, 0, 0, 0, 0, 0, 0, 0, 0, 0, 0, 0, 0,\n",
       "       0, 0, 0, 0, 0, 0, 0, 0, 0, 0, 0, 0, 0, 0, 0, 0, 0, 0, 0, 0, 0, 0,\n",
       "       0, 0, 1, 1, 1, 1, 1, 1, 1, 1, 1, 1, 1, 1, 1, 1, 1, 1, 1, 1, 1, 1,\n",
       "       1, 1, 1, 1, 1, 1, 1, 1, 1, 1, 1, 1, 1, 1, 1, 1, 1, 1, 1, 1, 1, 1,\n",
       "       1, 1, 1, 1, 1, 1, 1, 1, 0, 0, 0, 0, 0, 0, 0, 0, 0, 0, 0, 0, 0, 0,\n",
       "       0, 0, 0, 0, 0, 0, 0, 0, 0, 0, 0, 0, 0, 0, 0, 0, 0, 0, 0, 0, 0, 0,\n",
       "       0, 0, 0, 0, 0, 0, 0, 0, 0, 0, 0, 0, 0, 0, 1, 1, 1, 1, 1, 1, 1, 1,\n",
       "       1, 1, 1, 1, 1, 1, 1, 1, 1, 1, 1, 1, 1, 1, 1, 1, 1, 1, 1, 1, 1, 1,\n",
       "       1, 1, 1, 1, 1, 1, 1, 1, 1, 1, 1, 1, 1, 1, 1, 1, 1, 1, 1, 1, 0, 0,\n",
       "       0, 0, 0, 0, 0, 0, 0, 0, 0, 0, 0, 0, 0, 0, 0, 0, 0, 0, 0, 0, 0, 0,\n",
       "       0, 0, 0, 0, 0, 0, 0, 0, 0, 0, 0, 0, 0, 0, 0, 0, 0, 0, 0, 0, 0, 0,\n",
       "       0, 0, 0, 0, 1, 1, 1, 1, 1, 1, 1, 1, 1, 1, 1, 1, 1, 1, 1, 1, 1, 1,\n",
       "       1, 1, 1, 1, 1, 1, 1, 1, 1, 1, 1, 1, 1, 1, 1, 1, 1, 1, 1, 1, 1, 1,\n",
       "       1, 1, 1, 1, 1, 1, 1, 1, 1, 1])"
      ]
     },
     "execution_count": 8,
     "metadata": {},
     "output_type": "execute_result"
    }
   ],
   "source": [
    "labels"
   ]
  },
  {
   "cell_type": "code",
   "execution_count": 9,
   "metadata": {
    "collapsed": true,
    "id": "grYWVV6h4P4k"
   },
   "outputs": [],
   "source": [
    "# Split the data into train, test, and validation sets\n",
    "X_train, X_test, y_train, y_test = train_test_split(input_data, labels, test_size=0.2, random_state=1)\n"
   ]
  },
  {
   "cell_type": "code",
   "execution_count": 10,
   "metadata": {
    "colab": {
     "base_uri": "https://localhost:8080/"
    },
    "id": "BWreZSPl9M5-",
    "outputId": "fcf0563f-409b-4354-f1fa-aedb78b78b54"
   },
   "outputs": [
    {
     "data": {
      "text/plain": [
       "array([[-5.01807663e-05, -5.01807663e-05,  6.55957706e-07, ...,\n",
       "         1.00033554e-04,  2.71238503e-04,  6.06760877e-05],\n",
       "       [-1.13098860e-01, -8.08794573e-02, -3.87133695e-02, ...,\n",
       "         5.19875474e-02,  7.33478833e-03,  1.04118213e-02],\n",
       "       [-2.53590348e-04, -4.80947201e-04, -4.80947201e-04, ...,\n",
       "         6.24648388e-03,  3.99623392e-03,  3.44241597e-03],\n",
       "       ...,\n",
       "       [-1.41637493e-02, -1.19244326e-02, -9.86707956e-03, ...,\n",
       "        -4.59602801e-03, -4.74570692e-03, -1.30308839e-03],\n",
       "       [ 1.63372327e-02, -4.73981444e-03, -1.31101254e-03, ...,\n",
       "         4.84066177e-03, -2.74808388e-02, -2.23376360e-02],\n",
       "       [ 1.04430383e-02, -1.01265823e-02,  2.84810131e-03, ...,\n",
       "        -1.39240511e-02,  5.56962043e-02,  5.00000007e-02]])"
      ]
     },
     "execution_count": 10,
     "metadata": {},
     "output_type": "execute_result"
    }
   ],
   "source": [
    "X_train\n"
   ]
  },
  {
   "cell_type": "code",
   "execution_count": 11,
   "metadata": {
    "collapsed": true,
    "id": "Zodl9nEA9LUW"
   },
   "outputs": [],
   "source": [
    "# Reshape the input data to match the input shape expected by the CNN\n",
    "X_train = X_train.reshape(-1, 201, 1)\n",
    "X_test = X_test.reshape(-1, 201, 1)"
   ]
  },
  {
   "cell_type": "code",
   "execution_count": 12,
   "metadata": {
    "colab": {
     "base_uri": "https://localhost:8080/"
    },
    "id": "Japax53z9YUA",
    "outputId": "c270dd6b-4f66-41ff-d940-6b354aede695"
   },
   "outputs": [
    {
     "data": {
      "text/plain": [
       "(800, 201, 1)"
      ]
     },
     "execution_count": 12,
     "metadata": {},
     "output_type": "execute_result"
    }
   ],
   "source": [
    "X_train.shape"
   ]
  },
  {
   "cell_type": "code",
   "execution_count": 13,
   "metadata": {
    "colab": {
     "base_uri": "https://localhost:8080/"
    },
    "id": "kLRDHZ-o8L82",
    "outputId": "eabc1015-a1ab-462e-ff35-975c511966dd",
    "scrolled": true
   },
   "outputs": [
    {
     "data": {
      "text/plain": [
       "array([[[-5.01807663e-05],\n",
       "        [-5.01807663e-05],\n",
       "        [ 6.55957706e-07],\n",
       "        ...,\n",
       "        [ 1.00033554e-04],\n",
       "        [ 2.71238503e-04],\n",
       "        [ 6.06760877e-05]],\n",
       "\n",
       "       [[-1.13098860e-01],\n",
       "        [-8.08794573e-02],\n",
       "        [-3.87133695e-02],\n",
       "        ...,\n",
       "        [ 5.19875474e-02],\n",
       "        [ 7.33478833e-03],\n",
       "        [ 1.04118213e-02]],\n",
       "\n",
       "       [[-2.53590348e-04],\n",
       "        [-4.80947201e-04],\n",
       "        [-4.80947201e-04],\n",
       "        ...,\n",
       "        [ 6.24648388e-03],\n",
       "        [ 3.99623392e-03],\n",
       "        [ 3.44241597e-03]],\n",
       "\n",
       "       ...,\n",
       "\n",
       "       [[-1.41637493e-02],\n",
       "        [-1.19244326e-02],\n",
       "        [-9.86707956e-03],\n",
       "        ...,\n",
       "        [-4.59602801e-03],\n",
       "        [-4.74570692e-03],\n",
       "        [-1.30308839e-03]],\n",
       "\n",
       "       [[ 1.63372327e-02],\n",
       "        [-4.73981444e-03],\n",
       "        [-1.31101254e-03],\n",
       "        ...,\n",
       "        [ 4.84066177e-03],\n",
       "        [-2.74808388e-02],\n",
       "        [-2.23376360e-02]],\n",
       "\n",
       "       [[ 1.04430383e-02],\n",
       "        [-1.01265823e-02],\n",
       "        [ 2.84810131e-03],\n",
       "        ...,\n",
       "        [-1.39240511e-02],\n",
       "        [ 5.56962043e-02],\n",
       "        [ 5.00000007e-02]]])"
      ]
     },
     "execution_count": 13,
     "metadata": {},
     "output_type": "execute_result"
    }
   ],
   "source": [
    "X_train"
   ]
  },
  {
   "cell_type": "markdown",
   "metadata": {},
   "source": [
    "Typical structure of CNN :"
   ]
  },
  {
   "cell_type": "code",
   "execution_count": 45,
   "metadata": {
    "collapsed": true,
    "id": "SrXeyDfy4sXv"
   },
   "outputs": [],
   "source": [
    "# Define the CNN architecture\n",
    "model = keras.Sequential([\n",
    "    keras.layers.Conv1D(filters=64, kernel_size=4, activation='relu', input_shape=(201, 1)),\n",
    "    keras.layers.MaxPooling1D(pool_size=2),\n",
    "    keras.layers.Flatten(),\n",
    "    keras.layers.Dense(units=32, activation='relu'),\n",
    "    keras.layers.Dense(units=1, activation='sigmoid')\n",
    "])\n",
    "\n",
    "# Compile the model\n",
    "model.compile(optimizer='adam', loss='binary_crossentropy', metrics=['accuracy'])"
   ]
  },
  {
   "cell_type": "code",
   "execution_count": 46,
   "metadata": {},
   "outputs": [],
   "source": [
    "#from keras.utils.vis_utils import plot_model\n",
    "#plot_model(model, to_file='model.png', show_shapes=True, show_layer_names=True)"
   ]
  },
  {
   "cell_type": "code",
   "execution_count": 47,
   "metadata": {
    "colab": {
     "base_uri": "https://localhost:8080/"
    },
    "id": "cKlCpJUF4zam",
    "outputId": "1f9075dd-aec7-4b02-d134-4646793074a1",
    "scrolled": true
   },
   "outputs": [
    {
     "name": "stdout",
     "output_type": "stream",
     "text": [
      "Epoch 1/30\n",
      "16/16 [==============================] - 0s 11ms/step - loss: 0.6293 - accuracy: 0.7563 - val_loss: 0.5545 - val_accuracy: 0.8350\n",
      "Epoch 2/30\n",
      "16/16 [==============================] - 0s 6ms/step - loss: 0.5031 - accuracy: 0.8413 - val_loss: 0.4445 - val_accuracy: 0.8450\n",
      "Epoch 3/30\n",
      "16/16 [==============================] - 0s 6ms/step - loss: 0.4031 - accuracy: 0.8637 - val_loss: 0.3714 - val_accuracy: 0.8300\n",
      "Epoch 4/30\n",
      "16/16 [==============================] - 0s 6ms/step - loss: 0.3738 - accuracy: 0.8475 - val_loss: 0.3695 - val_accuracy: 0.8700\n",
      "Epoch 5/30\n",
      "16/16 [==============================] - 0s 6ms/step - loss: 0.3685 - accuracy: 0.8637 - val_loss: 0.3553 - val_accuracy: 0.8700\n",
      "Epoch 6/30\n",
      "16/16 [==============================] - 0s 6ms/step - loss: 0.3475 - accuracy: 0.8612 - val_loss: 0.3505 - val_accuracy: 0.8700\n",
      "Epoch 7/30\n",
      "16/16 [==============================] - 0s 6ms/step - loss: 0.3430 - accuracy: 0.8675 - val_loss: 0.3403 - val_accuracy: 0.8550\n",
      "Epoch 8/30\n",
      "16/16 [==============================] - 0s 6ms/step - loss: 0.3421 - accuracy: 0.8700 - val_loss: 0.3982 - val_accuracy: 0.8000\n",
      "Epoch 9/30\n",
      "16/16 [==============================] - 0s 6ms/step - loss: 0.3376 - accuracy: 0.8637 - val_loss: 0.3367 - val_accuracy: 0.8750\n",
      "Epoch 10/30\n",
      "16/16 [==============================] - 0s 5ms/step - loss: 0.3328 - accuracy: 0.8650 - val_loss: 0.3376 - val_accuracy: 0.8800\n",
      "Epoch 11/30\n",
      "16/16 [==============================] - 0s 6ms/step - loss: 0.3377 - accuracy: 0.8612 - val_loss: 0.3392 - val_accuracy: 0.8450\n",
      "Epoch 12/30\n",
      "16/16 [==============================] - 0s 5ms/step - loss: 0.3259 - accuracy: 0.8763 - val_loss: 0.3447 - val_accuracy: 0.8500\n",
      "Epoch 13/30\n",
      "16/16 [==============================] - 0s 6ms/step - loss: 0.3254 - accuracy: 0.8700 - val_loss: 0.3654 - val_accuracy: 0.8650\n",
      "Epoch 14/30\n",
      "16/16 [==============================] - 0s 6ms/step - loss: 0.3313 - accuracy: 0.8625 - val_loss: 0.3556 - val_accuracy: 0.8650\n",
      "Epoch 15/30\n",
      "16/16 [==============================] - 0s 6ms/step - loss: 0.3164 - accuracy: 0.8788 - val_loss: 0.3668 - val_accuracy: 0.8450\n",
      "Epoch 16/30\n",
      "16/16 [==============================] - 0s 6ms/step - loss: 0.3133 - accuracy: 0.8737 - val_loss: 0.3686 - val_accuracy: 0.8400\n",
      "Epoch 17/30\n",
      "16/16 [==============================] - 0s 7ms/step - loss: 0.3197 - accuracy: 0.8775 - val_loss: 0.3570 - val_accuracy: 0.8600\n",
      "Epoch 18/30\n",
      "16/16 [==============================] - 0s 6ms/step - loss: 0.3139 - accuracy: 0.8788 - val_loss: 0.3647 - val_accuracy: 0.8650\n",
      "Epoch 19/30\n",
      "16/16 [==============================] - 0s 6ms/step - loss: 0.3196 - accuracy: 0.8788 - val_loss: 0.3916 - val_accuracy: 0.8700\n",
      "Epoch 20/30\n",
      "16/16 [==============================] - 0s 6ms/step - loss: 0.3095 - accuracy: 0.8775 - val_loss: 0.3788 - val_accuracy: 0.8600\n",
      "Epoch 21/30\n",
      "16/16 [==============================] - 0s 6ms/step - loss: 0.3083 - accuracy: 0.8763 - val_loss: 0.3821 - val_accuracy: 0.8600\n",
      "Epoch 22/30\n",
      "16/16 [==============================] - 0s 6ms/step - loss: 0.3016 - accuracy: 0.8813 - val_loss: 0.3839 - val_accuracy: 0.8550\n",
      "Epoch 23/30\n",
      "16/16 [==============================] - 0s 6ms/step - loss: 0.3030 - accuracy: 0.8875 - val_loss: 0.4030 - val_accuracy: 0.8650\n",
      "Epoch 24/30\n",
      "16/16 [==============================] - 0s 6ms/step - loss: 0.2957 - accuracy: 0.8825 - val_loss: 0.3964 - val_accuracy: 0.8450\n",
      "Epoch 25/30\n",
      "16/16 [==============================] - 0s 6ms/step - loss: 0.2907 - accuracy: 0.8825 - val_loss: 0.4088 - val_accuracy: 0.8400\n",
      "Epoch 26/30\n",
      "16/16 [==============================] - 0s 6ms/step - loss: 0.2880 - accuracy: 0.8875 - val_loss: 0.4210 - val_accuracy: 0.8550\n",
      "Epoch 27/30\n",
      "16/16 [==============================] - 0s 6ms/step - loss: 0.2860 - accuracy: 0.8813 - val_loss: 0.4362 - val_accuracy: 0.8350\n",
      "Epoch 28/30\n",
      "16/16 [==============================] - 0s 6ms/step - loss: 0.2964 - accuracy: 0.8650 - val_loss: 0.4595 - val_accuracy: 0.8550\n",
      "Epoch 29/30\n",
      "16/16 [==============================] - 0s 6ms/step - loss: 0.3056 - accuracy: 0.8788 - val_loss: 0.4641 - val_accuracy: 0.8600\n",
      "Epoch 30/30\n",
      "16/16 [==============================] - 0s 6ms/step - loss: 0.3032 - accuracy: 0.8838 - val_loss: 0.4896 - val_accuracy: 0.8200\n"
     ]
    }
   ],
   "source": [
    "# Train the model\n",
    "history = model.fit(X_train, y_train, epochs=30, batch_size=50, validation_data=(X_test, y_test))\n"
   ]
  },
  {
   "cell_type": "code",
   "execution_count": 48,
   "metadata": {
    "colab": {
     "base_uri": "https://localhost:8080/"
    },
    "id": "07W2T7hF9v9I",
    "outputId": "f2a35942-2630-4d56-92db-c5b78d11bd9e"
   },
   "outputs": [
    {
     "name": "stdout",
     "output_type": "stream",
     "text": [
      "7/7 [==============================] - 0s 2ms/step - loss: 0.4896 - accuracy: 0.8200\n",
      "Test accuracy: 0.8199999928474426\n"
     ]
    }
   ],
   "source": [
    "# Evaluate the model on the test set\n",
    "test_loss, test_acc = model.evaluate(X_test, y_test)\n",
    "print('Test accuracy:', test_acc)"
   ]
  },
  {
   "cell_type": "code",
   "execution_count": 49,
   "metadata": {
    "colab": {
     "base_uri": "https://localhost:8080/",
     "height": 383
    },
    "id": "LJ4wmaE160pU",
    "outputId": "9a460fe1-b20c-41cf-df25-be0d8b2156e3"
   },
   "outputs": [
    {
     "name": "stdout",
     "output_type": "stream",
     "text": [
      "Confusion matrix:\n",
      "[[88 11]\n",
      " [25 76]]\n"
     ]
    },
    {
     "data": {
      "image/png": "[encoded data removed]",
      "text/plain": [
       "<Figure size 432x288 with 2 Axes>"
      ]
     },
     "metadata": {},
     "output_type": "display_data"
    }
   ],
   "source": [
    "# Make predictions on the test set\n",
    "test_predictions = model.predict(X_test)\n",
    "\n",
    "# Convert the predictions to binary labels (0 or 1)\n",
    "test_predictions = np.round(test_predictions).astype(int)\n",
    "\n",
    "# Create a confusion matrix\n",
    "cm = confusion_matrix(y_test, test_predictions)\n",
    "\n",
    "# Print the confusion matrix\n",
    "print('Confusion matrix:')\n",
    "print(cm)\n",
    "\n",
    "# Plot the confusion matrix as a heatmap\n",
    "sns.heatmap(cm, annot=True, cmap='Blues', fmt='g')\n",
    "plt.xlabel('Predicted label')\n",
    "plt.ylabel('True label')\n",
    "plt.show()"
   ]
  },
  {
   "cell_type": "code",
   "execution_count": 50,
   "metadata": {
    "colab": {
     "base_uri": "https://localhost:8080/",
     "height": 573
    },
    "id": "7arpbLHO6Zcw",
    "outputId": "9d35cb9d-4987-4f6c-81ba-df50db077118",
    "scrolled": false
   },
   "outputs": [
    {
     "data": {
      "image/png": "[encoded data removed]",
      "text/plain": [
       "<Figure size 432x288 with 1 Axes>"
      ]
     },
     "metadata": {},
     "output_type": "display_data"
    },
    {
     "data": {
      "image/png": "[encoded data removed]",
      "text/plain": [
       "<Figure size 432x288 with 1 Axes>"
      ]
     },
     "metadata": {},
     "output_type": "display_data"
    }
   ],
   "source": [
    "import matplotlib.pyplot as plt\n",
    "\n",
    "# Plot the training and validation loss\n",
    "plt.plot(history.history['loss'])\n",
    "plt.plot(history.history['val_loss'])\n",
    "plt.title('Model Loss')\n",
    "plt.ylabel('Loss')\n",
    "plt.xlabel('Epoch')\n",
    "plt.legend(['train', 'validation'], loc='upper right')\n",
    "plt.show()\n",
    "\n",
    "# Plot the training and validation accuracy\n",
    "plt.plot(history.history['accuracy'])\n",
    "plt.plot(history.history['val_accuracy'])\n",
    "plt.title('Model Accuracy')\n",
    "plt.ylabel('Accuracy')\n",
    "plt.xlabel('Epoch')\n",
    "plt.legend(['train', 'validation'], loc='upper left')\n",
    "plt.show()"
   ]
  },
  {
   "cell_type": "markdown",
   "metadata": {},
   "source": [
    "Learning Rate"
   ]
  },
  {
   "cell_type": "code",
   "execution_count": 54,
   "metadata": {
    "colab": {
     "base_uri": "https://localhost:8080/",
     "height": 1000
    },
    "id": "vPKFH42Kjy-q",
    "outputId": "01391aeb-6bbb-469f-d22c-a293e26cd50c",
    "scrolled": true
   },
   "outputs": [
    {
     "name": "stdout",
     "output_type": "stream",
     "text": [
      "Epoch 1/100\n",
      "16/16 [==============================] - 0s 11ms/step - loss: 0.6863 - accuracy: 0.5088 - val_loss: 0.6778 - val_accuracy: 0.5050\n",
      "Epoch 2/100\n",
      "16/16 [==============================] - 0s 6ms/step - loss: 0.6717 - accuracy: 0.5650 - val_loss: 0.6624 - val_accuracy: 0.7300\n",
      "Epoch 3/100\n",
      "16/16 [==============================] - 0s 6ms/step - loss: 0.6570 - accuracy: 0.7412 - val_loss: 0.6467 - val_accuracy: 0.7650\n",
      "Epoch 4/100\n",
      "16/16 [==============================] - 0s 6ms/step - loss: 0.6412 - accuracy: 0.7887 - val_loss: 0.6306 - val_accuracy: 0.7850\n",
      "Epoch 5/100\n",
      "16/16 [==============================] - 0s 6ms/step - loss: 0.6251 - accuracy: 0.7987 - val_loss: 0.6133 - val_accuracy: 0.7950\n",
      "Epoch 6/100\n",
      "16/16 [==============================] - 0s 6ms/step - loss: 0.6080 - accuracy: 0.8100 - val_loss: 0.5948 - val_accuracy: 0.8250\n",
      "Epoch 7/100\n",
      "16/16 [==============================] - 0s 6ms/step - loss: 0.5890 - accuracy: 0.8325 - val_loss: 0.5732 - val_accuracy: 0.8400\n",
      "Epoch 8/100\n",
      "16/16 [==============================] - 0s 6ms/step - loss: 0.5679 - accuracy: 0.8213 - val_loss: 0.5516 - val_accuracy: 0.8400\n",
      "Epoch 9/100\n",
      "16/16 [==============================] - 0s 6ms/step - loss: 0.5474 - accuracy: 0.8375 - val_loss: 0.5296 - val_accuracy: 0.8450\n",
      "Epoch 10/100\n",
      "16/16 [==============================] - 0s 5ms/step - loss: 0.5258 - accuracy: 0.8338 - val_loss: 0.5079 - val_accuracy: 0.8450\n",
      "Epoch 11/100\n",
      "16/16 [==============================] - 0s 6ms/step - loss: 0.5055 - accuracy: 0.8462 - val_loss: 0.4861 - val_accuracy: 0.8400\n",
      "Epoch 12/100\n",
      "16/16 [==============================] - 0s 6ms/step - loss: 0.4845 - accuracy: 0.8462 - val_loss: 0.4672 - val_accuracy: 0.8450\n",
      "Epoch 13/100\n",
      "16/16 [==============================] - 0s 6ms/step - loss: 0.4661 - accuracy: 0.8500 - val_loss: 0.4503 - val_accuracy: 0.8400\n",
      "Epoch 14/100\n",
      "16/16 [==============================] - 0s 6ms/step - loss: 0.4515 - accuracy: 0.8450 - val_loss: 0.4372 - val_accuracy: 0.8350\n",
      "Epoch 15/100\n",
      "16/16 [==============================] - 0s 6ms/step - loss: 0.4367 - accuracy: 0.8537 - val_loss: 0.4224 - val_accuracy: 0.8400\n",
      "Epoch 16/100\n",
      "16/16 [==============================] - 0s 6ms/step - loss: 0.4237 - accuracy: 0.8525 - val_loss: 0.4120 - val_accuracy: 0.8450\n",
      "Epoch 17/100\n",
      "16/16 [==============================] - 0s 6ms/step - loss: 0.4135 - accuracy: 0.8525 - val_loss: 0.4019 - val_accuracy: 0.8450\n",
      "Epoch 18/100\n",
      "16/16 [==============================] - 0s 6ms/step - loss: 0.4030 - accuracy: 0.8537 - val_loss: 0.3944 - val_accuracy: 0.8450\n",
      "Epoch 19/100\n",
      "16/16 [==============================] - 0s 5ms/step - loss: 0.3959 - accuracy: 0.8550 - val_loss: 0.3886 - val_accuracy: 0.8550\n",
      "Epoch 20/100\n",
      "16/16 [==============================] - 0s 6ms/step - loss: 0.3884 - accuracy: 0.8562 - val_loss: 0.3826 - val_accuracy: 0.8450\n",
      "Epoch 21/100\n",
      "16/16 [==============================] - 0s 6ms/step - loss: 0.3821 - accuracy: 0.8550 - val_loss: 0.3774 - val_accuracy: 0.8550\n",
      "Epoch 22/100\n",
      "16/16 [==============================] - 0s 5ms/step - loss: 0.3780 - accuracy: 0.8637 - val_loss: 0.3737 - val_accuracy: 0.8450\n",
      "Epoch 23/100\n",
      "16/16 [==============================] - 0s 6ms/step - loss: 0.3755 - accuracy: 0.8512 - val_loss: 0.3693 - val_accuracy: 0.8550\n",
      "Epoch 24/100\n",
      "16/16 [==============================] - 0s 6ms/step - loss: 0.3726 - accuracy: 0.8612 - val_loss: 0.3666 - val_accuracy: 0.8550\n",
      "Epoch 25/100\n",
      "16/16 [==============================] - 0s 6ms/step - loss: 0.3675 - accuracy: 0.8525 - val_loss: 0.3640 - val_accuracy: 0.8550\n",
      "Epoch 26/100\n",
      "16/16 [==============================] - 0s 6ms/step - loss: 0.3626 - accuracy: 0.8562 - val_loss: 0.3619 - val_accuracy: 0.8650\n",
      "Epoch 27/100\n",
      "16/16 [==============================] - 0s 6ms/step - loss: 0.3589 - accuracy: 0.8575 - val_loss: 0.3595 - val_accuracy: 0.8600\n",
      "Epoch 28/100\n",
      "16/16 [==============================] - 0s 6ms/step - loss: 0.3583 - accuracy: 0.8575 - val_loss: 0.3583 - val_accuracy: 0.8650\n",
      "Epoch 29/100\n",
      "16/16 [==============================] - 0s 6ms/step - loss: 0.3565 - accuracy: 0.8537 - val_loss: 0.3560 - val_accuracy: 0.8600\n",
      "Epoch 30/100\n",
      "16/16 [==============================] - ETA: 0s - loss: 0.3631 - accuracy: 0.85 - 0s 6ms/step - loss: 0.3530 - accuracy: 0.8600 - val_loss: 0.3548 - val_accuracy: 0.8600\n",
      "Epoch 31/100\n",
      "16/16 [==============================] - 0s 6ms/step - loss: 0.3529 - accuracy: 0.8537 - val_loss: 0.3551 - val_accuracy: 0.8750\n",
      "Epoch 32/100\n",
      "16/16 [==============================] - 0s 6ms/step - loss: 0.3494 - accuracy: 0.8600 - val_loss: 0.3524 - val_accuracy: 0.8450\n",
      "Epoch 33/100\n",
      "16/16 [==============================] - 0s 6ms/step - loss: 0.3497 - accuracy: 0.8550 - val_loss: 0.3513 - val_accuracy: 0.8700\n",
      "Epoch 34/100\n",
      "16/16 [==============================] - 0s 6ms/step - loss: 0.3474 - accuracy: 0.8575 - val_loss: 0.3497 - val_accuracy: 0.8700\n",
      "Epoch 35/100\n",
      "16/16 [==============================] - 0s 6ms/step - loss: 0.3471 - accuracy: 0.8600 - val_loss: 0.3492 - val_accuracy: 0.8450\n",
      "Epoch 36/100\n",
      "16/16 [==============================] - ETA: 0s - loss: 0.3399 - accuracy: 0.86 - 0s 7ms/step - loss: 0.3445 - accuracy: 0.8562 - val_loss: 0.3481 - val_accuracy: 0.8700\n",
      "Epoch 37/100\n",
      "16/16 [==============================] - 0s 7ms/step - loss: 0.3455 - accuracy: 0.8637 - val_loss: 0.3476 - val_accuracy: 0.8500\n",
      "Epoch 38/100\n",
      "16/16 [==============================] - 0s 7ms/step - loss: 0.3433 - accuracy: 0.8575 - val_loss: 0.3459 - val_accuracy: 0.8600\n",
      "Epoch 39/100\n",
      "16/16 [==============================] - 0s 7ms/step - loss: 0.3423 - accuracy: 0.8600 - val_loss: 0.3454 - val_accuracy: 0.8500\n",
      "Epoch 40/100\n",
      "16/16 [==============================] - 0s 7ms/step - loss: 0.3409 - accuracy: 0.8587 - val_loss: 0.3445 - val_accuracy: 0.8650\n",
      "Epoch 41/100\n",
      "16/16 [==============================] - 0s 7ms/step - loss: 0.3408 - accuracy: 0.8575 - val_loss: 0.3445 - val_accuracy: 0.8700\n",
      "Epoch 42/100\n",
      "16/16 [==============================] - 0s 7ms/step - loss: 0.3391 - accuracy: 0.8625 - val_loss: 0.3433 - val_accuracy: 0.8650\n",
      "Epoch 43/100\n",
      "16/16 [==============================] - 0s 6ms/step - loss: 0.3382 - accuracy: 0.8637 - val_loss: 0.3424 - val_accuracy: 0.8550\n",
      "Epoch 44/100\n",
      "16/16 [==============================] - 0s 6ms/step - loss: 0.3385 - accuracy: 0.8600 - val_loss: 0.3423 - val_accuracy: 0.8750\n",
      "Epoch 45/100\n",
      "16/16 [==============================] - 0s 7ms/step - loss: 0.3371 - accuracy: 0.8650 - val_loss: 0.3416 - val_accuracy: 0.8500\n",
      "Epoch 46/100\n",
      "16/16 [==============================] - 0s 6ms/step - loss: 0.3390 - accuracy: 0.8562 - val_loss: 0.3419 - val_accuracy: 0.8650\n",
      "Epoch 47/100\n",
      "16/16 [==============================] - 0s 6ms/step - loss: 0.3374 - accuracy: 0.8712 - val_loss: 0.3419 - val_accuracy: 0.8500\n",
      "Epoch 48/100\n",
      "16/16 [==============================] - 0s 6ms/step - loss: 0.3380 - accuracy: 0.8550 - val_loss: 0.3404 - val_accuracy: 0.8700\n",
      "Epoch 49/100\n",
      "16/16 [==============================] - 0s 7ms/step - loss: 0.3364 - accuracy: 0.8750 - val_loss: 0.3407 - val_accuracy: 0.8700\n",
      "Epoch 50/100\n",
      "16/16 [==============================] - 0s 7ms/step - loss: 0.3345 - accuracy: 0.8637 - val_loss: 0.3401 - val_accuracy: 0.8500\n",
      "Epoch 51/100\n",
      "16/16 [==============================] - 0s 7ms/step - loss: 0.3330 - accuracy: 0.8675 - val_loss: 0.3402 - val_accuracy: 0.8700\n",
      "Epoch 52/100\n",
      "16/16 [==============================] - 0s 9ms/step - loss: 0.3319 - accuracy: 0.8712 - val_loss: 0.3391 - val_accuracy: 0.8500\n",
      "Epoch 53/100\n",
      "16/16 [==============================] - 0s 6ms/step - loss: 0.3324 - accuracy: 0.8625 - val_loss: 0.3379 - val_accuracy: 0.8600\n",
      "Epoch 54/100\n",
      "16/16 [==============================] - 0s 6ms/step - loss: 0.3322 - accuracy: 0.8700 - val_loss: 0.3386 - val_accuracy: 0.8700\n",
      "Epoch 55/100\n",
      "16/16 [==============================] - 0s 7ms/step - loss: 0.3311 - accuracy: 0.8650 - val_loss: 0.3375 - val_accuracy: 0.8550\n",
      "Epoch 56/100\n",
      "16/16 [==============================] - 0s 6ms/step - loss: 0.3307 - accuracy: 0.8700 - val_loss: 0.3369 - val_accuracy: 0.8600\n",
      "Epoch 57/100\n",
      "16/16 [==============================] - 0s 6ms/step - loss: 0.3304 - accuracy: 0.8675 - val_loss: 0.3370 - val_accuracy: 0.8550\n",
      "Epoch 58/100\n"
     ]
    },
    {
     "name": "stdout",
     "output_type": "stream",
     "text": [
      "16/16 [==============================] - 0s 6ms/step - loss: 0.3297 - accuracy: 0.8687 - val_loss: 0.3376 - val_accuracy: 0.8700\n",
      "Epoch 59/100\n",
      "16/16 [==============================] - 0s 6ms/step - loss: 0.3292 - accuracy: 0.8712 - val_loss: 0.3366 - val_accuracy: 0.8600\n",
      "Epoch 60/100\n",
      "16/16 [==============================] - 0s 6ms/step - loss: 0.3287 - accuracy: 0.8712 - val_loss: 0.3372 - val_accuracy: 0.8500\n",
      "Epoch 61/100\n",
      "16/16 [==============================] - 0s 6ms/step - loss: 0.3292 - accuracy: 0.8712 - val_loss: 0.3365 - val_accuracy: 0.8600\n",
      "Epoch 62/100\n",
      "16/16 [==============================] - 0s 7ms/step - loss: 0.3282 - accuracy: 0.8662 - val_loss: 0.3368 - val_accuracy: 0.8600\n",
      "Epoch 63/100\n",
      "16/16 [==============================] - 0s 6ms/step - loss: 0.3273 - accuracy: 0.8725 - val_loss: 0.3363 - val_accuracy: 0.8600\n",
      "Epoch 64/100\n",
      "16/16 [==============================] - 0s 6ms/step - loss: 0.3265 - accuracy: 0.8725 - val_loss: 0.3363 - val_accuracy: 0.8550\n",
      "Epoch 65/100\n",
      "16/16 [==============================] - 0s 6ms/step - loss: 0.3251 - accuracy: 0.8725 - val_loss: 0.3360 - val_accuracy: 0.8600\n",
      "Epoch 66/100\n",
      "16/16 [==============================] - 0s 6ms/step - loss: 0.3250 - accuracy: 0.8725 - val_loss: 0.3366 - val_accuracy: 0.8600\n",
      "Epoch 67/100\n",
      "16/16 [==============================] - 0s 5ms/step - loss: 0.3257 - accuracy: 0.8737 - val_loss: 0.3375 - val_accuracy: 0.8600\n",
      "Epoch 68/100\n",
      "16/16 [==============================] - 0s 6ms/step - loss: 0.3255 - accuracy: 0.8687 - val_loss: 0.3361 - val_accuracy: 0.8600\n",
      "Epoch 69/100\n",
      "16/16 [==============================] - 0s 6ms/step - loss: 0.3242 - accuracy: 0.8712 - val_loss: 0.3359 - val_accuracy: 0.8600\n",
      "Epoch 70/100\n",
      "16/16 [==============================] - 0s 5ms/step - loss: 0.3234 - accuracy: 0.8763 - val_loss: 0.3368 - val_accuracy: 0.8550\n",
      "Epoch 71/100\n",
      "16/16 [==============================] - 0s 6ms/step - loss: 0.3227 - accuracy: 0.8712 - val_loss: 0.3364 - val_accuracy: 0.8600\n",
      "Epoch 72/100\n",
      "16/16 [==============================] - 0s 6ms/step - loss: 0.3220 - accuracy: 0.8737 - val_loss: 0.3364 - val_accuracy: 0.8650\n",
      "Epoch 73/100\n",
      "16/16 [==============================] - 0s 6ms/step - loss: 0.3225 - accuracy: 0.8712 - val_loss: 0.3363 - val_accuracy: 0.8700\n",
      "Epoch 74/100\n",
      "16/16 [==============================] - 0s 5ms/step - loss: 0.3211 - accuracy: 0.8750 - val_loss: 0.3361 - val_accuracy: 0.8650\n",
      "Epoch 75/100\n",
      "16/16 [==============================] - 0s 6ms/step - loss: 0.3217 - accuracy: 0.8712 - val_loss: 0.3379 - val_accuracy: 0.8600\n",
      "Epoch 76/100\n",
      "16/16 [==============================] - 0s 6ms/step - loss: 0.3200 - accuracy: 0.8712 - val_loss: 0.3376 - val_accuracy: 0.8650\n",
      "Epoch 77/100\n",
      "16/16 [==============================] - 0s 6ms/step - loss: 0.3213 - accuracy: 0.8763 - val_loss: 0.3369 - val_accuracy: 0.8600\n",
      "Epoch 78/100\n",
      "16/16 [==============================] - 0s 6ms/step - loss: 0.3208 - accuracy: 0.8750 - val_loss: 0.3374 - val_accuracy: 0.8600\n",
      "Epoch 79/100\n",
      "16/16 [==============================] - 0s 6ms/step - loss: 0.3191 - accuracy: 0.8788 - val_loss: 0.3371 - val_accuracy: 0.8650\n",
      "Epoch 80/100\n",
      "16/16 [==============================] - 0s 6ms/step - loss: 0.3194 - accuracy: 0.8763 - val_loss: 0.3373 - val_accuracy: 0.8650\n",
      "Epoch 81/100\n",
      "16/16 [==============================] - 0s 6ms/step - loss: 0.3215 - accuracy: 0.8675 - val_loss: 0.3377 - val_accuracy: 0.8650\n",
      "Epoch 82/100\n",
      "16/16 [==============================] - 0s 7ms/step - loss: 0.3236 - accuracy: 0.8725 - val_loss: 0.3374 - val_accuracy: 0.8600\n",
      "Epoch 83/100\n",
      "16/16 [==============================] - 0s 7ms/step - loss: 0.3184 - accuracy: 0.8788 - val_loss: 0.3375 - val_accuracy: 0.8650\n",
      "Epoch 84/100\n",
      "16/16 [==============================] - 0s 7ms/step - loss: 0.3175 - accuracy: 0.8712 - val_loss: 0.3387 - val_accuracy: 0.8600\n",
      "Epoch 85/100\n",
      "16/16 [==============================] - 0s 7ms/step - loss: 0.3175 - accuracy: 0.8750 - val_loss: 0.3387 - val_accuracy: 0.8650\n",
      "Epoch 86/100\n",
      "16/16 [==============================] - 0s 6ms/step - loss: 0.3159 - accuracy: 0.8750 - val_loss: 0.3391 - val_accuracy: 0.8700\n",
      "Epoch 87/100\n",
      "16/16 [==============================] - 0s 5ms/step - loss: 0.3165 - accuracy: 0.8763 - val_loss: 0.3392 - val_accuracy: 0.8650\n",
      "Epoch 88/100\n",
      "16/16 [==============================] - 0s 6ms/step - loss: 0.3178 - accuracy: 0.8700 - val_loss: 0.3396 - val_accuracy: 0.8700\n",
      "Epoch 89/100\n",
      "16/16 [==============================] - 0s 6ms/step - loss: 0.3208 - accuracy: 0.8737 - val_loss: 0.3399 - val_accuracy: 0.8650\n",
      "Epoch 90/100\n",
      "16/16 [==============================] - 0s 6ms/step - loss: 0.3192 - accuracy: 0.8725 - val_loss: 0.3404 - val_accuracy: 0.8650\n",
      "Epoch 91/100\n",
      "16/16 [==============================] - 0s 6ms/step - loss: 0.3156 - accuracy: 0.8763 - val_loss: 0.3406 - val_accuracy: 0.8600\n",
      "Epoch 92/100\n",
      "16/16 [==============================] - 0s 6ms/step - loss: 0.3143 - accuracy: 0.8763 - val_loss: 0.3407 - val_accuracy: 0.8700\n",
      "Epoch 93/100\n",
      "16/16 [==============================] - 0s 6ms/step - loss: 0.3131 - accuracy: 0.8763 - val_loss: 0.3408 - val_accuracy: 0.8700\n",
      "Epoch 94/100\n",
      "16/16 [==============================] - 0s 6ms/step - loss: 0.3130 - accuracy: 0.8750 - val_loss: 0.3415 - val_accuracy: 0.8600\n",
      "Epoch 95/100\n",
      "16/16 [==============================] - 0s 6ms/step - loss: 0.3127 - accuracy: 0.8800 - val_loss: 0.3416 - val_accuracy: 0.8600\n",
      "Epoch 96/100\n",
      "16/16 [==============================] - 0s 6ms/step - loss: 0.3128 - accuracy: 0.8725 - val_loss: 0.3410 - val_accuracy: 0.8700\n",
      "Epoch 97/100\n",
      "16/16 [==============================] - 0s 6ms/step - loss: 0.3135 - accuracy: 0.8775 - val_loss: 0.3425 - val_accuracy: 0.8700\n",
      "Epoch 98/100\n",
      "16/16 [==============================] - 0s 6ms/step - loss: 0.3120 - accuracy: 0.8763 - val_loss: 0.3425 - val_accuracy: 0.8600\n",
      "Epoch 99/100\n",
      "16/16 [==============================] - 0s 7ms/step - loss: 0.3104 - accuracy: 0.8788 - val_loss: 0.3426 - val_accuracy: 0.8700\n",
      "Epoch 100/100\n",
      "16/16 [==============================] - 0s 6ms/step - loss: 0.3103 - accuracy: 0.8763 - val_loss: 0.3434 - val_accuracy: 0.8600\n",
      "7/7 [==============================] - 0s 2ms/step - loss: 0.3434 - accuracy: 0.8600\n",
      "Test accuracy: 0.8600000143051147\n",
      "Confusion matrix:\n",
      "[[82 17]\n",
      " [11 90]]\n"
     ]
    },
    {
     "data": {
      "image/png": "[encoded data removed]",
      "text/plain": [
       "<Figure size 432x288 with 2 Axes>"
      ]
     },
     "metadata": {},
     "output_type": "display_data"
    },
    {
     "data": {
      "image/png": "[encoded data removed]",
      "text/plain": [
       "<Figure size 432x288 with 1 Axes>"
      ]
     },
     "metadata": {},
     "output_type": "display_data"
    },
    {
     "data": {
      "image/png": "[encoded data removed]",
      "text/plain": [
       "<Figure size 432x288 with 1 Axes>"
      ]
     },
     "metadata": {},
     "output_type": "display_data"
    }
   ],
   "source": [
    "from tensorflow import keras                                                                                                                                         \n",
    "from tensorflow.keras.layers import Conv1D, MaxPooling1D, Flatten, Dense, Dropout                                                                                    \n",
    "from tensorflow.keras.optimizers import Adam                                                                                                                         \n",
    "from tensorflow.keras.callbacks import EarlyStopping \n",
    "\n",
    "# Define the CNN architecture\n",
    "model = keras.Sequential([\n",
    "    keras.layers.Conv1D(filters=64, kernel_size=4, activation='relu', input_shape=(201, 1)),\n",
    "    keras.layers.MaxPooling1D(pool_size=2),\n",
    "    keras.layers.Flatten(),\n",
    "    keras.layers.Dense(units=32, activation='relu'),\n",
    "    keras.layers.Dense(units=1, activation='sigmoid')\n",
    "])\n",
    "\n",
    "#---------------------- new code ------------\n",
    "# Set the learning rate                                                                                                    \n",
    "lr = 0.0001                                                                                                                \n",
    "# Compile the model with a custom optimizer                                                                                \n",
    "optimizer = Adam(learning_rate=lr)                                                                                         \n",
    "model.compile(optimizer=optimizer, loss='binary_crossentropy', metrics=['accuracy']) \n",
    "#-------------------------------------------\n",
    "\n",
    "\n",
    "# Train the model\n",
    "history = model.fit(X_train, y_train, epochs=100, batch_size=50, validation_data=(X_test, y_test))\n",
    "\n",
    "# Evaluate the model on the test set\n",
    "test_loss, test_acc = model.evaluate(X_test, y_test)\n",
    "print('Test accuracy:', test_acc)\n",
    "\n",
    "# Make predictions on the test set\n",
    "test_predictions = model.predict(X_test)\n",
    "\n",
    "# Convert the predictions to binary labels (0 or 1)\n",
    "test_predictions = np.round(test_predictions).astype(int)\n",
    "\n",
    "# Create a confusion matrix\n",
    "cm = confusion_matrix(y_test, test_predictions)\n",
    "\n",
    "# Print the confusion matrix\n",
    "print('Confusion matrix:')\n",
    "print(cm)\n",
    "\n",
    "# Plot the confusion matrix as a heatmap\n",
    "sns.heatmap(cm, annot=True, cmap='Blues', fmt='g')\n",
    "plt.xlabel('Predicted label')\n",
    "plt.ylabel('True label')\n",
    "plt.show()\n",
    "\n",
    "# Plot the training and validation loss\n",
    "plt.plot(history.history['loss'])\n",
    "plt.plot(history.history['val_loss'])\n",
    "plt.title('Model Loss')\n",
    "plt.ylabel('Loss')\n",
    "plt.xlabel('Epoch')\n",
    "plt.legend(['train', 'validation'], loc='upper right')\n",
    "plt.show()\n",
    "\n",
    "# Plot the training and validation accuracy\n",
    "plt.plot(history.history['accuracy'])\n",
    "plt.plot(history.history['val_accuracy'])\n",
    "plt.title('Model Accuracy')\n",
    "plt.ylabel('Accuracy')\n",
    "plt.xlabel('Epoch')\n",
    "plt.legend(['train', 'validation'], loc='upper left')\n",
    "plt.show()"
   ]
  },
  {
   "cell_type": "markdown",
   "metadata": {},
   "source": [
    "Early stopping:"
   ]
  },
  {
   "cell_type": "code",
   "execution_count": 56,
   "metadata": {
    "scrolled": true
   },
   "outputs": [
    {
     "name": "stdout",
     "output_type": "stream",
     "text": [
      "Epoch 1/100\n",
      "16/16 [==============================] - 0s 11ms/step - loss: 0.6879 - accuracy: 0.4888 - val_loss: 0.6805 - val_accuracy: 0.5100\n",
      "Epoch 2/100\n",
      "16/16 [==============================] - 0s 6ms/step - loss: 0.6769 - accuracy: 0.5113 - val_loss: 0.6694 - val_accuracy: 0.5200\n",
      "Epoch 3/100\n",
      "16/16 [==============================] - 0s 6ms/step - loss: 0.6647 - accuracy: 0.5412 - val_loss: 0.6564 - val_accuracy: 0.6400\n",
      "Epoch 4/100\n",
      "16/16 [==============================] - 0s 5ms/step - loss: 0.6519 - accuracy: 0.6612 - val_loss: 0.6422 - val_accuracy: 0.7400\n",
      "Epoch 5/100\n",
      "16/16 [==============================] - 0s 6ms/step - loss: 0.6378 - accuracy: 0.7625 - val_loss: 0.6271 - val_accuracy: 0.7500\n",
      "Epoch 6/100\n",
      "16/16 [==============================] - 0s 5ms/step - loss: 0.6233 - accuracy: 0.7812 - val_loss: 0.6111 - val_accuracy: 0.7950\n",
      "Epoch 7/100\n",
      "16/16 [==============================] - 0s 6ms/step - loss: 0.6067 - accuracy: 0.8138 - val_loss: 0.5932 - val_accuracy: 0.8200\n",
      "Epoch 8/100\n",
      "16/16 [==============================] - 0s 6ms/step - loss: 0.5882 - accuracy: 0.8150 - val_loss: 0.5735 - val_accuracy: 0.8250\n",
      "Epoch 9/100\n",
      "16/16 [==============================] - 0s 6ms/step - loss: 0.5695 - accuracy: 0.8150 - val_loss: 0.5544 - val_accuracy: 0.8300\n",
      "Epoch 10/100\n",
      "16/16 [==============================] - 0s 6ms/step - loss: 0.5513 - accuracy: 0.8263 - val_loss: 0.5354 - val_accuracy: 0.8450\n",
      "Epoch 11/100\n",
      "16/16 [==============================] - 0s 5ms/step - loss: 0.5315 - accuracy: 0.8300 - val_loss: 0.5153 - val_accuracy: 0.8350\n",
      "Epoch 12/100\n",
      "16/16 [==============================] - 0s 6ms/step - loss: 0.5121 - accuracy: 0.8338 - val_loss: 0.4955 - val_accuracy: 0.8400\n",
      "Epoch 13/100\n",
      "16/16 [==============================] - 0s 6ms/step - loss: 0.4931 - accuracy: 0.8438 - val_loss: 0.4776 - val_accuracy: 0.8550\n",
      "Epoch 14/100\n",
      "16/16 [==============================] - 0s 6ms/step - loss: 0.4758 - accuracy: 0.8400 - val_loss: 0.4602 - val_accuracy: 0.8450\n",
      "Epoch 15/100\n",
      "16/16 [==============================] - 0s 6ms/step - loss: 0.4598 - accuracy: 0.8500 - val_loss: 0.4459 - val_accuracy: 0.8500\n",
      "Epoch 16/100\n",
      "16/16 [==============================] - 0s 6ms/step - loss: 0.4453 - accuracy: 0.8413 - val_loss: 0.4334 - val_accuracy: 0.8400\n",
      "Epoch 17/100\n",
      "16/16 [==============================] - 0s 6ms/step - loss: 0.4323 - accuracy: 0.8512 - val_loss: 0.4215 - val_accuracy: 0.8450\n",
      "Epoch 18/100\n",
      "16/16 [==============================] - 0s 5ms/step - loss: 0.4210 - accuracy: 0.8462 - val_loss: 0.4118 - val_accuracy: 0.8400\n",
      "Epoch 19/100\n",
      "16/16 [==============================] - 0s 6ms/step - loss: 0.4105 - accuracy: 0.8575 - val_loss: 0.4029 - val_accuracy: 0.8450\n",
      "Epoch 20/100\n",
      "16/16 [==============================] - 0s 6ms/step - loss: 0.4013 - accuracy: 0.8537 - val_loss: 0.3947 - val_accuracy: 0.8400\n",
      "Epoch 21/100\n",
      "16/16 [==============================] - 0s 6ms/step - loss: 0.3929 - accuracy: 0.8550 - val_loss: 0.3888 - val_accuracy: 0.8400\n",
      "Epoch 22/100\n",
      "16/16 [==============================] - 0s 6ms/step - loss: 0.3876 - accuracy: 0.8562 - val_loss: 0.3831 - val_accuracy: 0.8450\n",
      "Epoch 23/100\n",
      "16/16 [==============================] - 0s 6ms/step - loss: 0.3817 - accuracy: 0.8525 - val_loss: 0.3796 - val_accuracy: 0.8450\n",
      "Epoch 24/100\n",
      "16/16 [==============================] - 0s 6ms/step - loss: 0.3770 - accuracy: 0.8550 - val_loss: 0.3755 - val_accuracy: 0.8450\n",
      "Epoch 25/100\n",
      "16/16 [==============================] - 0s 6ms/step - loss: 0.3724 - accuracy: 0.8575 - val_loss: 0.3729 - val_accuracy: 0.8600\n",
      "Epoch 26/100\n",
      "16/16 [==============================] - 0s 6ms/step - loss: 0.3674 - accuracy: 0.8550 - val_loss: 0.3700 - val_accuracy: 0.8600\n",
      "Epoch 27/100\n",
      "16/16 [==============================] - 0s 6ms/step - loss: 0.3641 - accuracy: 0.8587 - val_loss: 0.3677 - val_accuracy: 0.8500\n",
      "Epoch 28/100\n",
      "16/16 [==============================] - 0s 6ms/step - loss: 0.3603 - accuracy: 0.8612 - val_loss: 0.3655 - val_accuracy: 0.8550\n",
      "Epoch 29/100\n",
      "16/16 [==============================] - 0s 6ms/step - loss: 0.3584 - accuracy: 0.8612 - val_loss: 0.3641 - val_accuracy: 0.8550\n",
      "Epoch 30/100\n",
      "16/16 [==============================] - 0s 6ms/step - loss: 0.3571 - accuracy: 0.8625 - val_loss: 0.3629 - val_accuracy: 0.8450\n",
      "Epoch 31/100\n",
      "16/16 [==============================] - 0s 6ms/step - loss: 0.3545 - accuracy: 0.8587 - val_loss: 0.3612 - val_accuracy: 0.8600\n",
      "Epoch 32/100\n",
      "16/16 [==============================] - 0s 6ms/step - loss: 0.3528 - accuracy: 0.8525 - val_loss: 0.3597 - val_accuracy: 0.8600\n",
      "Epoch 33/100\n",
      "16/16 [==============================] - 0s 5ms/step - loss: 0.3511 - accuracy: 0.8612 - val_loss: 0.3582 - val_accuracy: 0.8600\n",
      "Epoch 34/100\n",
      "16/16 [==============================] - 0s 5ms/step - loss: 0.3495 - accuracy: 0.8637 - val_loss: 0.3577 - val_accuracy: 0.8550\n",
      "Epoch 35/100\n",
      "16/16 [==============================] - 0s 6ms/step - loss: 0.3496 - accuracy: 0.8612 - val_loss: 0.3570 - val_accuracy: 0.8650\n",
      "Epoch 36/100\n",
      "16/16 [==============================] - 0s 5ms/step - loss: 0.3477 - accuracy: 0.8575 - val_loss: 0.3558 - val_accuracy: 0.8650\n",
      "Epoch 37/100\n",
      "16/16 [==============================] - 0s 6ms/step - loss: 0.3466 - accuracy: 0.8662 - val_loss: 0.3547 - val_accuracy: 0.8600\n",
      "Epoch 38/100\n",
      "16/16 [==============================] - 0s 5ms/step - loss: 0.3464 - accuracy: 0.8537 - val_loss: 0.3542 - val_accuracy: 0.8650\n",
      "Epoch 39/100\n",
      "16/16 [==============================] - 0s 6ms/step - loss: 0.3425 - accuracy: 0.8637 - val_loss: 0.3533 - val_accuracy: 0.8600\n",
      "Epoch 40/100\n",
      "16/16 [==============================] - 0s 6ms/step - loss: 0.3410 - accuracy: 0.8612 - val_loss: 0.3522 - val_accuracy: 0.8600\n",
      "Epoch 41/100\n",
      "16/16 [==============================] - 0s 6ms/step - loss: 0.3404 - accuracy: 0.8675 - val_loss: 0.3522 - val_accuracy: 0.8600\n",
      "Epoch 42/100\n",
      "16/16 [==============================] - 0s 6ms/step - loss: 0.3399 - accuracy: 0.8600 - val_loss: 0.3508 - val_accuracy: 0.8600\n",
      "Epoch 43/100\n",
      "16/16 [==============================] - 0s 6ms/step - loss: 0.3395 - accuracy: 0.8675 - val_loss: 0.3511 - val_accuracy: 0.8800\n",
      "Epoch 44/100\n",
      "16/16 [==============================] - 0s 7ms/step - loss: 0.3394 - accuracy: 0.8625 - val_loss: 0.3504 - val_accuracy: 0.8600\n",
      "Epoch 45/100\n",
      "16/16 [==============================] - 0s 6ms/step - loss: 0.3362 - accuracy: 0.8687 - val_loss: 0.3492 - val_accuracy: 0.8600\n",
      "Epoch 46/100\n",
      "16/16 [==============================] - ETA: 0s - loss: 0.3294 - accuracy: 0.86 - 0s 6ms/step - loss: 0.3369 - accuracy: 0.8650 - val_loss: 0.3502 - val_accuracy: 0.8750\n",
      "Epoch 47/100\n",
      "16/16 [==============================] - 0s 6ms/step - loss: 0.3360 - accuracy: 0.8662 - val_loss: 0.3485 - val_accuracy: 0.8550\n",
      "Epoch 48/100\n",
      "16/16 [==============================] - 0s 6ms/step - loss: 0.3352 - accuracy: 0.8725 - val_loss: 0.3482 - val_accuracy: 0.8700\n",
      "Epoch 49/100\n",
      "16/16 [==============================] - 0s 6ms/step - loss: 0.3349 - accuracy: 0.8625 - val_loss: 0.3471 - val_accuracy: 0.8700\n",
      "Epoch 50/100\n",
      "16/16 [==============================] - 0s 6ms/step - loss: 0.3331 - accuracy: 0.8700 - val_loss: 0.3474 - val_accuracy: 0.8700\n",
      "Epoch 51/100\n",
      "16/16 [==============================] - 0s 5ms/step - loss: 0.3325 - accuracy: 0.8687 - val_loss: 0.3466 - val_accuracy: 0.8650\n",
      "Epoch 52/100\n",
      "16/16 [==============================] - 0s 6ms/step - loss: 0.3331 - accuracy: 0.8737 - val_loss: 0.3466 - val_accuracy: 0.8650\n",
      "Epoch 53/100\n",
      "16/16 [==============================] - 0s 5ms/step - loss: 0.3333 - accuracy: 0.8612 - val_loss: 0.3458 - val_accuracy: 0.8700\n",
      "Epoch 54/100\n",
      "16/16 [==============================] - 0s 6ms/step - loss: 0.3313 - accuracy: 0.8775 - val_loss: 0.3459 - val_accuracy: 0.8650\n",
      "Epoch 55/100\n",
      "16/16 [==============================] - 0s 6ms/step - loss: 0.3302 - accuracy: 0.8675 - val_loss: 0.3452 - val_accuracy: 0.8700\n",
      "Epoch 56/100\n",
      "16/16 [==============================] - 0s 6ms/step - loss: 0.3296 - accuracy: 0.8712 - val_loss: 0.3454 - val_accuracy: 0.8650\n",
      "Epoch 57/100\n",
      "16/16 [==============================] - 0s 7ms/step - loss: 0.3290 - accuracy: 0.8700 - val_loss: 0.3445 - val_accuracy: 0.8700\n",
      "Epoch 58/100\n"
     ]
    },
    {
     "name": "stdout",
     "output_type": "stream",
     "text": [
      "16/16 [==============================] - 0s 7ms/step - loss: 0.3284 - accuracy: 0.8712 - val_loss: 0.3448 - val_accuracy: 0.8650\n",
      "Epoch 59/100\n",
      "16/16 [==============================] - 0s 6ms/step - loss: 0.3273 - accuracy: 0.8700 - val_loss: 0.3445 - val_accuracy: 0.8650\n",
      "Epoch 60/100\n",
      "16/16 [==============================] - 0s 6ms/step - loss: 0.3268 - accuracy: 0.8725 - val_loss: 0.3444 - val_accuracy: 0.8650\n",
      "Epoch 61/100\n",
      "16/16 [==============================] - 0s 6ms/step - loss: 0.3287 - accuracy: 0.8675 - val_loss: 0.3446 - val_accuracy: 0.8650\n",
      "Epoch 62/100\n",
      "16/16 [==============================] - 0s 6ms/step - loss: 0.3271 - accuracy: 0.8687 - val_loss: 0.3434 - val_accuracy: 0.8650\n",
      "Epoch 63/100\n",
      "16/16 [==============================] - 0s 6ms/step - loss: 0.3249 - accuracy: 0.8737 - val_loss: 0.3441 - val_accuracy: 0.8700\n",
      "Epoch 64/100\n",
      "16/16 [==============================] - 0s 6ms/step - loss: 0.3246 - accuracy: 0.8750 - val_loss: 0.3439 - val_accuracy: 0.8650\n",
      "Epoch 65/100\n",
      "16/16 [==============================] - 0s 6ms/step - loss: 0.3252 - accuracy: 0.8662 - val_loss: 0.3433 - val_accuracy: 0.8650\n",
      "Epoch 66/100\n",
      "16/16 [==============================] - 0s 6ms/step - loss: 0.3249 - accuracy: 0.8763 - val_loss: 0.3437 - val_accuracy: 0.8650\n",
      "Epoch 67/100\n",
      "16/16 [==============================] - 0s 6ms/step - loss: 0.3232 - accuracy: 0.8700 - val_loss: 0.3437 - val_accuracy: 0.8700\n",
      "Epoch 68/100\n",
      "16/16 [==============================] - 0s 6ms/step - loss: 0.3235 - accuracy: 0.8712 - val_loss: 0.3433 - val_accuracy: 0.8700\n",
      "Epoch 69/100\n",
      "16/16 [==============================] - 0s 7ms/step - loss: 0.3232 - accuracy: 0.8712 - val_loss: 0.3431 - val_accuracy: 0.8700\n",
      "Epoch 70/100\n",
      "16/16 [==============================] - 0s 6ms/step - loss: 0.3220 - accuracy: 0.8750 - val_loss: 0.3430 - val_accuracy: 0.8700\n",
      "Epoch 71/100\n",
      "16/16 [==============================] - 0s 6ms/step - loss: 0.3212 - accuracy: 0.8687 - val_loss: 0.3425 - val_accuracy: 0.8650\n",
      "Epoch 72/100\n",
      "16/16 [==============================] - 0s 6ms/step - loss: 0.3209 - accuracy: 0.8725 - val_loss: 0.3432 - val_accuracy: 0.8650\n",
      "Epoch 73/100\n",
      "16/16 [==============================] - 0s 5ms/step - loss: 0.3207 - accuracy: 0.8725 - val_loss: 0.3437 - val_accuracy: 0.8650\n",
      "Epoch 74/100\n",
      "16/16 [==============================] - 0s 5ms/step - loss: 0.3201 - accuracy: 0.8700 - val_loss: 0.3433 - val_accuracy: 0.8700\n",
      "Epoch 75/100\n",
      "16/16 [==============================] - 0s 6ms/step - loss: 0.3194 - accuracy: 0.8763 - val_loss: 0.3445 - val_accuracy: 0.8600\n",
      "Epoch 76/100\n",
      "16/16 [==============================] - 0s 6ms/step - loss: 0.3201 - accuracy: 0.8763 - val_loss: 0.3440 - val_accuracy: 0.8700\n",
      "7/7 [==============================] - 0s 2ms/step - loss: 0.3440 - accuracy: 0.8700\n",
      "Test accuracy: 0.8700000047683716\n",
      "Confusion matrix:\n",
      "[[85 14]\n",
      " [12 89]]\n"
     ]
    },
    {
     "data": {
      "image/png": "[encoded data removed]",
      "text/plain": [
       "<Figure size 432x288 with 2 Axes>"
      ]
     },
     "metadata": {},
     "output_type": "display_data"
    },
    {
     "data": {
      "image/png": "[encoded data removed]",
      "text/plain": [
       "<Figure size 432x288 with 1 Axes>"
      ]
     },
     "metadata": {},
     "output_type": "display_data"
    },
    {
     "data": {
      "image/png": "[encoded data removed]",
      "text/plain": [
       "<Figure size 432x288 with 1 Axes>"
      ]
     },
     "metadata": {},
     "output_type": "display_data"
    }
   ],
   "source": [
    "from tensorflow import keras                                                                                                                                         \n",
    "from tensorflow.keras.layers import Conv1D, MaxPooling1D, Flatten, Dense, Dropout                                                                                    \n",
    "from tensorflow.keras.optimizers import Adam                                                                                                                         \n",
    "from tensorflow.keras.callbacks import EarlyStopping \n",
    "\n",
    "# Define the CNN architecture\n",
    "model = keras.Sequential([\n",
    "    keras.layers.Conv1D(filters=64, kernel_size=4, activation='relu', input_shape=(201, 1)),\n",
    "    keras.layers.MaxPooling1D(pool_size=2),\n",
    "    keras.layers.Flatten(),\n",
    "    keras.layers.Dense(units=32, activation='relu'),\n",
    "    keras.layers.Dense(units=1, activation='sigmoid')\n",
    "])\n",
    "\n",
    "#---------------------- new code ------------\n",
    "# Set the learning rate                                                                                                    \n",
    "lr = 0.0001                                                                                                                \n",
    "# Compile the model with a custom optimizer                                                                                \n",
    "optimizer = Adam(learning_rate=lr)                                                                                         \n",
    "model.compile(optimizer=optimizer, loss='binary_crossentropy', metrics=['accuracy']) \n",
    "\n",
    "# Set up early stopping                                                                                                    \n",
    "early_stop = EarlyStopping(monitor='val_loss', patience=5)              \n",
    "\n",
    "# Train the model\n",
    "history = model.fit(X_train, y_train, epochs=100, batch_size=50, validation_data=(X_test, y_test), callbacks=[early_stop])\n",
    "#-------------------------------------------\n",
    "\n",
    "\n",
    "\n",
    "# Evaluate the model on the test set\n",
    "test_loss, test_acc = model.evaluate(X_test, y_test)\n",
    "print('Test accuracy:', test_acc)\n",
    "\n",
    "# Make predictions on the test set\n",
    "test_predictions = model.predict(X_test)\n",
    "\n",
    "# Convert the predictions to binary labels (0 or 1)\n",
    "test_predictions = np.round(test_predictions).astype(int)\n",
    "\n",
    "# Create a confusion matrix\n",
    "cm = confusion_matrix(y_test, test_predictions)\n",
    "\n",
    "# Print the confusion matrix\n",
    "print('Confusion matrix:')\n",
    "print(cm)\n",
    "\n",
    "# Plot the confusion matrix as a heatmap\n",
    "sns.heatmap(cm, annot=True, cmap='Blues', fmt='g')\n",
    "plt.xlabel('Predicted label')\n",
    "plt.ylabel('True label')\n",
    "plt.show()\n",
    "\n",
    "# Plot the training and validation loss\n",
    "plt.plot(history.history['loss'])\n",
    "plt.plot(history.history['val_loss'])\n",
    "plt.title('Model Loss')\n",
    "plt.ylabel('Loss')\n",
    "plt.xlabel('Epoch')\n",
    "plt.legend(['train', 'validation'], loc='upper right')\n",
    "plt.show()\n",
    "\n",
    "# Plot the training and validation accuracy\n",
    "plt.plot(history.history['accuracy'])\n",
    "plt.plot(history.history['val_accuracy'])\n",
    "plt.title('Model Accuracy')\n",
    "plt.ylabel('Accuracy')\n",
    "plt.xlabel('Epoch')\n",
    "plt.legend(['train', 'validation'], loc='upper left')\n",
    "plt.show()"
   ]
  },
  {
   "cell_type": "markdown",
   "metadata": {},
   "source": [
    "Remaining things:\n",
    "dropout layers\n",
    "grid search\n",
    "explain confusion matrix\n",
    "model_checkpoints\n",
    "activation functions"
   ]
  },
  {
   "cell_type": "code",
   "execution_count": null,
   "metadata": {
    "colab": {
     "base_uri": "https://localhost:8080/",
     "height": 519
    },
    "id": "69jk569oBn_V",
    "outputId": "893d424f-5ef4-4ba0-ef0b-1d4407626899"
   },
   "outputs": [],
   "source": [
    "from tensorflow.keras.callbacks import ModelCheckpoint\n",
    "\n",
    "# define the checkpoint filepath\n",
    "checkpoint_filepath = 'model_weights_{epoch:02d}.h5'\n",
    "\n",
    "# define the ModelCheckpoint callback to save the weights\n",
    "checkpoint = ModelCheckpoint(checkpoint_filepath, save_weights_only=True, save_freq='epoch')\n",
    "\n",
    "# train the model using the checkpoint callback\n",
    "model.fit(X_train, y_train, epochs=40, validation_data=(X_test, y_test), callbacks=[checkpoint])"
   ]
  },
  {
   "cell_type": "code",
   "execution_count": null,
   "metadata": {
    "colab": {
     "base_uri": "https://localhost:8080/"
    },
    "id": "vekG_7bp9dSz",
    "outputId": "f2b6c14d-c611-4d88-8ef8-c0aa743bd7a4"
   },
   "outputs": [],
   "source": [
    "from google.colab import drive\n",
    "drive.mount('/content/gdrive')"
   ]
  },
  {
   "cell_type": "code",
   "execution_count": null,
   "metadata": {
    "collapsed": true,
    "id": "QRd9Ue_B_KMr"
   },
   "outputs": [],
   "source": [
    "# assume that `model` is your trained CNN model\n",
    "model.save('model_architecture.h5')"
   ]
  },
  {
   "cell_type": "code",
   "execution_count": null,
   "metadata": {
    "collapsed": true,
    "id": "RZMVg4KB7z33"
   },
   "outputs": [],
   "source": [
    "from tensorflow.keras.models import load_model\n",
    "\n",
    "# Load the model architecture\n",
    "model = load_model('model_architecture.h5')\n",
    "\n",
    "# Load the weights at epoch 20\n",
    "model.load_weights('model_weights_20.h5')"
   ]
  },
  {
   "cell_type": "code",
   "execution_count": null,
   "metadata": {
    "colab": {
     "base_uri": "https://localhost:8080/",
     "height": 130
    },
    "id": "ni92Aaib_JPt",
    "outputId": "890b0f0d-25c3-42e3-ec5d-c11bd28f43da"
   },
   "outputs": [],
   "source": []
  },
  {
   "cell_type": "code",
   "execution_count": null,
   "metadata": {
    "colab": {
     "base_uri": "https://localhost:8080/",
     "height": 383
    },
    "id": "-O86133lD7O6",
    "outputId": "8776223d-6376-452a-c5c6-578601c26a09"
   },
   "outputs": [],
   "source": [
    "# Evaluate the model on the test set\n",
    "test_loss, test_acc = model.evaluate(X_test, y_test)\n",
    "print('Test accuracy:', test_acc)\n",
    "\n",
    "# Make predictions on the test set\n",
    "test_predictions = model.predict(X_test)\n",
    "\n",
    "# Convert the predictions to binary labels (0 or 1)\n",
    "test_predictions = np.round(test_predictions).astype(int)\n",
    "\n",
    "# Create a confusion matrix\n",
    "cm = confusion_matrix(y_test, test_predictions)\n",
    "\n",
    "# Print the confusion matrix\n",
    "print('Confusion matrix:')\n",
    "print(cm)\n",
    "\n",
    "# Plot the confusion matrix as a heatmap\n",
    "sns.heatmap(cm, annot=True, cmap='Blues', fmt='g')\n",
    "plt.xlabel('Predicted label')\n",
    "plt.ylabel('True label')\n",
    "plt.show()"
   ]
  },
  {
   "cell_type": "code",
   "execution_count": null,
   "metadata": {
    "collapsed": true,
    "id": "e8mlBiPmH0U9"
   },
   "outputs": [],
   "source": []
  },
  {
   "cell_type": "code",
   "execution_count": null,
   "metadata": {
    "collapsed": true,
    "id": "LxAY043g8413"
   },
   "outputs": [],
   "source": [
    "model.load_weights?\n"
   ]
  },
  {
   "cell_type": "code",
   "execution_count": null,
   "metadata": {
    "colab": {
     "base_uri": "https://localhost:8080/"
    },
    "id": "jHniliEI8-Ba",
    "outputId": "17628a04-af87-42bb-acf4-67609e491918"
   },
   "outputs": [],
   "source": [
    "import os\n",
    "print(os.getcwd())\n"
   ]
  },
  {
   "cell_type": "code",
   "execution_count": null,
   "metadata": {
    "collapsed": true,
    "id": "HCYNbUKeBm5v"
   },
   "outputs": [],
   "source": [
    "/content/model_weights_12.h5"
   ]
  },
  {
   "cell_type": "code",
   "execution_count": null,
   "metadata": {
    "colab": {
     "base_uri": "https://localhost:8080/",
     "height": 435
    },
    "id": "7hw6cM8d_az6",
    "outputId": "a7c3a76f-76b9-45d5-ca5f-f2c3685f89e0"
   },
   "outputs": [],
   "source": [
    "from keras.wrappers.scikit_learn import KerasClassifier\n",
    "from sklearn.model_selection import GridSearchCV\n",
    "\n",
    "# Define a function that returns the compiled model\n",
    "def create_model(filters=64, kernel_size=4, units=32):\n",
    "    model = keras.Sequential([\n",
    "        keras.layers.Conv1D(filters=filters, kernel_size=kernel_size, activation='relu', input_shape=(201, 1)),\n",
    "        keras.layers.MaxPooling1D(pool_size=2),\n",
    "        keras.layers.Flatten(),\n",
    "        keras.layers.Dense(units=units, activation='relu'),\n",
    "        keras.layers.Dense(units=1, activation='sigmoid')\n",
    "    ])\n",
    "    model.compile(optimizer='adam', loss='binary_crossentropy', metrics=['accuracy'])\n",
    "    return model\n",
    "\n",
    "# Create a KerasClassifier using your model function\n",
    "model = KerasClassifier(build_fn=create_model, epochs=10, batch_size=32, verbose=0)\n",
    "\n",
    "# Define the hyperparameter grid to search over\n",
    "param_grid = {'filters': [32, 64, 128], 'kernel_size': [3, 4, 5], 'units': [16, 32, 64]}\n",
    "\n",
    "# Perform the grid search\n",
    "grid = GridSearchCV(estimator=model, param_grid=param_grid, n_jobs=-1)\n",
    "grid_result = grid.fit(X_train, y_train)\n",
    "\n",
    "# Print the best parameters and the corresponding mean test score\n",
    "print('Best parameters:', grid_result.best_params_)\n",
    "print('Best test score:', grid_result.best_score_)"
   ]
  },
  {
   "cell_type": "code",
   "execution_count": null,
   "metadata": {
    "collapsed": true,
    "id": "VsOOxcNv7cYR"
   },
   "outputs": [],
   "source": []
  },
  {
   "cell_type": "code",
   "execution_count": null,
   "metadata": {
    "colab": {
     "base_uri": "https://localhost:8080/"
    },
    "id": "Bi15rf3F7R6I",
    "outputId": "0d6ab174-7556-4757-f7d0-3b69d578d388"
   },
   "outputs": [],
   "source": [
    "from tensorflow import keras                                                                                                                                         \n",
    "from tensorflow.keras.layers import Conv1D, MaxPooling1D, Flatten, Dense, Dropout                                                                                    \n",
    "from tensorflow.keras.optimizers import Adam                                                                                                                         \n",
    "from tensorflow.keras.callbacks import EarlyStopping \n",
    "\n",
    "# Define the CNN architecture                                                                                                                                        \n",
    "model = keras.Sequential([                                                                                                                                           \n",
    "    Conv1D(filters=32, kernel_size=8, activation='relu', input_shape=(201, 1)),                                          \n",
    "    MaxPooling1D(pool_size=8),                                                                                                                                       \n",
    "    Dropout(0.1),                                                                                                                                                    \n",
    "    Conv1D(filters=64, kernel_size=4, activation='relu'),                                                                \n",
    "    MaxPooling1D(pool_size=4),                                                                                             \n",
    "    Dropout(0.15),                                                                                                         \n",
    "    Conv1D(filters=128, kernel_size=3, activation='relu'),                     \n",
    "    MaxPooling1D(pool_size=2),                                                                                             \n",
    "    Dropout(0.25),                                                                                                         \n",
    "    Flatten(),                                                                                                             \n",
    "    Dense(units=128, activation='relu'),                                        \n",
    "    Dropout(0.25),                                                                                                         \n",
    "    Dense(units=64, activation='relu'),                                                                                    \n",
    "    Dropout(0.15),                                                                                                         \n",
    "    Dense(units=32, activation='relu'),                                                                                    \n",
    "    Dropout(0.1),                                                                                                          \n",
    "    Dense(units=16, activation='relu'),                                                                                    \n",
    "    Dense(units=1, activation='sigmoid')                                                                                   \n",
    "])                                                                                                                         \n",
    "# Set the learning rate                                                                                                    \n",
    "lr = 0.0001                                                                                                                \n",
    "# Compile the model with a custom optimizer                                                                                \n",
    "optimizer = Adam(learning_rate=lr)                                                                                         \n",
    "model.compile(optimizer=optimizer, loss='binary_crossentropy', metrics=['accuracy'])                                       \n",
    "# Set up early stopping                                                                                                    \n",
    "early_stop = EarlyStopping(monitor='val_loss', patience=45)                                                                \n",
    "# Train the model                                                                                                          \n",
    "history = model.fit(X_train, y_train, epochs=1000, batch_size=10, validation_data=(X_test, y_test), callbacks=[early_stop])\n",
    "# Evaluate the model on the test set                     \n",
    "test_loss, test_acc = model.evaluate(X_test, y_test)     \n",
    "print('Test accuracy:', test_acc)                                                     \n",
    "# Make predictions on the test set                       \n",
    "test_predictions = model.predict(X_test)                                                                                 \n",
    "# Convert the predictions to binary labels (0 or 1)      \n",
    "test_predictions = np.round(test_predictions).astype(int)\n",
    "# Create a confusion matrix                           \n",
    "cm = confusion_matrix(y_test, test_predictions)       "
   ]
  },
  {
   "cell_type": "code",
   "execution_count": null,
   "metadata": {
    "collapsed": true,
    "id": "tBICFjO7HO7p"
   },
   "outputs": [],
   "source": []
  },
  {
   "cell_type": "code",
   "execution_count": null,
   "metadata": {
    "colab": {
     "base_uri": "https://localhost:8080/",
     "height": 573
    },
    "id": "3euwHAAfHPgm",
    "outputId": "539b96f8-0798-4146-8dd9-a4a3b95d67f8"
   },
   "outputs": [],
   "source": [
    "import matplotlib.pyplot as plt\n",
    "\n",
    "# Plot the training and validation loss\n",
    "plt.plot(history.history['loss'])\n",
    "plt.plot(history.history['val_loss'])\n",
    "plt.title('Model Loss')\n",
    "plt.ylabel('Loss')\n",
    "plt.xlabel('Epoch')\n",
    "plt.legend(['train', 'validation'], loc='upper right')\n",
    "plt.show()\n",
    "\n",
    "# Plot the training and validation accuracy\n",
    "plt.plot(history.history['accuracy'])\n",
    "plt.plot(history.history['val_accuracy'])\n",
    "plt.title('Model Accuracy')\n",
    "plt.ylabel('Accuracy')\n",
    "plt.xlabel('Epoch')\n",
    "plt.legend(['train', 'validation'], loc='upper left')\n",
    "plt.show()"
   ]
  },
  {
   "cell_type": "code",
   "execution_count": null,
   "metadata": {
    "collapsed": true,
    "id": "ik3FgP0FH1yJ"
   },
   "outputs": [],
   "source": []
  },
  {
   "cell_type": "code",
   "execution_count": null,
   "metadata": {
    "colab": {
     "base_uri": "https://localhost:8080/",
     "height": 383
    },
    "id": "XEW4WyOKH2RH",
    "outputId": "ac409e0f-40a1-49d7-8a66-a90e851c3683"
   },
   "outputs": [],
   "source": [
    "# Evaluate the model on the test set\n",
    "test_loss, test_acc = model.evaluate(X_test, y_test)\n",
    "print('Test accuracy:', test_acc)\n",
    "\n",
    "# Make predictions on the test set\n",
    "test_predictions = model.predict(X_test)\n",
    "\n",
    "# Convert the predictions to binary labels (0 or 1)\n",
    "test_predictions = np.round(test_predictions).astype(int)\n",
    "\n",
    "# Create a confusion matrix\n",
    "cm = confusion_matrix(y_test, test_predictions)\n",
    "\n",
    "# Print the confusion matrix\n",
    "print('Confusion matrix:')\n",
    "print(cm)\n",
    "\n",
    "# Plot the confusion matrix as a heatmap\n",
    "sns.heatmap(cm, annot=True, cmap='Blues', fmt='g')\n",
    "plt.xlabel('Predicted label')\n",
    "plt.ylabel('True label')\n",
    "plt.show()"
   ]
  }
 ],
 "metadata": {
  "colab": {
   "provenance": []
  },
  "kernelspec": {
   "display_name": "Python 3",
   "language": "python",
   "name": "python3"
  },
  "language_info": {
   "codemirror_mode": {
    "name": "ipython",
    "version": 3
   },
   "file_extension": ".py",
   "mimetype": "text/x-python",
   "name": "python",
   "nbconvert_exporter": "python",
   "pygments_lexer": "ipython3",
   "version": "3.6.8"
  }
 },
 "nbformat": 4,
 "nbformat_minor": 1
}

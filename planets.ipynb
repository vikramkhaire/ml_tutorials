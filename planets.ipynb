{
 "cells": [
  {
   "cell_type": "code",
   "execution_count": 5,
   "metadata": {
    "collapsed": true,
    "id": "3pR3rTfgVYnz"
   },
   "outputs": [],
   "source": [
    "%matplotlib inline\n",
    "import numpy as np\n",
    "from sklearn.model_selection import train_test_split\n",
    "from tensorflow import keras\n",
    "import astropy.table as tab\n",
    "from sklearn.metrics import confusion_matrix\n",
    "import seaborn as sns\n",
    "import matplotlib.pyplot as plt\n"
   ]
  },
  {
   "cell_type": "code",
   "execution_count": 6,
   "metadata": {
    "collapsed": true,
    "id": "dObMyrM33tLP"
   },
   "outputs": [],
   "source": [
    "# Load the data and preprocess the labels as shown above\n",
    "#data_table = tab.Table.read('/content/drive/MyDrive/Colab-Notebooks/workshop_planet_local.fits')\n",
    "data_table = tab.Table.read('workshop_planet_local.fits')\n"
   ]
  },
  {
   "cell_type": "code",
   "execution_count": 7,
   "metadata": {
    "id": "buaO9Lzn7vUF",
    "scrolled": true
   },
   "outputs": [
    {
     "data": {
      "text/html": [
       "<i>Table length=1000</i>\n",
       "<table id=\"table139899987226184\" class=\"table-striped table-bordered table-condensed\">\n",
       "<thead><tr><th>id</th><th>class</th><th>local [201]</th><th>av_training_set</th><th>depth</th><th>duration</th><th>impact</th><th>period</th><th>max_mult_ev</th><th>model_snr</th><th>plnt_num</th><th>time0bk</th><th>spline_bkspace</th></tr></thead>\n",
       "<thead><tr><th>int64</th><th>bytes3</th><th>float64</th><th>bytes3</th><th>float64</th><th>float64</th><th>float64</th><th>float64</th><th>float64</th><th>float64</th><th>int64</th><th>float64</th><th>float64</th></tr></thead>\n",
       "<tr><td>6507433</td><td>PC</td><td>-0.003685545176267624 .. 0.049602705985307693</td><td>PC</td><td>3522.0</td><td>0.05329166725277901</td><td>0.9376999735832214</td><td>4.742549896240234</td><td>91.80000305175781</td><td>106.30000305175781</td><td>1</td><td>133.13800048828125</td><td>0.5</td></tr>\n",
       "<tr><td>10272640</td><td>PC</td><td>-0.0009759697713889182 .. -0.003937867935746908</td><td>PC</td><td>13170.0</td><td>0.15862500667572021</td><td>0.06650999933481216</td><td>3.770550012588501</td><td>658.5</td><td>639.2999877929688</td><td>1</td><td>134.656005859375</td><td>0.5</td></tr>\n",
       "<tr><td>9761573</td><td>PC</td><td>-0.014799775555729866 .. 0.03045441210269928</td><td>PC</td><td>2207.0</td><td>0.11837500333786011</td><td>1.0</td><td>7.441659927368164</td><td>63.369998931884766</td><td>59.81999969482422</td><td>1</td><td>137.3090057373047</td><td>0.8952139616012573</td></tr>\n",
       "<tr><td>10352938</td><td>PC</td><td>0.0001071926235454157 .. 0.0107777314260602</td><td>AFP</td><td>6161.0</td><td>0.29762500524520874</td><td>0.34470000863075256</td><td>6.471749782562256</td><td>255.3000030517578</td><td>260.70001220703125</td><td>1</td><td>136.3520050048828</td><td>0.7372382879257202</td></tr>\n",
       "<tr><td>6946199</td><td>PC</td><td>-0.004892205819487572 .. -0.042620230466127396</td><td>PC</td><td>1350.0</td><td>0.23079167306423187</td><td>0.29980000853538513</td><td>37.101200103759766</td><td>48.47999954223633</td><td>50.189998626708984</td><td>2</td><td>147.8730010986328</td><td>20.0</td></tr>\n",
       "<tr><td>10583066</td><td>PC</td><td>-0.0829419493675232 .. 0.02255663089454174</td><td>PC</td><td>1896.0</td><td>0.06616666913032532</td><td>0.3499000072479248</td><td>6.029300212860107</td><td>54.720001220703125</td><td>64.80999755859375</td><td>1</td><td>135.42799377441406</td><td>5.138038635253906</td></tr>\n",
       "<tr><td>11027624</td><td>PC</td><td>-0.006467259488999844 .. 0.0021557530853897333</td><td>PC</td><td>1997.0</td><td>1.00041663646698</td><td>0.3253999948501587</td><td>394.625</td><td>76.05999755859375</td><td>107.69999694824219</td><td>1</td><td>177.8459930419922</td><td>1.9462679624557495</td></tr>\n",
       "<tr><td>5640085</td><td>PC</td><td>0.043257515877485275 .. -0.06920187175273895</td><td>PC</td><td>1182.0</td><td>0.11366666853427887</td><td>0.7210999727249146</td><td>10.139599800109863</td><td>51.7599983215332</td><td>56.779998779296875</td><td>1</td><td>137.89199829101562</td><td>0.8952139616012573</td></tr>\n",
       "<tr><td>2989404</td><td>PC</td><td>-0.011556240729987621 .. 0.04006163403391838</td><td>PC</td><td>133.39999389648438</td><td>0.09537500143051147</td><td>0.5020999908447266</td><td>1.678320050239563</td><td>53.66999816894531</td><td>59.63999938964844</td><td>2</td><td>132.697998046875</td><td>2.3633148670196533</td></tr>\n",
       "<tr><td>10656508</td><td>PC</td><td>0.014008358120918274 .. -0.0016211919719353318</td><td>PC</td><td>7968.0</td><td>0.2029999941587448</td><td>0.38670000433921814</td><td>124.03600311279297</td><td>187.1999969482422</td><td>174.6999969482422</td><td>1</td><td>136.01499938964844</td><td>3.484652519226074</td></tr>\n",
       "<tr><td>...</td><td>...</td><td>...</td><td>...</td><td>...</td><td>...</td><td>...</td><td>...</td><td>...</td><td>...</td><td>...</td><td>...</td><td>...</td></tr>\n",
       "<tr><td>4832197</td><td>AFP</td><td>0.07353904098272324 .. 0.09011198580265045</td><td>AFP</td><td>10650.0</td><td>0.06433333456516266</td><td>0.9000999927520752</td><td>0.9477239847183228</td><td>2972.0</td><td>1747.0</td><td>1</td><td>132.39599609375</td><td>0.5</td></tr>\n",
       "<tr><td>8299947</td><td>AFP</td><td>-0.0007290078792721033 .. -8.748094114707783e-05</td><td>AFP</td><td>393800.0</td><td>0.18920832872390747</td><td>0.46650001406669617</td><td>2.682770013809204</td><td>2003.0</td><td>1127.0</td><td>1</td><td>131.5679931640625</td><td>1.087040662765503</td></tr>\n",
       "<tr><td>8560285</td><td>AFP</td><td>0.0011314699659124017 .. -0.002455076202750206</td><td>AFP</td><td>51250.0</td><td>0.44208332896232605</td><td>0.789900004863739</td><td>85.34089660644531</td><td>1157.0</td><td>876.5</td><td>1</td><td>215.52999877929688</td><td>7.575917720794678</td></tr>\n",
       "<tr><td>5481416</td><td>AFP</td><td>-0.01769576594233513 .. -0.0042583392933011055</td><td>AFP</td><td>1256.0</td><td>0.09200000017881393</td><td>0.22910000383853912</td><td>2.3840599060058594</td><td>48.7599983215332</td><td>53.40999984741211</td><td>1</td><td>133.43800354003906</td><td>1.319972038269043</td></tr>\n",
       "<tr><td>6758917</td><td>AFP</td><td>-0.1130988597869873 .. 0.0104118213057518</td><td>AFP</td><td>3025.0</td><td>0.06279166787862778</td><td>0.8996999859809875</td><td>2.236109972000122</td><td>162.5</td><td>179.1999969482422</td><td>2</td><td>132.75100708007812</td><td>0.5</td></tr>\n",
       "<tr><td>2305543</td><td>AFP</td><td>0.03441477194428444 .. 0.03268295153975487</td><td>AFP</td><td>103800.0</td><td>0.1002916693687439</td><td>0.784600019454956</td><td>0.6811379790306091</td><td>7455.0</td><td>4293.0</td><td>1</td><td>131.57699584960938</td><td>0.5</td></tr>\n",
       "<tr><td>8655458</td><td>AFP</td><td>-0.03697723522782326 .. -0.026133904233574867</td><td>AFP</td><td>8816.0</td><td>0.16087499260902405</td><td>0.8726000189781189</td><td>1.5941599607467651</td><td>998.9000244140625</td><td>594.5999755859375</td><td>1</td><td>132.63499450683594</td><td>0.8952139616012573</td></tr>\n",
       "<tr><td>11231334</td><td>AFP</td><td>0.009312780573964119 .. 0.0006422607693821192</td><td>AFP</td><td>1156.0</td><td>0.23983334004878998</td><td>1.0</td><td>4.157470226287842</td><td>135.60000610351562</td><td>141.89999389648438</td><td>1</td><td>135.07899475097656</td><td>0.5</td></tr>\n",
       "<tr><td>12167361</td><td>AFP</td><td>0.004677373915910721 .. 0.0038320652674883604</td><td>AFP</td><td>2107.0</td><td>0.11050000041723251</td><td>0.9998999834060669</td><td>47.93090057373047</td><td>283.3999938964844</td><td>283.1000061035156</td><td>1</td><td>179.0959930419922</td><td>0.5</td></tr>\n",
       "<tr><td>9966115</td><td>AFP</td><td>0.0009396919049322605 .. -0.006259019486606121</td><td>AFP</td><td>3648.0</td><td>0.1977500021457672</td><td>0.8855000138282776</td><td>8.947429656982422</td><td>555.5999755859375</td><td>531.5</td><td>2</td><td>136.52000427246094</td><td>0.8952139616012573</td></tr>\n",
       "</table>"
      ],
      "text/plain": [
       "<Table length=1000>\n",
       "   id    class  ...      time0bk         spline_bkspace  \n",
       " int64   bytes3 ...      float64            float64      \n",
       "-------- ------ ... ------------------ ------------------\n",
       " 6507433     PC ... 133.13800048828125                0.5\n",
       "10272640     PC ...   134.656005859375                0.5\n",
       " 9761573     PC ...  137.3090057373047 0.8952139616012573\n",
       "10352938     PC ...  136.3520050048828 0.7372382879257202\n",
       " 6946199     PC ...  147.8730010986328               20.0\n",
       "10583066     PC ... 135.42799377441406  5.138038635253906\n",
       "11027624     PC ...  177.8459930419922 1.9462679624557495\n",
       " 5640085     PC ... 137.89199829101562 0.8952139616012573\n",
       " 2989404     PC ...   132.697998046875 2.3633148670196533\n",
       "10656508     PC ... 136.01499938964844  3.484652519226074\n",
       "     ...    ... ...                ...                ...\n",
       " 4832197    AFP ...    132.39599609375                0.5\n",
       " 8299947    AFP ...  131.5679931640625  1.087040662765503\n",
       " 8560285    AFP ... 215.52999877929688  7.575917720794678\n",
       " 5481416    AFP ... 133.43800354003906  1.319972038269043\n",
       " 6758917    AFP ... 132.75100708007812                0.5\n",
       " 2305543    AFP ... 131.57699584960938                0.5\n",
       " 8655458    AFP ... 132.63499450683594 0.8952139616012573\n",
       "11231334    AFP ... 135.07899475097656                0.5\n",
       "12167361    AFP ...  179.0959930419922                0.5\n",
       " 9966115    AFP ... 136.52000427246094 0.8952139616012573"
      ]
     },
     "execution_count": 7,
     "metadata": {},
     "output_type": "execute_result"
    }
   ],
   "source": [
    "data_table"
   ]
  },
  {
   "cell_type": "markdown",
   "metadata": {},
   "source": [
    "A subset of data taken from Shallue & Vandenburg 2018 (https://ui.adsabs.harvard.edu/abs/2018AJ....155...94S/abstract).\n",
    "\n",
    "The first step in the 'data preparation' is to phase-fold each light curve using a pipeline that determines the period. Next, a region centered on the transit is selected. The size of this region is a fixed multiple of the transit duration. This region is divided into 201 bins of equal size, and the flux in each bin is then normalized to have a median value of 0 and a maximum depth of -1.\n"
   ]
  },
  {
   "cell_type": "code",
   "execution_count": 40,
   "metadata": {},
   "outputs": [
    {
     "data": {
      "image/png": "[encoded data removed]",
      "text/plain": [
       "<Figure size 432x288 with 1 Axes>"
      ]
     },
     "metadata": {},
     "output_type": "display_data"
    }
   ],
   "source": [
    "# random example plots\n",
    "i = 42\n",
    "plt.plot(data_table['local'][i], label = data_table['class'][i])\n",
    "plt.legend()\n",
    "plt.grid()\n",
    "plt.show()"
   ]
  },
  {
   "cell_type": "code",
   "execution_count": 38,
   "metadata": {},
   "outputs": [
    {
     "data": {
      "image/png": "[encoded data removed]",
      "text/plain": [
       "<Figure size 432x288 with 1 Axes>"
      ]
     },
     "metadata": {},
     "output_type": "display_data"
    }
   ],
   "source": [
    "# random example plots\n",
    "i = 52\n",
    "plt.plot(data_table['local'][i], label = data_table['class'][i])\n",
    "plt.legend()\n",
    "plt.grid()\n",
    "plt.show()"
   ]
  },
  {
   "cell_type": "code",
   "execution_count": 41,
   "metadata": {
    "collapsed": true,
    "id": "a8C6I4Cy7qFR"
   },
   "outputs": [],
   "source": [
    "input_data = np.array(data_table['local'].tolist())\n",
    "\n",
    "# PC == Planet candidate &  AFP =  Astrophysical False Positives\n",
    "labels = np.where(data_table['class'] == 'PC', 0, 1)"
   ]
  },
  {
   "cell_type": "code",
   "execution_count": 42,
   "metadata": {
    "colab": {
     "base_uri": "https://localhost:8080/"
    },
    "id": "QrVPVsa-79nq",
    "outputId": "e1fc4e03-0cf0-462e-ce88-fd9f93e63224",
    "scrolled": true
   },
   "outputs": [
    {
     "data": {
      "text/plain": [
       "array([[-0.00368555,  0.00375317,  0.01159763, ...,  0.03120879,\n",
       "         0.03120879,  0.04960271],\n",
       "       [-0.00097597, -0.00297161, -0.00210246, ..., -0.00151494,\n",
       "        -0.0019131 , -0.00393787],\n",
       "       [-0.01479978,  0.03045441,  0.03045441, ...,  0.03916331,\n",
       "         0.03045441,  0.03045441],\n",
       "       ...,\n",
       "       [ 0.00931278,  0.00620852,  0.00299722, ...,  0.00085635,\n",
       "        -0.00042817,  0.00064226],\n",
       "       [ 0.00467737,  0.00580445,  0.00580445, ..., -0.00636799,\n",
       "        -0.00636799,  0.00383207],\n",
       "       [ 0.00093969, -0.00484948, -0.00481592, ..., -0.00761822,\n",
       "        -0.00605766, -0.00625902]])"
      ]
     },
     "execution_count": 42,
     "metadata": {},
     "output_type": "execute_result"
    }
   ],
   "source": [
    "input_data"
   ]
  },
  {
   "cell_type": "code",
   "execution_count": 43,
   "metadata": {
    "colab": {
     "base_uri": "https://localhost:8080/"
    },
    "id": "BtovTwti8EuE",
    "outputId": "ad71797d-8e9a-4dbc-a8e7-ad2c1619505c",
    "scrolled": true
   },
   "outputs": [
    {
     "data": {
      "text/plain": [
       "array([0, 0, 0, 0, 0, 0, 0, 0, 0, 0, 0, 0, 0, 0, 0, 0, 0, 0, 0, 0, 0, 0,\n",
       "       0, 0, 0, 0, 0, 0, 0, 0, 0, 0, 0, 0, 0, 0, 0, 0, 0, 0, 0, 0, 0, 0,\n",
       "       0, 0, 0, 0, 0, 0, 1, 1, 1, 1, 1, 1, 1, 1, 1, 1, 1, 1, 1, 1, 1, 1,\n",
       "       1, 1, 1, 1, 1, 1, 1, 1, 1, 1, 1, 1, 1, 1, 1, 1, 1, 1, 1, 1, 1, 1,\n",
       "       1, 1, 1, 1, 1, 1, 1, 1, 1, 1, 1, 1, 0, 0, 0, 0, 0, 0, 0, 0, 0, 0,\n",
       "       0, 0, 0, 0, 0, 0, 0, 0, 0, 0, 0, 0, 0, 0, 0, 0, 0, 0, 0, 0, 0, 0,\n",
       "       0, 0, 0, 0, 0, 0, 0, 0, 0, 0, 0, 0, 0, 0, 0, 0, 0, 0, 1, 1, 1, 1,\n",
       "       1, 1, 1, 1, 1, 1, 1, 1, 1, 1, 1, 1, 1, 1, 1, 1, 1, 1, 1, 1, 1, 1,\n",
       "       1, 1, 1, 1, 1, 1, 1, 1, 1, 1, 1, 1, 1, 1, 1, 1, 1, 1, 1, 1, 1, 1,\n",
       "       1, 1, 0, 0, 0, 0, 0, 0, 0, 0, 0, 0, 0, 0, 0, 0, 0, 0, 0, 0, 0, 0,\n",
       "       0, 0, 0, 0, 0, 0, 0, 0, 0, 0, 0, 0, 0, 0, 0, 0, 0, 0, 0, 0, 0, 0,\n",
       "       0, 0, 0, 0, 0, 0, 0, 0, 1, 1, 1, 1, 1, 1, 1, 1, 1, 1, 1, 1, 1, 1,\n",
       "       1, 1, 1, 1, 1, 1, 1, 1, 1, 1, 1, 1, 1, 1, 1, 1, 1, 1, 1, 1, 1, 1,\n",
       "       1, 1, 1, 1, 1, 1, 1, 1, 1, 1, 1, 1, 1, 1, 0, 0, 0, 0, 0, 0, 0, 0,\n",
       "       0, 0, 0, 0, 0, 0, 0, 0, 0, 0, 0, 0, 0, 0, 0, 0, 0, 0, 0, 0, 0, 0,\n",
       "       0, 0, 0, 0, 0, 0, 0, 0, 0, 0, 0, 0, 0, 0, 0, 0, 0, 0, 0, 0, 1, 1,\n",
       "       1, 1, 1, 1, 1, 1, 1, 1, 1, 1, 1, 1, 1, 1, 1, 1, 1, 1, 1, 1, 1, 1,\n",
       "       1, 1, 1, 1, 1, 1, 1, 1, 1, 1, 1, 1, 1, 1, 1, 1, 1, 1, 1, 1, 1, 1,\n",
       "       1, 1, 1, 1, 0, 0, 0, 0, 0, 0, 0, 0, 0, 0, 0, 0, 0, 0, 0, 0, 0, 0,\n",
       "       0, 0, 0, 0, 0, 0, 0, 0, 0, 0, 0, 0, 0, 0, 0, 0, 0, 0, 0, 0, 0, 0,\n",
       "       0, 0, 0, 0, 0, 0, 0, 0, 0, 0, 1, 1, 1, 1, 1, 1, 1, 1, 1, 1, 1, 1,\n",
       "       1, 1, 1, 1, 1, 1, 1, 1, 1, 1, 1, 1, 1, 1, 1, 1, 1, 1, 1, 1, 1, 1,\n",
       "       1, 1, 1, 1, 1, 1, 1, 1, 1, 1, 1, 1, 1, 1, 1, 1, 0, 0, 0, 0, 0, 0,\n",
       "       0, 0, 0, 0, 0, 0, 0, 0, 0, 0, 0, 0, 0, 0, 0, 0, 0, 0, 0, 0, 0, 0,\n",
       "       0, 0, 0, 0, 0, 0, 0, 0, 0, 0, 0, 0, 0, 0, 0, 0, 0, 0, 0, 0, 0, 0,\n",
       "       1, 1, 1, 1, 1, 1, 1, 1, 1, 1, 1, 1, 1, 1, 1, 1, 1, 1, 1, 1, 1, 1,\n",
       "       1, 1, 1, 1, 1, 1, 1, 1, 1, 1, 1, 1, 1, 1, 1, 1, 1, 1, 1, 1, 1, 1,\n",
       "       1, 1, 1, 1, 1, 1, 0, 0, 0, 0, 0, 0, 0, 0, 0, 0, 0, 0, 0, 0, 0, 0,\n",
       "       0, 0, 0, 0, 0, 0, 0, 0, 0, 0, 0, 0, 0, 0, 0, 0, 0, 0, 0, 0, 0, 0,\n",
       "       0, 0, 0, 0, 0, 0, 0, 0, 0, 0, 0, 0, 1, 1, 1, 1, 1, 1, 1, 1, 1, 1,\n",
       "       1, 1, 1, 1, 1, 1, 1, 1, 1, 1, 1, 1, 1, 1, 1, 1, 1, 1, 1, 1, 1, 1,\n",
       "       1, 1, 1, 1, 1, 1, 1, 1, 1, 1, 1, 1, 1, 1, 1, 1, 1, 1, 0, 0, 0, 0,\n",
       "       0, 0, 0, 0, 0, 0, 0, 0, 0, 0, 0, 0, 0, 0, 0, 0, 0, 0, 0, 0, 0, 0,\n",
       "       0, 0, 0, 0, 0, 0, 0, 0, 0, 0, 0, 0, 0, 0, 0, 0, 0, 0, 0, 0, 0, 0,\n",
       "       0, 0, 1, 1, 1, 1, 1, 1, 1, 1, 1, 1, 1, 1, 1, 1, 1, 1, 1, 1, 1, 1,\n",
       "       1, 1, 1, 1, 1, 1, 1, 1, 1, 1, 1, 1, 1, 1, 1, 1, 1, 1, 1, 1, 1, 1,\n",
       "       1, 1, 1, 1, 1, 1, 1, 1, 0, 0, 0, 0, 0, 0, 0, 0, 0, 0, 0, 0, 0, 0,\n",
       "       0, 0, 0, 0, 0, 0, 0, 0, 0, 0, 0, 0, 0, 0, 0, 0, 0, 0, 0, 0, 0, 0,\n",
       "       0, 0, 0, 0, 0, 0, 0, 0, 0, 0, 0, 0, 0, 0, 1, 1, 1, 1, 1, 1, 1, 1,\n",
       "       1, 1, 1, 1, 1, 1, 1, 1, 1, 1, 1, 1, 1, 1, 1, 1, 1, 1, 1, 1, 1, 1,\n",
       "       1, 1, 1, 1, 1, 1, 1, 1, 1, 1, 1, 1, 1, 1, 1, 1, 1, 1, 1, 1, 0, 0,\n",
       "       0, 0, 0, 0, 0, 0, 0, 0, 0, 0, 0, 0, 0, 0, 0, 0, 0, 0, 0, 0, 0, 0,\n",
       "       0, 0, 0, 0, 0, 0, 0, 0, 0, 0, 0, 0, 0, 0, 0, 0, 0, 0, 0, 0, 0, 0,\n",
       "       0, 0, 0, 0, 1, 1, 1, 1, 1, 1, 1, 1, 1, 1, 1, 1, 1, 1, 1, 1, 1, 1,\n",
       "       1, 1, 1, 1, 1, 1, 1, 1, 1, 1, 1, 1, 1, 1, 1, 1, 1, 1, 1, 1, 1, 1,\n",
       "       1, 1, 1, 1, 1, 1, 1, 1, 1, 1])"
      ]
     },
     "execution_count": 43,
     "metadata": {},
     "output_type": "execute_result"
    }
   ],
   "source": [
    "labels"
   ]
  },
  {
   "cell_type": "code",
   "execution_count": 44,
   "metadata": {
    "collapsed": true,
    "id": "grYWVV6h4P4k"
   },
   "outputs": [],
   "source": [
    "# Split the data into train, test, and validation sets\n",
    "X_train, X_test, y_train, y_test = train_test_split(input_data, labels, test_size=0.2, random_state=1)\n"
   ]
  },
  {
   "cell_type": "code",
   "execution_count": 45,
   "metadata": {
    "colab": {
     "base_uri": "https://localhost:8080/"
    },
    "id": "BWreZSPl9M5-",
    "outputId": "fcf0563f-409b-4354-f1fa-aedb78b78b54"
   },
   "outputs": [
    {
     "data": {
      "text/plain": [
       "array([[-5.01807663e-05, -5.01807663e-05,  6.55957706e-07, ...,\n",
       "         1.00033554e-04,  2.71238503e-04,  6.06760877e-05],\n",
       "       [-1.13098860e-01, -8.08794573e-02, -3.87133695e-02, ...,\n",
       "         5.19875474e-02,  7.33478833e-03,  1.04118213e-02],\n",
       "       [-2.53590348e-04, -4.80947201e-04, -4.80947201e-04, ...,\n",
       "         6.24648388e-03,  3.99623392e-03,  3.44241597e-03],\n",
       "       ...,\n",
       "       [-1.41637493e-02, -1.19244326e-02, -9.86707956e-03, ...,\n",
       "        -4.59602801e-03, -4.74570692e-03, -1.30308839e-03],\n",
       "       [ 1.63372327e-02, -4.73981444e-03, -1.31101254e-03, ...,\n",
       "         4.84066177e-03, -2.74808388e-02, -2.23376360e-02],\n",
       "       [ 1.04430383e-02, -1.01265823e-02,  2.84810131e-03, ...,\n",
       "        -1.39240511e-02,  5.56962043e-02,  5.00000007e-02]])"
      ]
     },
     "execution_count": 45,
     "metadata": {},
     "output_type": "execute_result"
    }
   ],
   "source": [
    "X_train\n"
   ]
  },
  {
   "cell_type": "code",
   "execution_count": 46,
   "metadata": {
    "collapsed": true,
    "id": "Zodl9nEA9LUW"
   },
   "outputs": [],
   "source": [
    "# Reshape the input data to match the input shape expected by the CNN\n",
    "X_train = X_train.reshape(-1, 201, 1)\n",
    "X_test = X_test.reshape(-1, 201, 1)"
   ]
  },
  {
   "cell_type": "code",
   "execution_count": 47,
   "metadata": {
    "colab": {
     "base_uri": "https://localhost:8080/"
    },
    "id": "Japax53z9YUA",
    "outputId": "c270dd6b-4f66-41ff-d940-6b354aede695"
   },
   "outputs": [
    {
     "data": {
      "text/plain": [
       "(800, 201, 1)"
      ]
     },
     "execution_count": 47,
     "metadata": {},
     "output_type": "execute_result"
    }
   ],
   "source": [
    "X_train.shape"
   ]
  },
  {
   "cell_type": "code",
   "execution_count": 48,
   "metadata": {
    "colab": {
     "base_uri": "https://localhost:8080/"
    },
    "id": "kLRDHZ-o8L82",
    "outputId": "eabc1015-a1ab-462e-ff35-975c511966dd",
    "scrolled": true
   },
   "outputs": [
    {
     "data": {
      "text/plain": [
       "array([[[-5.01807663e-05],\n",
       "        [-5.01807663e-05],\n",
       "        [ 6.55957706e-07],\n",
       "        ...,\n",
       "        [ 1.00033554e-04],\n",
       "        [ 2.71238503e-04],\n",
       "        [ 6.06760877e-05]],\n",
       "\n",
       "       [[-1.13098860e-01],\n",
       "        [-8.08794573e-02],\n",
       "        [-3.87133695e-02],\n",
       "        ...,\n",
       "        [ 5.19875474e-02],\n",
       "        [ 7.33478833e-03],\n",
       "        [ 1.04118213e-02]],\n",
       "\n",
       "       [[-2.53590348e-04],\n",
       "        [-4.80947201e-04],\n",
       "        [-4.80947201e-04],\n",
       "        ...,\n",
       "        [ 6.24648388e-03],\n",
       "        [ 3.99623392e-03],\n",
       "        [ 3.44241597e-03]],\n",
       "\n",
       "       ...,\n",
       "\n",
       "       [[-1.41637493e-02],\n",
       "        [-1.19244326e-02],\n",
       "        [-9.86707956e-03],\n",
       "        ...,\n",
       "        [-4.59602801e-03],\n",
       "        [-4.74570692e-03],\n",
       "        [-1.30308839e-03]],\n",
       "\n",
       "       [[ 1.63372327e-02],\n",
       "        [-4.73981444e-03],\n",
       "        [-1.31101254e-03],\n",
       "        ...,\n",
       "        [ 4.84066177e-03],\n",
       "        [-2.74808388e-02],\n",
       "        [-2.23376360e-02]],\n",
       "\n",
       "       [[ 1.04430383e-02],\n",
       "        [-1.01265823e-02],\n",
       "        [ 2.84810131e-03],\n",
       "        ...,\n",
       "        [-1.39240511e-02],\n",
       "        [ 5.56962043e-02],\n",
       "        [ 5.00000007e-02]]])"
      ]
     },
     "execution_count": 48,
     "metadata": {},
     "output_type": "execute_result"
    }
   ],
   "source": [
    "X_train"
   ]
  },
  {
   "cell_type": "markdown",
   "metadata": {},
   "source": [
    "Typical structure of CNN :"
   ]
  },
  {
   "cell_type": "code",
   "execution_count": 49,
   "metadata": {
    "collapsed": true,
    "id": "SrXeyDfy4sXv"
   },
   "outputs": [],
   "source": [
    "# Define the CNN architecture\n",
    "model = keras.Sequential([\n",
    "    keras.layers.Conv1D(filters=64, kernel_size=16, activation='relu', input_shape=(201, 1)),\n",
    "    keras.layers.MaxPooling1D(pool_size=2),\n",
    "    keras.layers.Flatten(),\n",
    "    keras.layers.Dense(units=64, activation='relu'),\n",
    "    keras.layers.Dense(units=1, activation='sigmoid')\n",
    "])\n",
    "\n",
    "# Compile the model\n",
    "model.compile(optimizer='adam', loss='binary_crossentropy', metrics=['accuracy'])"
   ]
  },
  {
   "cell_type": "code",
   "execution_count": 51,
   "metadata": {},
   "outputs": [
    {
     "name": "stdout",
     "output_type": "stream",
     "text": [
      "('You must install pydot (`pip install pydot`) and install graphviz (see instructions at https://graphviz.gitlab.io/download/) ', 'for plot_model/model_to_dot to work.')\n"
     ]
    }
   ],
   "source": [
    "from keras.utils.vis_utils import plot_model\n",
    "\n",
    "plot_model(model, to_file='model.png', show_shapes=True, show_layer_names=True)"
   ]
  },
  {
   "cell_type": "code",
   "execution_count": 37,
   "metadata": {
    "colab": {
     "base_uri": "https://localhost:8080/"
    },
    "id": "cKlCpJUF4zam",
    "outputId": "1f9075dd-aec7-4b02-d134-4646793074a1"
   },
   "outputs": [
    {
     "name": "stdout",
     "output_type": "stream",
     "text": [
      "Epoch 1/50\n",
      "8/8 [==============================] - 1s 58ms/step - loss: 0.6652 - accuracy: 0.5975 - val_loss: 0.6146 - val_accuracy: 0.7950\n",
      "Epoch 2/50\n",
      "8/8 [==============================] - 0s 33ms/step - loss: 0.5798 - accuracy: 0.8000 - val_loss: 0.5135 - val_accuracy: 0.8350\n",
      "Epoch 3/50\n",
      "8/8 [==============================] - 0s 37ms/step - loss: 0.4879 - accuracy: 0.8175 - val_loss: 0.4287 - val_accuracy: 0.8450\n",
      "Epoch 4/50\n",
      "8/8 [==============================] - 0s 38ms/step - loss: 0.4084 - accuracy: 0.8512 - val_loss: 0.3866 - val_accuracy: 0.8300\n",
      "Epoch 5/50\n",
      "8/8 [==============================] - 0s 41ms/step - loss: 0.3736 - accuracy: 0.8462 - val_loss: 0.3770 - val_accuracy: 0.8350\n",
      "Epoch 6/50\n",
      "8/8 [==============================] - 0s 36ms/step - loss: 0.3542 - accuracy: 0.8525 - val_loss: 0.3782 - val_accuracy: 0.8600\n",
      "Epoch 7/50\n",
      "8/8 [==============================] - 0s 38ms/step - loss: 0.3463 - accuracy: 0.8625 - val_loss: 0.3853 - val_accuracy: 0.8750\n",
      "Epoch 8/50\n",
      "8/8 [==============================] - 0s 39ms/step - loss: 0.3344 - accuracy: 0.8662 - val_loss: 0.3814 - val_accuracy: 0.8650\n",
      "Epoch 9/50\n",
      "8/8 [==============================] - 0s 39ms/step - loss: 0.3279 - accuracy: 0.8662 - val_loss: 0.3836 - val_accuracy: 0.8650\n",
      "Epoch 10/50\n",
      "8/8 [==============================] - 0s 38ms/step - loss: 0.3270 - accuracy: 0.8725 - val_loss: 0.3866 - val_accuracy: 0.8450\n",
      "Epoch 11/50\n",
      "8/8 [==============================] - 0s 45ms/step - loss: 0.3220 - accuracy: 0.8637 - val_loss: 0.3916 - val_accuracy: 0.8750\n",
      "Epoch 12/50\n",
      "8/8 [==============================] - 0s 38ms/step - loss: 0.3127 - accuracy: 0.8687 - val_loss: 0.3993 - val_accuracy: 0.8650\n",
      "Epoch 13/50\n",
      "8/8 [==============================] - 0s 38ms/step - loss: 0.3116 - accuracy: 0.8675 - val_loss: 0.4031 - val_accuracy: 0.8600\n",
      "Epoch 14/50\n",
      "8/8 [==============================] - 0s 37ms/step - loss: 0.3035 - accuracy: 0.8763 - val_loss: 0.4107 - val_accuracy: 0.8650\n",
      "Epoch 15/50\n",
      "8/8 [==============================] - 0s 39ms/step - loss: 0.3084 - accuracy: 0.8763 - val_loss: 0.4347 - val_accuracy: 0.8750\n",
      "Epoch 16/50\n",
      "8/8 [==============================] - 0s 40ms/step - loss: 0.3111 - accuracy: 0.8700 - val_loss: 0.4550 - val_accuracy: 0.8650\n",
      "Epoch 17/50\n",
      "8/8 [==============================] - 0s 37ms/step - loss: 0.3054 - accuracy: 0.8775 - val_loss: 0.4441 - val_accuracy: 0.8600\n",
      "Epoch 18/50\n",
      "8/8 [==============================] - 0s 40ms/step - loss: 0.2973 - accuracy: 0.8775 - val_loss: 0.4476 - val_accuracy: 0.8550\n",
      "Epoch 19/50\n",
      "8/8 [==============================] - 0s 37ms/step - loss: 0.2909 - accuracy: 0.8775 - val_loss: 0.4520 - val_accuracy: 0.8600\n",
      "Epoch 20/50\n",
      "8/8 [==============================] - 0s 36ms/step - loss: 0.2996 - accuracy: 0.8737 - val_loss: 0.4569 - val_accuracy: 0.8550\n",
      "Epoch 21/50\n",
      "8/8 [==============================] - 0s 33ms/step - loss: 0.2915 - accuracy: 0.8763 - val_loss: 0.4659 - val_accuracy: 0.8600\n",
      "Epoch 22/50\n",
      "8/8 [==============================] - 0s 32ms/step - loss: 0.2968 - accuracy: 0.8838 - val_loss: 0.4802 - val_accuracy: 0.8550\n",
      "Epoch 23/50\n",
      "8/8 [==============================] - 0s 36ms/step - loss: 0.3013 - accuracy: 0.8763 - val_loss: 0.4906 - val_accuracy: 0.8700\n",
      "Epoch 24/50\n",
      "8/8 [==============================] - 0s 38ms/step - loss: 0.2866 - accuracy: 0.8800 - val_loss: 0.4944 - val_accuracy: 0.8700\n",
      "Epoch 25/50\n",
      "8/8 [==============================] - 0s 40ms/step - loss: 0.2830 - accuracy: 0.8775 - val_loss: 0.4904 - val_accuracy: 0.8550\n",
      "Epoch 26/50\n",
      "8/8 [==============================] - 0s 37ms/step - loss: 0.2791 - accuracy: 0.8913 - val_loss: 0.5025 - val_accuracy: 0.8550\n",
      "Epoch 27/50\n",
      "8/8 [==============================] - 0s 36ms/step - loss: 0.2785 - accuracy: 0.8900 - val_loss: 0.5271 - val_accuracy: 0.8350\n",
      "Epoch 28/50\n",
      "8/8 [==============================] - 0s 33ms/step - loss: 0.2811 - accuracy: 0.8838 - val_loss: 0.5125 - val_accuracy: 0.8550\n",
      "Epoch 29/50\n",
      "8/8 [==============================] - 0s 35ms/step - loss: 0.2668 - accuracy: 0.8838 - val_loss: 0.5155 - val_accuracy: 0.8650\n",
      "Epoch 30/50\n",
      "8/8 [==============================] - 0s 34ms/step - loss: 0.2628 - accuracy: 0.8900 - val_loss: 0.5301 - val_accuracy: 0.8550\n",
      "Epoch 31/50\n",
      "8/8 [==============================] - 0s 50ms/step - loss: 0.2685 - accuracy: 0.8888 - val_loss: 0.5373 - val_accuracy: 0.8450\n",
      "Epoch 32/50\n",
      "8/8 [==============================] - 0s 61ms/step - loss: 0.2621 - accuracy: 0.8850 - val_loss: 0.5580 - val_accuracy: 0.8400\n",
      "Epoch 33/50\n",
      "8/8 [==============================] - 0s 57ms/step - loss: 0.2561 - accuracy: 0.8975 - val_loss: 0.5506 - val_accuracy: 0.8700\n",
      "Epoch 34/50\n",
      "8/8 [==============================] - 0s 57ms/step - loss: 0.2525 - accuracy: 0.8938 - val_loss: 0.5627 - val_accuracy: 0.8700\n",
      "Epoch 35/50\n",
      "8/8 [==============================] - 0s 64ms/step - loss: 0.2511 - accuracy: 0.8950 - val_loss: 0.5713 - val_accuracy: 0.8650\n",
      "Epoch 36/50\n",
      "8/8 [==============================] - 1s 64ms/step - loss: 0.2489 - accuracy: 0.8875 - val_loss: 0.5900 - val_accuracy: 0.8500\n",
      "Epoch 37/50\n",
      "8/8 [==============================] - 1s 65ms/step - loss: 0.2468 - accuracy: 0.8913 - val_loss: 0.5835 - val_accuracy: 0.8600\n",
      "Epoch 38/50\n",
      "8/8 [==============================] - 1s 69ms/step - loss: 0.2411 - accuracy: 0.8888 - val_loss: 0.5982 - val_accuracy: 0.8650\n",
      "Epoch 39/50\n",
      "8/8 [==============================] - 1s 70ms/step - loss: 0.2427 - accuracy: 0.9013 - val_loss: 0.6122 - val_accuracy: 0.8450\n",
      "Epoch 40/50\n",
      "8/8 [==============================] - 0s 40ms/step - loss: 0.2456 - accuracy: 0.9025 - val_loss: 0.6829 - val_accuracy: 0.8400\n",
      "Epoch 41/50\n",
      "8/8 [==============================] - 0s 38ms/step - loss: 0.2591 - accuracy: 0.9013 - val_loss: 0.6179 - val_accuracy: 0.8450\n",
      "Epoch 42/50\n",
      "8/8 [==============================] - 0s 33ms/step - loss: 0.2430 - accuracy: 0.8950 - val_loss: 0.6211 - val_accuracy: 0.8600\n",
      "Epoch 43/50\n",
      "8/8 [==============================] - 0s 36ms/step - loss: 0.2347 - accuracy: 0.9013 - val_loss: 0.6341 - val_accuracy: 0.8600\n",
      "Epoch 44/50\n",
      "8/8 [==============================] - 0s 35ms/step - loss: 0.2263 - accuracy: 0.9025 - val_loss: 0.6490 - val_accuracy: 0.8600\n",
      "Epoch 45/50\n",
      "8/8 [==============================] - 0s 35ms/step - loss: 0.2241 - accuracy: 0.8988 - val_loss: 0.6659 - val_accuracy: 0.8400\n",
      "Epoch 46/50\n",
      "8/8 [==============================] - 0s 38ms/step - loss: 0.2211 - accuracy: 0.9087 - val_loss: 0.6698 - val_accuracy: 0.8600\n",
      "Epoch 47/50\n",
      "8/8 [==============================] - 0s 44ms/step - loss: 0.2240 - accuracy: 0.9075 - val_loss: 0.6783 - val_accuracy: 0.8750\n",
      "Epoch 48/50\n",
      "8/8 [==============================] - 0s 39ms/step - loss: 0.2223 - accuracy: 0.9050 - val_loss: 0.7015 - val_accuracy: 0.8700\n",
      "Epoch 49/50\n",
      "8/8 [==============================] - 0s 38ms/step - loss: 0.2171 - accuracy: 0.9087 - val_loss: 0.6977 - val_accuracy: 0.8600\n",
      "Epoch 50/50\n",
      "8/8 [==============================] - 0s 40ms/step - loss: 0.2151 - accuracy: 0.9087 - val_loss: 0.7179 - val_accuracy: 0.8400\n"
     ]
    }
   ],
   "source": [
    "# Train the model\n",
    "history = model.fit(X_train, y_train, epochs=50, batch_size=100, validation_data=(X_test, y_test))\n"
   ]
  },
  {
   "cell_type": "code",
   "execution_count": 38,
   "metadata": {
    "colab": {
     "base_uri": "https://localhost:8080/"
    },
    "id": "07W2T7hF9v9I",
    "outputId": "f2a35942-2630-4d56-92db-c5b78d11bd9e"
   },
   "outputs": [
    {
     "name": "stdout",
     "output_type": "stream",
     "text": [
      "7/7 [==============================] - 0s 5ms/step - loss: 0.7179 - accuracy: 0.8400\n",
      "Test accuracy: 0.8399999737739563\n"
     ]
    }
   ],
   "source": [
    "# Evaluate the model on the test set\n",
    "test_loss, test_acc = model.evaluate(X_test, y_test)\n",
    "print('Test accuracy:', test_acc)"
   ]
  },
  {
   "cell_type": "code",
   "execution_count": 39,
   "metadata": {
    "colab": {
     "base_uri": "https://localhost:8080/",
     "height": 383
    },
    "id": "LJ4wmaE160pU",
    "outputId": "9a460fe1-b20c-41cf-df25-be0d8b2156e3"
   },
   "outputs": [
    {
     "name": "stdout",
     "output_type": "stream",
     "text": [
      "7/7 [==============================] - 0s 8ms/step - loss: 0.7179 - accuracy: 0.8400\n",
      "Test accuracy: 0.8399999737739563\n",
      "7/7 [==============================] - 0s 6ms/step\n",
      "Confusion matrix:\n",
      "[[79 20]\n",
      " [12 89]]\n"
     ]
    },
    {
     "data": {
      "image/png": "[encoded data removed]",
      "text/plain": [
       "<Figure size 432x288 with 2 Axes>"
      ]
     },
     "metadata": {
      "needs_background": "light"
     },
     "output_type": "display_data"
    }
   ],
   "source": [
    "# Evaluate the model on the test set\n",
    "test_loss, test_acc = model.evaluate(X_test, y_test)\n",
    "print('Test accuracy:', test_acc)\n",
    "\n",
    "# Make predictions on the test set\n",
    "test_predictions = model.predict(X_test)\n",
    "\n",
    "# Convert the predictions to binary labels (0 or 1)\n",
    "test_predictions = np.round(test_predictions).astype(int)\n",
    "\n",
    "# Create a confusion matrix\n",
    "cm = confusion_matrix(y_test, test_predictions)\n",
    "\n",
    "# Print the confusion matrix\n",
    "print('Confusion matrix:')\n",
    "print(cm)\n",
    "\n",
    "# Plot the confusion matrix as a heatmap\n",
    "sns.heatmap(cm, annot=True, cmap='Blues', fmt='g')\n",
    "plt.xlabel('Predicted label')\n",
    "plt.ylabel('True label')\n",
    "plt.show()"
   ]
  },
  {
   "cell_type": "code",
   "execution_count": 40,
   "metadata": {
    "colab": {
     "base_uri": "https://localhost:8080/",
     "height": 573
    },
    "id": "7arpbLHO6Zcw",
    "outputId": "9d35cb9d-4987-4f6c-81ba-df50db077118"
   },
   "outputs": [
    {
     "data": {
      "image/png": "[encoded data removed]",
      "text/plain": [
       "<Figure size 432x288 with 1 Axes>"
      ]
     },
     "metadata": {
      "needs_background": "light"
     },
     "output_type": "display_data"
    },
    {
     "data": {
      "image/png": "[encoded data removed]",
      "text/plain": [
       "<Figure size 432x288 with 1 Axes>"
      ]
     },
     "metadata": {
      "needs_background": "light"
     },
     "output_type": "display_data"
    }
   ],
   "source": [
    "import matplotlib.pyplot as plt\n",
    "\n",
    "# Plot the training and validation loss\n",
    "plt.plot(history.history['loss'])\n",
    "plt.plot(history.history['val_loss'])\n",
    "plt.title('Model Loss')\n",
    "plt.ylabel('Loss')\n",
    "plt.xlabel('Epoch')\n",
    "plt.legend(['train', 'validation'], loc='upper right')\n",
    "plt.show()\n",
    "\n",
    "# Plot the training and validation accuracy\n",
    "plt.plot(history.history['accuracy'])\n",
    "plt.plot(history.history['val_accuracy'])\n",
    "plt.title('Model Accuracy')\n",
    "plt.ylabel('Accuracy')\n",
    "plt.xlabel('Epoch')\n",
    "plt.legend(['train', 'validation'], loc='upper left')\n",
    "plt.show()"
   ]
  },
  {
   "cell_type": "code",
   "execution_count": 16,
   "metadata": {
    "colab": {
     "base_uri": "https://localhost:8080/",
     "height": 1000
    },
    "id": "vPKFH42Kjy-q",
    "outputId": "01391aeb-6bbb-469f-d22c-a293e26cd50c"
   },
   "outputs": [
    {
     "name": "stdout",
     "output_type": "stream",
     "text": [
      "Epoch 1/10\n",
      "25/25 [==============================] - 2s 36ms/step - loss: 0.6231 - accuracy: 0.7675 - val_loss: 0.5631 - val_accuracy: 0.8150\n",
      "Epoch 2/10\n",
      "25/25 [==============================] - 1s 25ms/step - loss: 0.4584 - accuracy: 0.8400 - val_loss: 0.4334 - val_accuracy: 0.8100\n",
      "Epoch 3/10\n",
      "25/25 [==============================] - 1s 24ms/step - loss: 0.3643 - accuracy: 0.8512 - val_loss: 0.4132 - val_accuracy: 0.8300\n",
      "Epoch 4/10\n",
      "25/25 [==============================] - 1s 25ms/step - loss: 0.3446 - accuracy: 0.8625 - val_loss: 0.4428 - val_accuracy: 0.8000\n",
      "Epoch 5/10\n",
      "25/25 [==============================] - 1s 25ms/step - loss: 0.3343 - accuracy: 0.8700 - val_loss: 0.4048 - val_accuracy: 0.8400\n",
      "Epoch 6/10\n",
      "25/25 [==============================] - 1s 23ms/step - loss: 0.3445 - accuracy: 0.8700 - val_loss: 0.4199 - val_accuracy: 0.8350\n",
      "Epoch 7/10\n",
      "25/25 [==============================] - 1s 24ms/step - loss: 0.3217 - accuracy: 0.8737 - val_loss: 0.4245 - val_accuracy: 0.8400\n",
      "Epoch 8/10\n",
      "25/25 [==============================] - 1s 22ms/step - loss: 0.3185 - accuracy: 0.8788 - val_loss: 0.4268 - val_accuracy: 0.8350\n",
      "Epoch 9/10\n",
      "25/25 [==============================] - 0s 16ms/step - loss: 0.3069 - accuracy: 0.8825 - val_loss: 0.4423 - val_accuracy: 0.8350\n",
      "Epoch 10/10\n",
      "25/25 [==============================] - 0s 17ms/step - loss: 0.3165 - accuracy: 0.8750 - val_loss: 0.4394 - val_accuracy: 0.8350\n",
      "7/7 [==============================] - 0s 5ms/step - loss: 0.4394 - accuracy: 0.8350\n",
      "Test accuracy: 0.8349999785423279\n",
      "7/7 [==============================] - 0s 6ms/step\n",
      "Confusion matrix:\n",
      "[[83 16]\n",
      " [17 84]]\n"
     ]
    },
    {
     "data": {
      "image/png": "[encoded data removed]",
      "text/plain": [
       "<Figure size 432x288 with 2 Axes>"
      ]
     },
     "metadata": {
      "needs_background": "light"
     },
     "output_type": "display_data"
    },
    {
     "data": {
      "image/png": "[encoded data removed]",
      "text/plain": [
       "<Figure size 432x288 with 1 Axes>"
      ]
     },
     "metadata": {
      "needs_background": "light"
     },
     "output_type": "display_data"
    },
    {
     "data": {
      "image/png": "[encoded data removed]",
      "text/plain": [
       "<Figure size 432x288 with 1 Axes>"
      ]
     },
     "metadata": {
      "needs_background": "light"
     },
     "output_type": "display_data"
    }
   ],
   "source": [
    "# Define the CNN architecture\n",
    "model = keras.Sequential([\n",
    "    keras.layers.Conv1D(filters=64, kernel_size=4, activation='relu', input_shape=(201, 1)),\n",
    "    keras.layers.MaxPooling1D(pool_size=2),\n",
    "    keras.layers.Flatten(),\n",
    "    keras.layers.Dense(units=32, activation='relu'),\n",
    "    keras.layers.Dense(units=1, activation='sigmoid')\n",
    "])\n",
    "\n",
    "# Compile the model\n",
    "model.compile(optimizer='adam', loss='binary_crossentropy', metrics=['accuracy'])\n",
    "\n",
    "# Train the model\n",
    "history = model.fit(X_train, y_train, epochs=10, batch_size=32, validation_data=(X_test, y_test))\n",
    "\n",
    "# Evaluate the model on the test set\n",
    "test_loss, test_acc = model.evaluate(X_test, y_test)\n",
    "print('Test accuracy:', test_acc)\n",
    "\n",
    "# Make predictions on the test set\n",
    "test_predictions = model.predict(X_test)\n",
    "\n",
    "# Convert the predictions to binary labels (0 or 1)\n",
    "test_predictions = np.round(test_predictions).astype(int)\n",
    "\n",
    "# Create a confusion matrix\n",
    "cm = confusion_matrix(y_test, test_predictions)\n",
    "\n",
    "# Print the confusion matrix\n",
    "print('Confusion matrix:')\n",
    "print(cm)\n",
    "\n",
    "# Plot the confusion matrix as a heatmap\n",
    "sns.heatmap(cm, annot=True, cmap='Blues', fmt='g')\n",
    "plt.xlabel('Predicted label')\n",
    "plt.ylabel('True label')\n",
    "plt.show()\n",
    "\n",
    "# Plot the training and validation loss\n",
    "plt.plot(history.history['loss'])\n",
    "plt.plot(history.history['val_loss'])\n",
    "plt.title('Model Loss')\n",
    "plt.ylabel('Loss')\n",
    "plt.xlabel('Epoch')\n",
    "plt.legend(['train', 'validation'], loc='upper right')\n",
    "plt.show()\n",
    "\n",
    "# Plot the training and validation accuracy\n",
    "plt.plot(history.history['accuracy'])\n",
    "plt.plot(history.history['val_accuracy'])\n",
    "plt.title('Model Accuracy')\n",
    "plt.ylabel('Accuracy')\n",
    "plt.xlabel('Epoch')\n",
    "plt.legend(['train', 'validation'], loc='upper left')\n",
    "plt.show()"
   ]
  },
  {
   "cell_type": "code",
   "execution_count": 13,
   "metadata": {
    "colab": {
     "base_uri": "https://localhost:8080/",
     "height": 519
    },
    "id": "69jk569oBn_V",
    "outputId": "893d424f-5ef4-4ba0-ef0b-1d4407626899"
   },
   "outputs": [
    {
     "name": "stdout",
     "output_type": "stream",
     "text": [
      "Epoch 1/40\n",
      "25/25 [==============================] - 2s 30ms/step - loss: 0.5888 - accuracy: 0.7500 - val_loss: 0.5019 - val_accuracy: 0.7900\n",
      "Epoch 2/40\n",
      "25/25 [==============================] - 0s 19ms/step - loss: 0.3979 - accuracy: 0.8450 - val_loss: 0.4201 - val_accuracy: 0.8100\n",
      "Epoch 3/40\n",
      "25/25 [==============================] - 0s 19ms/step - loss: 0.3498 - accuracy: 0.8612 - val_loss: 0.4175 - val_accuracy: 0.8200\n",
      "Epoch 4/40\n",
      "25/25 [==============================] - 0s 19ms/step - loss: 0.3507 - accuracy: 0.8712 - val_loss: 0.4452 - val_accuracy: 0.8100\n",
      "Epoch 5/40\n",
      "24/25 [===========================>..] - ETA: 0s - loss: 0.3238 - accuracy: 0.8737"
     ]
    },
    {
     "ename": "KeyboardInterrupt",
     "evalue": "ignored",
     "output_type": "error",
     "traceback": [
      "\u001b[0;31m---------------------------------------------------------------------------\u001b[0m",
      "\u001b[0;31mKeyboardInterrupt\u001b[0m                         Traceback (most recent call last)",
      "\u001b[0;32m<ipython-input-13-0594110d48de>\u001b[0m in \u001b[0;36m<module>\u001b[0;34m\u001b[0m\n\u001b[1;32m      8\u001b[0m \u001b[0;34m\u001b[0m\u001b[0m\n\u001b[1;32m      9\u001b[0m \u001b[0;31m# train the model using the checkpoint callback\u001b[0m\u001b[0;34m\u001b[0m\u001b[0;34m\u001b[0m\u001b[0;34m\u001b[0m\u001b[0m\n\u001b[0;32m---> 10\u001b[0;31m \u001b[0mmodel\u001b[0m\u001b[0;34m.\u001b[0m\u001b[0mfit\u001b[0m\u001b[0;34m(\u001b[0m\u001b[0mX_train\u001b[0m\u001b[0;34m,\u001b[0m \u001b[0my_train\u001b[0m\u001b[0;34m,\u001b[0m \u001b[0mepochs\u001b[0m\u001b[0;34m=\u001b[0m\u001b[0;36m40\u001b[0m\u001b[0;34m,\u001b[0m \u001b[0mvalidation_data\u001b[0m\u001b[0;34m=\u001b[0m\u001b[0;34m(\u001b[0m\u001b[0mX_test\u001b[0m\u001b[0;34m,\u001b[0m \u001b[0my_test\u001b[0m\u001b[0;34m)\u001b[0m\u001b[0;34m,\u001b[0m \u001b[0mcallbacks\u001b[0m\u001b[0;34m=\u001b[0m\u001b[0;34m[\u001b[0m\u001b[0mcheckpoint\u001b[0m\u001b[0;34m]\u001b[0m\u001b[0;34m)\u001b[0m\u001b[0;34m\u001b[0m\u001b[0;34m\u001b[0m\u001b[0m\n\u001b[0m",
      "\u001b[0;32m/usr/local/lib/python3.8/dist-packages/keras/utils/traceback_utils.py\u001b[0m in \u001b[0;36merror_handler\u001b[0;34m(*args, **kwargs)\u001b[0m\n\u001b[1;32m     63\u001b[0m         \u001b[0mfiltered_tb\u001b[0m \u001b[0;34m=\u001b[0m \u001b[0;32mNone\u001b[0m\u001b[0;34m\u001b[0m\u001b[0;34m\u001b[0m\u001b[0m\n\u001b[1;32m     64\u001b[0m         \u001b[0;32mtry\u001b[0m\u001b[0;34m:\u001b[0m\u001b[0;34m\u001b[0m\u001b[0;34m\u001b[0m\u001b[0m\n\u001b[0;32m---> 65\u001b[0;31m             \u001b[0;32mreturn\u001b[0m \u001b[0mfn\u001b[0m\u001b[0;34m(\u001b[0m\u001b[0;34m*\u001b[0m\u001b[0margs\u001b[0m\u001b[0;34m,\u001b[0m \u001b[0;34m**\u001b[0m\u001b[0mkwargs\u001b[0m\u001b[0;34m)\u001b[0m\u001b[0;34m\u001b[0m\u001b[0;34m\u001b[0m\u001b[0m\n\u001b[0m\u001b[1;32m     66\u001b[0m         \u001b[0;32mexcept\u001b[0m \u001b[0mException\u001b[0m \u001b[0;32mas\u001b[0m \u001b[0me\u001b[0m\u001b[0;34m:\u001b[0m\u001b[0;34m\u001b[0m\u001b[0;34m\u001b[0m\u001b[0m\n\u001b[1;32m     67\u001b[0m             \u001b[0mfiltered_tb\u001b[0m \u001b[0;34m=\u001b[0m \u001b[0m_process_traceback_frames\u001b[0m\u001b[0;34m(\u001b[0m\u001b[0me\u001b[0m\u001b[0;34m.\u001b[0m\u001b[0m__traceback__\u001b[0m\u001b[0;34m)\u001b[0m\u001b[0;34m\u001b[0m\u001b[0;34m\u001b[0m\u001b[0m\n",
      "\u001b[0;32m/usr/local/lib/python3.8/dist-packages/keras/engine/training.py\u001b[0m in \u001b[0;36mfit\u001b[0;34m(self, x, y, batch_size, epochs, verbose, callbacks, validation_split, validation_data, shuffle, class_weight, sample_weight, initial_epoch, steps_per_epoch, validation_steps, validation_batch_size, validation_freq, max_queue_size, workers, use_multiprocessing)\u001b[0m\n\u001b[1;32m   1692\u001b[0m                             \u001b[0msteps_per_execution\u001b[0m\u001b[0;34m=\u001b[0m\u001b[0mself\u001b[0m\u001b[0;34m.\u001b[0m\u001b[0m_steps_per_execution\u001b[0m\u001b[0;34m,\u001b[0m\u001b[0;34m\u001b[0m\u001b[0;34m\u001b[0m\u001b[0m\n\u001b[1;32m   1693\u001b[0m                         )\n\u001b[0;32m-> 1694\u001b[0;31m                     val_logs = self.evaluate(\n\u001b[0m\u001b[1;32m   1695\u001b[0m                         \u001b[0mx\u001b[0m\u001b[0;34m=\u001b[0m\u001b[0mval_x\u001b[0m\u001b[0;34m,\u001b[0m\u001b[0;34m\u001b[0m\u001b[0;34m\u001b[0m\u001b[0m\n\u001b[1;32m   1696\u001b[0m                         \u001b[0my\u001b[0m\u001b[0;34m=\u001b[0m\u001b[0mval_y\u001b[0m\u001b[0;34m,\u001b[0m\u001b[0;34m\u001b[0m\u001b[0;34m\u001b[0m\u001b[0m\n",
      "\u001b[0;32m/usr/local/lib/python3.8/dist-packages/keras/utils/traceback_utils.py\u001b[0m in \u001b[0;36merror_handler\u001b[0;34m(*args, **kwargs)\u001b[0m\n\u001b[1;32m     63\u001b[0m         \u001b[0mfiltered_tb\u001b[0m \u001b[0;34m=\u001b[0m \u001b[0;32mNone\u001b[0m\u001b[0;34m\u001b[0m\u001b[0;34m\u001b[0m\u001b[0m\n\u001b[1;32m     64\u001b[0m         \u001b[0;32mtry\u001b[0m\u001b[0;34m:\u001b[0m\u001b[0;34m\u001b[0m\u001b[0;34m\u001b[0m\u001b[0m\n\u001b[0;32m---> 65\u001b[0;31m             \u001b[0;32mreturn\u001b[0m \u001b[0mfn\u001b[0m\u001b[0;34m(\u001b[0m\u001b[0;34m*\u001b[0m\u001b[0margs\u001b[0m\u001b[0;34m,\u001b[0m \u001b[0;34m**\u001b[0m\u001b[0mkwargs\u001b[0m\u001b[0;34m)\u001b[0m\u001b[0;34m\u001b[0m\u001b[0;34m\u001b[0m\u001b[0m\n\u001b[0m\u001b[1;32m     66\u001b[0m         \u001b[0;32mexcept\u001b[0m \u001b[0mException\u001b[0m \u001b[0;32mas\u001b[0m \u001b[0me\u001b[0m\u001b[0;34m:\u001b[0m\u001b[0;34m\u001b[0m\u001b[0;34m\u001b[0m\u001b[0m\n\u001b[1;32m     67\u001b[0m             \u001b[0mfiltered_tb\u001b[0m \u001b[0;34m=\u001b[0m \u001b[0m_process_traceback_frames\u001b[0m\u001b[0;34m(\u001b[0m\u001b[0me\u001b[0m\u001b[0;34m.\u001b[0m\u001b[0m__traceback__\u001b[0m\u001b[0;34m)\u001b[0m\u001b[0;34m\u001b[0m\u001b[0;34m\u001b[0m\u001b[0m\n",
      "\u001b[0;32m/usr/local/lib/python3.8/dist-packages/keras/engine/training.py\u001b[0m in \u001b[0;36mevaluate\u001b[0;34m(self, x, y, batch_size, verbose, sample_weight, steps, callbacks, max_queue_size, workers, use_multiprocessing, return_dict, **kwargs)\u001b[0m\n\u001b[1;32m   2031\u001b[0m             \u001b[0mcallbacks\u001b[0m\u001b[0;34m.\u001b[0m\u001b[0mon_test_begin\u001b[0m\u001b[0;34m(\u001b[0m\u001b[0;34m)\u001b[0m\u001b[0;34m\u001b[0m\u001b[0;34m\u001b[0m\u001b[0m\n\u001b[1;32m   2032\u001b[0m             \u001b[0;32mfor\u001b[0m \u001b[0m_\u001b[0m\u001b[0;34m,\u001b[0m \u001b[0miterator\u001b[0m \u001b[0;32min\u001b[0m \u001b[0mdata_handler\u001b[0m\u001b[0;34m.\u001b[0m\u001b[0menumerate_epochs\u001b[0m\u001b[0;34m(\u001b[0m\u001b[0;34m)\u001b[0m\u001b[0;34m:\u001b[0m  \u001b[0;31m# Single epoch.\u001b[0m\u001b[0;34m\u001b[0m\u001b[0;34m\u001b[0m\u001b[0m\n\u001b[0;32m-> 2033\u001b[0;31m                 \u001b[0mself\u001b[0m\u001b[0;34m.\u001b[0m\u001b[0mreset_metrics\u001b[0m\u001b[0;34m(\u001b[0m\u001b[0;34m)\u001b[0m\u001b[0;34m\u001b[0m\u001b[0;34m\u001b[0m\u001b[0m\n\u001b[0m\u001b[1;32m   2034\u001b[0m                 \u001b[0;32mwith\u001b[0m \u001b[0mdata_handler\u001b[0m\u001b[0;34m.\u001b[0m\u001b[0mcatch_stop_iteration\u001b[0m\u001b[0;34m(\u001b[0m\u001b[0;34m)\u001b[0m\u001b[0;34m:\u001b[0m\u001b[0;34m\u001b[0m\u001b[0;34m\u001b[0m\u001b[0m\n\u001b[1;32m   2035\u001b[0m                     \u001b[0;32mfor\u001b[0m \u001b[0mstep\u001b[0m \u001b[0;32min\u001b[0m \u001b[0mdata_handler\u001b[0m\u001b[0;34m.\u001b[0m\u001b[0msteps\u001b[0m\u001b[0;34m(\u001b[0m\u001b[0;34m)\u001b[0m\u001b[0;34m:\u001b[0m\u001b[0;34m\u001b[0m\u001b[0;34m\u001b[0m\u001b[0m\n",
      "\u001b[0;32m/usr/local/lib/python3.8/dist-packages/keras/engine/training.py\u001b[0m in \u001b[0;36mreset_metrics\u001b[0;34m(self)\u001b[0m\n\u001b[1;32m   2414\u001b[0m         \"\"\"\n\u001b[1;32m   2415\u001b[0m         \u001b[0;32mfor\u001b[0m \u001b[0mm\u001b[0m \u001b[0;32min\u001b[0m \u001b[0mself\u001b[0m\u001b[0;34m.\u001b[0m\u001b[0mmetrics\u001b[0m\u001b[0;34m:\u001b[0m\u001b[0;34m\u001b[0m\u001b[0;34m\u001b[0m\u001b[0m\n\u001b[0;32m-> 2416\u001b[0;31m             \u001b[0mm\u001b[0m\u001b[0;34m.\u001b[0m\u001b[0mreset_state\u001b[0m\u001b[0;34m(\u001b[0m\u001b[0;34m)\u001b[0m\u001b[0;34m\u001b[0m\u001b[0;34m\u001b[0m\u001b[0m\n\u001b[0m\u001b[1;32m   2417\u001b[0m \u001b[0;34m\u001b[0m\u001b[0m\n\u001b[1;32m   2418\u001b[0m     def train_on_batch(\n",
      "\u001b[0;32m/usr/local/lib/python3.8/dist-packages/keras/metrics/base_metric.py\u001b[0m in \u001b[0;36mreset_state\u001b[0;34m(self)\u001b[0m\n\u001b[1;32m    257\u001b[0m             \u001b[0;32mreturn\u001b[0m \u001b[0mself\u001b[0m\u001b[0;34m.\u001b[0m\u001b[0mreset_states\u001b[0m\u001b[0;34m(\u001b[0m\u001b[0;34m)\u001b[0m\u001b[0;34m\u001b[0m\u001b[0;34m\u001b[0m\u001b[0m\n\u001b[1;32m    258\u001b[0m         \u001b[0;32melse\u001b[0m\u001b[0;34m:\u001b[0m\u001b[0;34m\u001b[0m\u001b[0;34m\u001b[0m\u001b[0m\n\u001b[0;32m--> 259\u001b[0;31m             \u001b[0mbackend\u001b[0m\u001b[0;34m.\u001b[0m\u001b[0mbatch_set_value\u001b[0m\u001b[0;34m(\u001b[0m\u001b[0;34m[\u001b[0m\u001b[0;34m(\u001b[0m\u001b[0mv\u001b[0m\u001b[0;34m,\u001b[0m \u001b[0;36m0\u001b[0m\u001b[0;34m)\u001b[0m \u001b[0;32mfor\u001b[0m \u001b[0mv\u001b[0m \u001b[0;32min\u001b[0m \u001b[0mself\u001b[0m\u001b[0;34m.\u001b[0m\u001b[0mvariables\u001b[0m\u001b[0;34m]\u001b[0m\u001b[0;34m)\u001b[0m\u001b[0;34m\u001b[0m\u001b[0;34m\u001b[0m\u001b[0m\n\u001b[0m\u001b[1;32m    260\u001b[0m \u001b[0;34m\u001b[0m\u001b[0m\n\u001b[1;32m    261\u001b[0m     \u001b[0;34m@\u001b[0m\u001b[0mabc\u001b[0m\u001b[0;34m.\u001b[0m\u001b[0mabstractmethod\u001b[0m\u001b[0;34m\u001b[0m\u001b[0;34m\u001b[0m\u001b[0m\n",
      "\u001b[0;32m/usr/local/lib/python3.8/dist-packages/tensorflow/python/util/traceback_utils.py\u001b[0m in \u001b[0;36merror_handler\u001b[0;34m(*args, **kwargs)\u001b[0m\n\u001b[1;32m    148\u001b[0m     \u001b[0mfiltered_tb\u001b[0m \u001b[0;34m=\u001b[0m \u001b[0;32mNone\u001b[0m\u001b[0;34m\u001b[0m\u001b[0;34m\u001b[0m\u001b[0m\n\u001b[1;32m    149\u001b[0m     \u001b[0;32mtry\u001b[0m\u001b[0;34m:\u001b[0m\u001b[0;34m\u001b[0m\u001b[0;34m\u001b[0m\u001b[0m\n\u001b[0;32m--> 150\u001b[0;31m       \u001b[0;32mreturn\u001b[0m \u001b[0mfn\u001b[0m\u001b[0;34m(\u001b[0m\u001b[0;34m*\u001b[0m\u001b[0margs\u001b[0m\u001b[0;34m,\u001b[0m \u001b[0;34m**\u001b[0m\u001b[0mkwargs\u001b[0m\u001b[0;34m)\u001b[0m\u001b[0;34m\u001b[0m\u001b[0;34m\u001b[0m\u001b[0m\n\u001b[0m\u001b[1;32m    151\u001b[0m     \u001b[0;32mexcept\u001b[0m \u001b[0mException\u001b[0m \u001b[0;32mas\u001b[0m \u001b[0me\u001b[0m\u001b[0;34m:\u001b[0m\u001b[0;34m\u001b[0m\u001b[0;34m\u001b[0m\u001b[0m\n\u001b[1;32m    152\u001b[0m       \u001b[0mfiltered_tb\u001b[0m \u001b[0;34m=\u001b[0m \u001b[0m_process_traceback_frames\u001b[0m\u001b[0;34m(\u001b[0m\u001b[0me\u001b[0m\u001b[0;34m.\u001b[0m\u001b[0m__traceback__\u001b[0m\u001b[0;34m)\u001b[0m\u001b[0;34m\u001b[0m\u001b[0;34m\u001b[0m\u001b[0m\n",
      "\u001b[0;32m/usr/local/lib/python3.8/dist-packages/tensorflow/python/util/dispatch.py\u001b[0m in \u001b[0;36mop_dispatch_handler\u001b[0;34m(*args, **kwargs)\u001b[0m\n\u001b[1;32m   1174\u001b[0m       \u001b[0;31m# Fallback dispatch system (dispatch v1):\u001b[0m\u001b[0;34m\u001b[0m\u001b[0;34m\u001b[0m\u001b[0;34m\u001b[0m\u001b[0m\n\u001b[1;32m   1175\u001b[0m       \u001b[0;32mtry\u001b[0m\u001b[0;34m:\u001b[0m\u001b[0;34m\u001b[0m\u001b[0;34m\u001b[0m\u001b[0m\n\u001b[0;32m-> 1176\u001b[0;31m         \u001b[0;32mreturn\u001b[0m \u001b[0mdispatch_target\u001b[0m\u001b[0;34m(\u001b[0m\u001b[0;34m*\u001b[0m\u001b[0margs\u001b[0m\u001b[0;34m,\u001b[0m \u001b[0;34m**\u001b[0m\u001b[0mkwargs\u001b[0m\u001b[0;34m)\u001b[0m\u001b[0;34m\u001b[0m\u001b[0;34m\u001b[0m\u001b[0m\n\u001b[0m\u001b[1;32m   1177\u001b[0m       \u001b[0;32mexcept\u001b[0m \u001b[0;34m(\u001b[0m\u001b[0mTypeError\u001b[0m\u001b[0;34m,\u001b[0m \u001b[0mValueError\u001b[0m\u001b[0;34m)\u001b[0m\u001b[0;34m:\u001b[0m\u001b[0;34m\u001b[0m\u001b[0;34m\u001b[0m\u001b[0m\n\u001b[1;32m   1178\u001b[0m         \u001b[0;31m# Note: convert_to_eager_tensor currently raises a ValueError, not a\u001b[0m\u001b[0;34m\u001b[0m\u001b[0;34m\u001b[0m\u001b[0;34m\u001b[0m\u001b[0m\n",
      "\u001b[0;32m/usr/local/lib/python3.8/dist-packages/keras/backend.py\u001b[0m in \u001b[0;36mbatch_set_value\u001b[0;34m(tuples)\u001b[0m\n\u001b[1;32m   4300\u001b[0m     \u001b[0;32mif\u001b[0m \u001b[0mtf\u001b[0m\u001b[0;34m.\u001b[0m\u001b[0mexecuting_eagerly\u001b[0m\u001b[0;34m(\u001b[0m\u001b[0;34m)\u001b[0m \u001b[0;32mor\u001b[0m \u001b[0mtf\u001b[0m\u001b[0;34m.\u001b[0m\u001b[0minside_function\u001b[0m\u001b[0;34m(\u001b[0m\u001b[0;34m)\u001b[0m\u001b[0;34m:\u001b[0m\u001b[0;34m\u001b[0m\u001b[0;34m\u001b[0m\u001b[0m\n\u001b[1;32m   4301\u001b[0m         \u001b[0;32mfor\u001b[0m \u001b[0mx\u001b[0m\u001b[0;34m,\u001b[0m \u001b[0mvalue\u001b[0m \u001b[0;32min\u001b[0m \u001b[0mtuples\u001b[0m\u001b[0;34m:\u001b[0m\u001b[0;34m\u001b[0m\u001b[0;34m\u001b[0m\u001b[0m\n\u001b[0;32m-> 4302\u001b[0;31m             \u001b[0mx\u001b[0m\u001b[0;34m.\u001b[0m\u001b[0massign\u001b[0m\u001b[0;34m(\u001b[0m\u001b[0mnp\u001b[0m\u001b[0;34m.\u001b[0m\u001b[0masarray\u001b[0m\u001b[0;34m(\u001b[0m\u001b[0mvalue\u001b[0m\u001b[0;34m,\u001b[0m \u001b[0mdtype\u001b[0m\u001b[0;34m=\u001b[0m\u001b[0mdtype_numpy\u001b[0m\u001b[0;34m(\u001b[0m\u001b[0mx\u001b[0m\u001b[0;34m)\u001b[0m\u001b[0;34m)\u001b[0m\u001b[0;34m)\u001b[0m\u001b[0;34m\u001b[0m\u001b[0;34m\u001b[0m\u001b[0m\n\u001b[0m\u001b[1;32m   4303\u001b[0m     \u001b[0;32melse\u001b[0m\u001b[0;34m:\u001b[0m\u001b[0;34m\u001b[0m\u001b[0;34m\u001b[0m\u001b[0m\n\u001b[1;32m   4304\u001b[0m         \u001b[0;32mwith\u001b[0m \u001b[0mget_graph\u001b[0m\u001b[0;34m(\u001b[0m\u001b[0;34m)\u001b[0m\u001b[0;34m.\u001b[0m\u001b[0mas_default\u001b[0m\u001b[0;34m(\u001b[0m\u001b[0;34m)\u001b[0m\u001b[0;34m:\u001b[0m\u001b[0;34m\u001b[0m\u001b[0;34m\u001b[0m\u001b[0m\n",
      "\u001b[0;32m/usr/local/lib/python3.8/dist-packages/tensorflow/python/ops/resource_variable_ops.py\u001b[0m in \u001b[0;36massign\u001b[0;34m(self, value, use_locking, name, read_value)\u001b[0m\n\u001b[1;32m    926\u001b[0m     \u001b[0;32mwith\u001b[0m \u001b[0m_handle_graph\u001b[0m\u001b[0;34m(\u001b[0m\u001b[0mself\u001b[0m\u001b[0;34m.\u001b[0m\u001b[0mhandle\u001b[0m\u001b[0;34m)\u001b[0m\u001b[0;34m:\u001b[0m\u001b[0;34m\u001b[0m\u001b[0;34m\u001b[0m\u001b[0m\n\u001b[1;32m    927\u001b[0m       \u001b[0mvalue_tensor\u001b[0m \u001b[0;34m=\u001b[0m \u001b[0mops\u001b[0m\u001b[0;34m.\u001b[0m\u001b[0mconvert_to_tensor\u001b[0m\u001b[0;34m(\u001b[0m\u001b[0mvalue\u001b[0m\u001b[0;34m,\u001b[0m \u001b[0mdtype\u001b[0m\u001b[0;34m=\u001b[0m\u001b[0mself\u001b[0m\u001b[0;34m.\u001b[0m\u001b[0mdtype\u001b[0m\u001b[0;34m)\u001b[0m\u001b[0;34m\u001b[0m\u001b[0;34m\u001b[0m\u001b[0m\n\u001b[0;32m--> 928\u001b[0;31m       \u001b[0;32mif\u001b[0m \u001b[0;32mnot\u001b[0m \u001b[0mself\u001b[0m\u001b[0;34m.\u001b[0m\u001b[0m_shape\u001b[0m\u001b[0;34m.\u001b[0m\u001b[0mis_compatible_with\u001b[0m\u001b[0;34m(\u001b[0m\u001b[0mvalue_tensor\u001b[0m\u001b[0;34m.\u001b[0m\u001b[0mshape\u001b[0m\u001b[0;34m)\u001b[0m\u001b[0;34m:\u001b[0m\u001b[0;34m\u001b[0m\u001b[0;34m\u001b[0m\u001b[0m\n\u001b[0m\u001b[1;32m    929\u001b[0m         \u001b[0;32mif\u001b[0m \u001b[0mself\u001b[0m\u001b[0;34m.\u001b[0m\u001b[0mname\u001b[0m \u001b[0;32mis\u001b[0m \u001b[0;32mNone\u001b[0m\u001b[0;34m:\u001b[0m\u001b[0;34m\u001b[0m\u001b[0;34m\u001b[0m\u001b[0m\n\u001b[1;32m    930\u001b[0m           \u001b[0mtensor_name\u001b[0m \u001b[0;34m=\u001b[0m \u001b[0;34m\"\"\u001b[0m\u001b[0;34m\u001b[0m\u001b[0;34m\u001b[0m\u001b[0m\n",
      "\u001b[0;32m/usr/local/lib/python3.8/dist-packages/tensorflow/python/framework/tensor_shape.py\u001b[0m in \u001b[0;36mis_compatible_with\u001b[0;34m(self, other)\u001b[0m\n\u001b[1;32m   1281\u001b[0m     \u001b[0mother\u001b[0m \u001b[0;34m=\u001b[0m \u001b[0mas_shape\u001b[0m\u001b[0;34m(\u001b[0m\u001b[0mother\u001b[0m\u001b[0;34m)\u001b[0m\u001b[0;34m\u001b[0m\u001b[0;34m\u001b[0m\u001b[0m\n\u001b[1;32m   1282\u001b[0m     \u001b[0;32mif\u001b[0m \u001b[0mself\u001b[0m\u001b[0;34m.\u001b[0m\u001b[0mdims\u001b[0m \u001b[0;32mis\u001b[0m \u001b[0;32mnot\u001b[0m \u001b[0;32mNone\u001b[0m \u001b[0;32mand\u001b[0m \u001b[0mother\u001b[0m\u001b[0;34m.\u001b[0m\u001b[0mdims\u001b[0m \u001b[0;32mis\u001b[0m \u001b[0;32mnot\u001b[0m \u001b[0;32mNone\u001b[0m\u001b[0;34m:\u001b[0m\u001b[0;34m\u001b[0m\u001b[0;34m\u001b[0m\u001b[0m\n\u001b[0;32m-> 1283\u001b[0;31m       \u001b[0;32mif\u001b[0m \u001b[0mself\u001b[0m\u001b[0;34m.\u001b[0m\u001b[0mrank\u001b[0m \u001b[0;34m!=\u001b[0m \u001b[0mother\u001b[0m\u001b[0;34m.\u001b[0m\u001b[0mrank\u001b[0m\u001b[0;34m:\u001b[0m\u001b[0;34m\u001b[0m\u001b[0;34m\u001b[0m\u001b[0m\n\u001b[0m\u001b[1;32m   1284\u001b[0m         \u001b[0;32mreturn\u001b[0m \u001b[0;32mFalse\u001b[0m\u001b[0;34m\u001b[0m\u001b[0;34m\u001b[0m\u001b[0m\n\u001b[1;32m   1285\u001b[0m       \u001b[0;32mfor\u001b[0m \u001b[0mx_dim\u001b[0m\u001b[0;34m,\u001b[0m \u001b[0my_dim\u001b[0m \u001b[0;32min\u001b[0m \u001b[0mzip\u001b[0m\u001b[0;34m(\u001b[0m\u001b[0mself\u001b[0m\u001b[0;34m.\u001b[0m\u001b[0mdims\u001b[0m\u001b[0;34m,\u001b[0m \u001b[0mother\u001b[0m\u001b[0;34m.\u001b[0m\u001b[0mdims\u001b[0m\u001b[0;34m)\u001b[0m\u001b[0;34m:\u001b[0m\u001b[0;34m\u001b[0m\u001b[0;34m\u001b[0m\u001b[0m\n",
      "\u001b[0;32m/usr/local/lib/python3.8/dist-packages/tensorflow/python/framework/tensor_shape.py\u001b[0m in \u001b[0;36mrank\u001b[0;34m(self)\u001b[0m\n\u001b[1;32m    838\u001b[0m     \u001b[0;34m\"\"\"Returns the rank of this shape, or None if it is unspecified.\"\"\"\u001b[0m\u001b[0;34m\u001b[0m\u001b[0;34m\u001b[0m\u001b[0m\n\u001b[1;32m    839\u001b[0m     \u001b[0;32mif\u001b[0m \u001b[0mself\u001b[0m\u001b[0;34m.\u001b[0m\u001b[0m_dims\u001b[0m \u001b[0;32mis\u001b[0m \u001b[0;32mnot\u001b[0m \u001b[0;32mNone\u001b[0m\u001b[0;34m:\u001b[0m\u001b[0;34m\u001b[0m\u001b[0;34m\u001b[0m\u001b[0m\n\u001b[0;32m--> 840\u001b[0;31m       \u001b[0;32mreturn\u001b[0m \u001b[0mlen\u001b[0m\u001b[0;34m(\u001b[0m\u001b[0mself\u001b[0m\u001b[0;34m.\u001b[0m\u001b[0m_dims\u001b[0m\u001b[0;34m)\u001b[0m\u001b[0;34m\u001b[0m\u001b[0;34m\u001b[0m\u001b[0m\n\u001b[0m\u001b[1;32m    841\u001b[0m     \u001b[0;32mreturn\u001b[0m \u001b[0;32mNone\u001b[0m\u001b[0;34m\u001b[0m\u001b[0;34m\u001b[0m\u001b[0m\n\u001b[1;32m    842\u001b[0m \u001b[0;34m\u001b[0m\u001b[0m\n",
      "\u001b[0;31mKeyboardInterrupt\u001b[0m: "
     ]
    }
   ],
   "source": [
    "from tensorflow.keras.callbacks import ModelCheckpoint\n",
    "\n",
    "# define the checkpoint filepath\n",
    "checkpoint_filepath = 'model_weights_{epoch:02d}.h5'\n",
    "\n",
    "# define the ModelCheckpoint callback to save the weights\n",
    "checkpoint = ModelCheckpoint(checkpoint_filepath, save_weights_only=True, save_freq='epoch')\n",
    "\n",
    "# train the model using the checkpoint callback\n",
    "model.fit(X_train, y_train, epochs=40, validation_data=(X_test, y_test), callbacks=[checkpoint])"
   ]
  },
  {
   "cell_type": "code",
   "execution_count": 56,
   "metadata": {
    "colab": {
     "base_uri": "https://localhost:8080/"
    },
    "id": "vekG_7bp9dSz",
    "outputId": "f2b6c14d-c611-4d88-8ef8-c0aa743bd7a4"
   },
   "outputs": [
    {
     "name": "stdout",
     "output_type": "stream",
     "text": [
      "Drive already mounted at /content/gdrive; to attempt to forcibly remount, call drive.mount(\"/content/gdrive\", force_remount=True).\n"
     ]
    }
   ],
   "source": [
    "from google.colab import drive\n",
    "drive.mount('/content/gdrive')"
   ]
  },
  {
   "cell_type": "code",
   "execution_count": 61,
   "metadata": {
    "collapsed": true,
    "id": "QRd9Ue_B_KMr"
   },
   "outputs": [],
   "source": [
    "# assume that `model` is your trained CNN model\n",
    "model.save('model_architecture.h5')"
   ]
  },
  {
   "cell_type": "code",
   "execution_count": 65,
   "metadata": {
    "collapsed": true,
    "id": "RZMVg4KB7z33"
   },
   "outputs": [],
   "source": [
    "from tensorflow.keras.models import load_model\n",
    "\n",
    "# Load the model architecture\n",
    "model = load_model('model_architecture.h5')\n",
    "\n",
    "# Load the weights at epoch 20\n",
    "model.load_weights('model_weights_20.h5')"
   ]
  },
  {
   "cell_type": "code",
   "execution_count": 67,
   "metadata": {
    "colab": {
     "base_uri": "https://localhost:8080/",
     "height": 130
    },
    "id": "ni92Aaib_JPt",
    "outputId": "890b0f0d-25c3-42e3-ec5d-c11bd28f43da"
   },
   "outputs": [
    {
     "ename": "SyntaxError",
     "evalue": "ignored",
     "output_type": "error",
     "traceback": [
      "\u001b[0;36m  File \u001b[0;32m\"<ipython-input-67-66a1a6265cc0>\"\u001b[0;36m, line \u001b[0;32m9\u001b[0m\n\u001b[0;31m    test_predictions = np.round(test_predictions).astype(int)plt.ylabel('True label')\u001b[0m\n\u001b[0m                                                             ^\u001b[0m\n\u001b[0;31mSyntaxError\u001b[0m\u001b[0;31m:\u001b[0m invalid syntax\n"
     ]
    }
   ],
   "source": []
  },
  {
   "cell_type": "code",
   "execution_count": 68,
   "metadata": {
    "colab": {
     "base_uri": "https://localhost:8080/",
     "height": 383
    },
    "id": "-O86133lD7O6",
    "outputId": "8776223d-6376-452a-c5c6-578601c26a09"
   },
   "outputs": [
    {
     "name": "stdout",
     "output_type": "stream",
     "text": [
      "7/7 [==============================] - 0s 5ms/step - loss: 0.5277 - accuracy: 0.8300\n",
      "Test accuracy: 0.8299999833106995\n",
      "7/7 [==============================] - 0s 4ms/step\n",
      "Confusion matrix:\n",
      "[[81 18]\n",
      " [16 85]]\n"
     ]
    },
    {
     "data": {
      "image/png": "[encoded data removed]",
      "text/plain": [
       "<Figure size 432x288 with 2 Axes>"
      ]
     },
     "metadata": {
      "needs_background": "light"
     },
     "output_type": "display_data"
    }
   ],
   "source": [
    "# Evaluate the model on the test set\n",
    "test_loss, test_acc = model.evaluate(X_test, y_test)\n",
    "print('Test accuracy:', test_acc)\n",
    "\n",
    "# Make predictions on the test set\n",
    "test_predictions = model.predict(X_test)\n",
    "\n",
    "# Convert the predictions to binary labels (0 or 1)\n",
    "test_predictions = np.round(test_predictions).astype(int)\n",
    "\n",
    "# Create a confusion matrix\n",
    "cm = confusion_matrix(y_test, test_predictions)\n",
    "\n",
    "# Print the confusion matrix\n",
    "print('Confusion matrix:')\n",
    "print(cm)\n",
    "\n",
    "# Plot the confusion matrix as a heatmap\n",
    "sns.heatmap(cm, annot=True, cmap='Blues', fmt='g')\n",
    "plt.xlabel('Predicted label')\n",
    "plt.ylabel('True label')\n",
    "plt.show()"
   ]
  },
  {
   "cell_type": "code",
   "execution_count": null,
   "metadata": {
    "collapsed": true,
    "id": "e8mlBiPmH0U9"
   },
   "outputs": [],
   "source": []
  },
  {
   "cell_type": "code",
   "execution_count": 55,
   "metadata": {
    "collapsed": true,
    "id": "LxAY043g8413"
   },
   "outputs": [],
   "source": [
    "model.load_weights?\n"
   ]
  },
  {
   "cell_type": "code",
   "execution_count": 63,
   "metadata": {
    "colab": {
     "base_uri": "https://localhost:8080/"
    },
    "id": "jHniliEI8-Ba",
    "outputId": "17628a04-af87-42bb-acf4-67609e491918"
   },
   "outputs": [
    {
     "name": "stdout",
     "output_type": "stream",
     "text": [
      "/content\n"
     ]
    }
   ],
   "source": [
    "import os\n",
    "print(os.getcwd())\n"
   ]
  },
  {
   "cell_type": "code",
   "execution_count": null,
   "metadata": {
    "collapsed": true,
    "id": "HCYNbUKeBm5v"
   },
   "outputs": [],
   "source": [
    "/content/model_weights_12.h5"
   ]
  },
  {
   "cell_type": "code",
   "execution_count": 17,
   "metadata": {
    "colab": {
     "base_uri": "https://localhost:8080/",
     "height": 435
    },
    "id": "7hw6cM8d_az6",
    "outputId": "a7c3a76f-76b9-45d5-ca5f-f2c3685f89e0"
   },
   "outputs": [
    {
     "name": "stderr",
     "output_type": "stream",
     "text": [
      "<ipython-input-17-0b5ac6ffc241>:17: DeprecationWarning: KerasClassifier is deprecated, use Sci-Keras (https://github.com/adriangb/scikeras) instead. See https://www.adriangb.com/scikeras/stable/migration.html for help migrating.\n",
      "  model = KerasClassifier(build_fn=create_model, epochs=10, batch_size=32, verbose=0)\n"
     ]
    },
    {
     "ename": "KeyboardInterrupt",
     "evalue": "ignored",
     "output_type": "error",
     "traceback": [
      "\u001b[0;31m---------------------------------------------------------------------------\u001b[0m",
      "\u001b[0;31mKeyboardInterrupt\u001b[0m                         Traceback (most recent call last)",
      "\u001b[0;32m<ipython-input-17-0b5ac6ffc241>\u001b[0m in \u001b[0;36m<module>\u001b[0;34m\u001b[0m\n\u001b[1;32m     22\u001b[0m \u001b[0;31m# Perform the grid search\u001b[0m\u001b[0;34m\u001b[0m\u001b[0;34m\u001b[0m\u001b[0;34m\u001b[0m\u001b[0m\n\u001b[1;32m     23\u001b[0m \u001b[0mgrid\u001b[0m \u001b[0;34m=\u001b[0m \u001b[0mGridSearchCV\u001b[0m\u001b[0;34m(\u001b[0m\u001b[0mestimator\u001b[0m\u001b[0;34m=\u001b[0m\u001b[0mmodel\u001b[0m\u001b[0;34m,\u001b[0m \u001b[0mparam_grid\u001b[0m\u001b[0;34m=\u001b[0m\u001b[0mparam_grid\u001b[0m\u001b[0;34m,\u001b[0m \u001b[0mn_jobs\u001b[0m\u001b[0;34m=\u001b[0m\u001b[0;34m-\u001b[0m\u001b[0;36m1\u001b[0m\u001b[0;34m)\u001b[0m\u001b[0;34m\u001b[0m\u001b[0;34m\u001b[0m\u001b[0m\n\u001b[0;32m---> 24\u001b[0;31m \u001b[0mgrid_result\u001b[0m \u001b[0;34m=\u001b[0m \u001b[0mgrid\u001b[0m\u001b[0;34m.\u001b[0m\u001b[0mfit\u001b[0m\u001b[0;34m(\u001b[0m\u001b[0mX_train\u001b[0m\u001b[0;34m,\u001b[0m \u001b[0my_train\u001b[0m\u001b[0;34m)\u001b[0m\u001b[0;34m\u001b[0m\u001b[0;34m\u001b[0m\u001b[0m\n\u001b[0m\u001b[1;32m     25\u001b[0m \u001b[0;34m\u001b[0m\u001b[0m\n\u001b[1;32m     26\u001b[0m \u001b[0;31m# Print the best parameters and the corresponding mean test score\u001b[0m\u001b[0;34m\u001b[0m\u001b[0;34m\u001b[0m\u001b[0;34m\u001b[0m\u001b[0m\n",
      "\u001b[0;32m/usr/local/lib/python3.8/dist-packages/sklearn/model_selection/_search.py\u001b[0m in \u001b[0;36mfit\u001b[0;34m(self, X, y, groups, **fit_params)\u001b[0m\n\u001b[1;32m    889\u001b[0m                 \u001b[0;32mreturn\u001b[0m \u001b[0mresults\u001b[0m\u001b[0;34m\u001b[0m\u001b[0;34m\u001b[0m\u001b[0m\n\u001b[1;32m    890\u001b[0m \u001b[0;34m\u001b[0m\u001b[0m\n\u001b[0;32m--> 891\u001b[0;31m             \u001b[0mself\u001b[0m\u001b[0;34m.\u001b[0m\u001b[0m_run_search\u001b[0m\u001b[0;34m(\u001b[0m\u001b[0mevaluate_candidates\u001b[0m\u001b[0;34m)\u001b[0m\u001b[0;34m\u001b[0m\u001b[0;34m\u001b[0m\u001b[0m\n\u001b[0m\u001b[1;32m    892\u001b[0m \u001b[0;34m\u001b[0m\u001b[0m\n\u001b[1;32m    893\u001b[0m             \u001b[0;31m# multimetric is determined here because in the case of a callable\u001b[0m\u001b[0;34m\u001b[0m\u001b[0;34m\u001b[0m\u001b[0;34m\u001b[0m\u001b[0m\n",
      "\u001b[0;32m/usr/local/lib/python3.8/dist-packages/sklearn/model_selection/_search.py\u001b[0m in \u001b[0;36m_run_search\u001b[0;34m(self, evaluate_candidates)\u001b[0m\n\u001b[1;32m   1390\u001b[0m     \u001b[0;32mdef\u001b[0m \u001b[0m_run_search\u001b[0m\u001b[0;34m(\u001b[0m\u001b[0mself\u001b[0m\u001b[0;34m,\u001b[0m \u001b[0mevaluate_candidates\u001b[0m\u001b[0;34m)\u001b[0m\u001b[0;34m:\u001b[0m\u001b[0;34m\u001b[0m\u001b[0;34m\u001b[0m\u001b[0m\n\u001b[1;32m   1391\u001b[0m         \u001b[0;34m\"\"\"Search all candidates in param_grid\"\"\"\u001b[0m\u001b[0;34m\u001b[0m\u001b[0;34m\u001b[0m\u001b[0m\n\u001b[0;32m-> 1392\u001b[0;31m         \u001b[0mevaluate_candidates\u001b[0m\u001b[0;34m(\u001b[0m\u001b[0mParameterGrid\u001b[0m\u001b[0;34m(\u001b[0m\u001b[0mself\u001b[0m\u001b[0;34m.\u001b[0m\u001b[0mparam_grid\u001b[0m\u001b[0;34m)\u001b[0m\u001b[0;34m)\u001b[0m\u001b[0;34m\u001b[0m\u001b[0;34m\u001b[0m\u001b[0m\n\u001b[0m\u001b[1;32m   1393\u001b[0m \u001b[0;34m\u001b[0m\u001b[0m\n\u001b[1;32m   1394\u001b[0m \u001b[0;34m\u001b[0m\u001b[0m\n",
      "\u001b[0;32m/usr/local/lib/python3.8/dist-packages/sklearn/model_selection/_search.py\u001b[0m in \u001b[0;36mevaluate_candidates\u001b[0;34m(candidate_params, cv, more_results)\u001b[0m\n\u001b[1;32m    836\u001b[0m                     )\n\u001b[1;32m    837\u001b[0m \u001b[0;34m\u001b[0m\u001b[0m\n\u001b[0;32m--> 838\u001b[0;31m                 out = parallel(\n\u001b[0m\u001b[1;32m    839\u001b[0m                     delayed(_fit_and_score)(\n\u001b[1;32m    840\u001b[0m                         \u001b[0mclone\u001b[0m\u001b[0;34m(\u001b[0m\u001b[0mbase_estimator\u001b[0m\u001b[0;34m)\u001b[0m\u001b[0;34m,\u001b[0m\u001b[0;34m\u001b[0m\u001b[0;34m\u001b[0m\u001b[0m\n",
      "\u001b[0;32m/usr/local/lib/python3.8/dist-packages/joblib/parallel.py\u001b[0m in \u001b[0;36m__call__\u001b[0;34m(self, iterable)\u001b[0m\n\u001b[1;32m   1096\u001b[0m \u001b[0;34m\u001b[0m\u001b[0m\n\u001b[1;32m   1097\u001b[0m             \u001b[0;32mwith\u001b[0m \u001b[0mself\u001b[0m\u001b[0;34m.\u001b[0m\u001b[0m_backend\u001b[0m\u001b[0;34m.\u001b[0m\u001b[0mretrieval_context\u001b[0m\u001b[0;34m(\u001b[0m\u001b[0;34m)\u001b[0m\u001b[0;34m:\u001b[0m\u001b[0;34m\u001b[0m\u001b[0;34m\u001b[0m\u001b[0m\n\u001b[0;32m-> 1098\u001b[0;31m                 \u001b[0mself\u001b[0m\u001b[0;34m.\u001b[0m\u001b[0mretrieve\u001b[0m\u001b[0;34m(\u001b[0m\u001b[0;34m)\u001b[0m\u001b[0;34m\u001b[0m\u001b[0;34m\u001b[0m\u001b[0m\n\u001b[0m\u001b[1;32m   1099\u001b[0m             \u001b[0;31m# Make sure that we get a last message telling us we are done\u001b[0m\u001b[0;34m\u001b[0m\u001b[0;34m\u001b[0m\u001b[0;34m\u001b[0m\u001b[0m\n\u001b[1;32m   1100\u001b[0m             \u001b[0melapsed_time\u001b[0m \u001b[0;34m=\u001b[0m \u001b[0mtime\u001b[0m\u001b[0;34m.\u001b[0m\u001b[0mtime\u001b[0m\u001b[0;34m(\u001b[0m\u001b[0;34m)\u001b[0m \u001b[0;34m-\u001b[0m \u001b[0mself\u001b[0m\u001b[0;34m.\u001b[0m\u001b[0m_start_time\u001b[0m\u001b[0;34m\u001b[0m\u001b[0;34m\u001b[0m\u001b[0m\n",
      "\u001b[0;32m/usr/local/lib/python3.8/dist-packages/joblib/parallel.py\u001b[0m in \u001b[0;36mretrieve\u001b[0;34m(self)\u001b[0m\n\u001b[1;32m    973\u001b[0m             \u001b[0;32mtry\u001b[0m\u001b[0;34m:\u001b[0m\u001b[0;34m\u001b[0m\u001b[0;34m\u001b[0m\u001b[0m\n\u001b[1;32m    974\u001b[0m                 \u001b[0;32mif\u001b[0m \u001b[0mgetattr\u001b[0m\u001b[0;34m(\u001b[0m\u001b[0mself\u001b[0m\u001b[0;34m.\u001b[0m\u001b[0m_backend\u001b[0m\u001b[0;34m,\u001b[0m \u001b[0;34m'supports_timeout'\u001b[0m\u001b[0;34m,\u001b[0m \u001b[0;32mFalse\u001b[0m\u001b[0;34m)\u001b[0m\u001b[0;34m:\u001b[0m\u001b[0;34m\u001b[0m\u001b[0;34m\u001b[0m\u001b[0m\n\u001b[0;32m--> 975\u001b[0;31m                     \u001b[0mself\u001b[0m\u001b[0;34m.\u001b[0m\u001b[0m_output\u001b[0m\u001b[0;34m.\u001b[0m\u001b[0mextend\u001b[0m\u001b[0;34m(\u001b[0m\u001b[0mjob\u001b[0m\u001b[0;34m.\u001b[0m\u001b[0mget\u001b[0m\u001b[0;34m(\u001b[0m\u001b[0mtimeout\u001b[0m\u001b[0;34m=\u001b[0m\u001b[0mself\u001b[0m\u001b[0;34m.\u001b[0m\u001b[0mtimeout\u001b[0m\u001b[0;34m)\u001b[0m\u001b[0;34m)\u001b[0m\u001b[0;34m\u001b[0m\u001b[0;34m\u001b[0m\u001b[0m\n\u001b[0m\u001b[1;32m    976\u001b[0m                 \u001b[0;32melse\u001b[0m\u001b[0;34m:\u001b[0m\u001b[0;34m\u001b[0m\u001b[0;34m\u001b[0m\u001b[0m\n\u001b[1;32m    977\u001b[0m                     \u001b[0mself\u001b[0m\u001b[0;34m.\u001b[0m\u001b[0m_output\u001b[0m\u001b[0;34m.\u001b[0m\u001b[0mextend\u001b[0m\u001b[0;34m(\u001b[0m\u001b[0mjob\u001b[0m\u001b[0;34m.\u001b[0m\u001b[0mget\u001b[0m\u001b[0;34m(\u001b[0m\u001b[0;34m)\u001b[0m\u001b[0;34m)\u001b[0m\u001b[0;34m\u001b[0m\u001b[0;34m\u001b[0m\u001b[0m\n",
      "\u001b[0;32m/usr/local/lib/python3.8/dist-packages/joblib/_parallel_backends.py\u001b[0m in \u001b[0;36mwrap_future_result\u001b[0;34m(future, timeout)\u001b[0m\n\u001b[1;32m    565\u001b[0m         AsyncResults.get from multiprocessing.\"\"\"\n\u001b[1;32m    566\u001b[0m         \u001b[0;32mtry\u001b[0m\u001b[0;34m:\u001b[0m\u001b[0;34m\u001b[0m\u001b[0;34m\u001b[0m\u001b[0m\n\u001b[0;32m--> 567\u001b[0;31m             \u001b[0;32mreturn\u001b[0m \u001b[0mfuture\u001b[0m\u001b[0;34m.\u001b[0m\u001b[0mresult\u001b[0m\u001b[0;34m(\u001b[0m\u001b[0mtimeout\u001b[0m\u001b[0;34m=\u001b[0m\u001b[0mtimeout\u001b[0m\u001b[0;34m)\u001b[0m\u001b[0;34m\u001b[0m\u001b[0;34m\u001b[0m\u001b[0m\n\u001b[0m\u001b[1;32m    568\u001b[0m         \u001b[0;32mexcept\u001b[0m \u001b[0mCfTimeoutError\u001b[0m \u001b[0;32mas\u001b[0m \u001b[0me\u001b[0m\u001b[0;34m:\u001b[0m\u001b[0;34m\u001b[0m\u001b[0;34m\u001b[0m\u001b[0m\n\u001b[1;32m    569\u001b[0m             \u001b[0;32mraise\u001b[0m \u001b[0mTimeoutError\u001b[0m \u001b[0;32mfrom\u001b[0m \u001b[0me\u001b[0m\u001b[0;34m\u001b[0m\u001b[0;34m\u001b[0m\u001b[0m\n",
      "\u001b[0;32m/usr/lib/python3.8/concurrent/futures/_base.py\u001b[0m in \u001b[0;36mresult\u001b[0;34m(self, timeout)\u001b[0m\n\u001b[1;32m    437\u001b[0m                     \u001b[0;32mreturn\u001b[0m \u001b[0mself\u001b[0m\u001b[0;34m.\u001b[0m\u001b[0m__get_result\u001b[0m\u001b[0;34m(\u001b[0m\u001b[0;34m)\u001b[0m\u001b[0;34m\u001b[0m\u001b[0;34m\u001b[0m\u001b[0m\n\u001b[1;32m    438\u001b[0m \u001b[0;34m\u001b[0m\u001b[0m\n\u001b[0;32m--> 439\u001b[0;31m                 \u001b[0mself\u001b[0m\u001b[0;34m.\u001b[0m\u001b[0m_condition\u001b[0m\u001b[0;34m.\u001b[0m\u001b[0mwait\u001b[0m\u001b[0;34m(\u001b[0m\u001b[0mtimeout\u001b[0m\u001b[0;34m)\u001b[0m\u001b[0;34m\u001b[0m\u001b[0;34m\u001b[0m\u001b[0m\n\u001b[0m\u001b[1;32m    440\u001b[0m \u001b[0;34m\u001b[0m\u001b[0m\n\u001b[1;32m    441\u001b[0m                 \u001b[0;32mif\u001b[0m \u001b[0mself\u001b[0m\u001b[0;34m.\u001b[0m\u001b[0m_state\u001b[0m \u001b[0;32min\u001b[0m \u001b[0;34m[\u001b[0m\u001b[0mCANCELLED\u001b[0m\u001b[0;34m,\u001b[0m \u001b[0mCANCELLED_AND_NOTIFIED\u001b[0m\u001b[0;34m]\u001b[0m\u001b[0;34m:\u001b[0m\u001b[0;34m\u001b[0m\u001b[0;34m\u001b[0m\u001b[0m\n",
      "\u001b[0;32m/usr/lib/python3.8/threading.py\u001b[0m in \u001b[0;36mwait\u001b[0;34m(self, timeout)\u001b[0m\n\u001b[1;32m    300\u001b[0m         \u001b[0;32mtry\u001b[0m\u001b[0;34m:\u001b[0m    \u001b[0;31m# restore state no matter what (e.g., KeyboardInterrupt)\u001b[0m\u001b[0;34m\u001b[0m\u001b[0;34m\u001b[0m\u001b[0m\n\u001b[1;32m    301\u001b[0m             \u001b[0;32mif\u001b[0m \u001b[0mtimeout\u001b[0m \u001b[0;32mis\u001b[0m \u001b[0;32mNone\u001b[0m\u001b[0;34m:\u001b[0m\u001b[0;34m\u001b[0m\u001b[0;34m\u001b[0m\u001b[0m\n\u001b[0;32m--> 302\u001b[0;31m                 \u001b[0mwaiter\u001b[0m\u001b[0;34m.\u001b[0m\u001b[0macquire\u001b[0m\u001b[0;34m(\u001b[0m\u001b[0;34m)\u001b[0m\u001b[0;34m\u001b[0m\u001b[0;34m\u001b[0m\u001b[0m\n\u001b[0m\u001b[1;32m    303\u001b[0m                 \u001b[0mgotit\u001b[0m \u001b[0;34m=\u001b[0m \u001b[0;32mTrue\u001b[0m\u001b[0;34m\u001b[0m\u001b[0;34m\u001b[0m\u001b[0m\n\u001b[1;32m    304\u001b[0m             \u001b[0;32melse\u001b[0m\u001b[0;34m:\u001b[0m\u001b[0;34m\u001b[0m\u001b[0;34m\u001b[0m\u001b[0m\n",
      "\u001b[0;31mKeyboardInterrupt\u001b[0m: "
     ]
    }
   ],
   "source": [
    "from keras.wrappers.scikit_learn import KerasClassifier\n",
    "from sklearn.model_selection import GridSearchCV\n",
    "\n",
    "# Define a function that returns the compiled model\n",
    "def create_model(filters=64, kernel_size=4, units=32):\n",
    "    model = keras.Sequential([\n",
    "        keras.layers.Conv1D(filters=filters, kernel_size=kernel_size, activation='relu', input_shape=(201, 1)),\n",
    "        keras.layers.MaxPooling1D(pool_size=2),\n",
    "        keras.layers.Flatten(),\n",
    "        keras.layers.Dense(units=units, activation='relu'),\n",
    "        keras.layers.Dense(units=1, activation='sigmoid')\n",
    "    ])\n",
    "    model.compile(optimizer='adam', loss='binary_crossentropy', metrics=['accuracy'])\n",
    "    return model\n",
    "\n",
    "# Create a KerasClassifier using your model function\n",
    "model = KerasClassifier(build_fn=create_model, epochs=10, batch_size=32, verbose=0)\n",
    "\n",
    "# Define the hyperparameter grid to search over\n",
    "param_grid = {'filters': [32, 64, 128], 'kernel_size': [3, 4, 5], 'units': [16, 32, 64]}\n",
    "\n",
    "# Perform the grid search\n",
    "grid = GridSearchCV(estimator=model, param_grid=param_grid, n_jobs=-1)\n",
    "grid_result = grid.fit(X_train, y_train)\n",
    "\n",
    "# Print the best parameters and the corresponding mean test score\n",
    "print('Best parameters:', grid_result.best_params_)\n",
    "print('Best test score:', grid_result.best_score_)"
   ]
  },
  {
   "cell_type": "code",
   "execution_count": null,
   "metadata": {
    "collapsed": true,
    "id": "VsOOxcNv7cYR"
   },
   "outputs": [],
   "source": []
  },
  {
   "cell_type": "code",
   "execution_count": 43,
   "metadata": {
    "colab": {
     "base_uri": "https://localhost:8080/"
    },
    "id": "Bi15rf3F7R6I",
    "outputId": "0d6ab174-7556-4757-f7d0-3b69d578d388"
   },
   "outputs": [
    {
     "name": "stdout",
     "output_type": "stream",
     "text": [
      "Epoch 1/1000\n",
      "80/80 [==============================] - 3s 9ms/step - loss: 0.6933 - accuracy: 0.4875 - val_loss: 0.6929 - val_accuracy: 0.5100\n",
      "Epoch 2/1000\n",
      "80/80 [==============================] - 1s 8ms/step - loss: 0.6925 - accuracy: 0.5225 - val_loss: 0.6913 - val_accuracy: 0.7950\n",
      "Epoch 3/1000\n",
      "80/80 [==============================] - 1s 8ms/step - loss: 0.6917 - accuracy: 0.5337 - val_loss: 0.6894 - val_accuracy: 0.5300\n",
      "Epoch 4/1000\n",
      "80/80 [==============================] - 1s 7ms/step - loss: 0.6892 - accuracy: 0.5713 - val_loss: 0.6856 - val_accuracy: 0.7050\n",
      "Epoch 5/1000\n",
      "80/80 [==============================] - 1s 7ms/step - loss: 0.6852 - accuracy: 0.6087 - val_loss: 0.6731 - val_accuracy: 0.8000\n",
      "Epoch 6/1000\n",
      "80/80 [==============================] - 1s 8ms/step - loss: 0.6694 - accuracy: 0.6662 - val_loss: 0.6325 - val_accuracy: 0.7550\n",
      "Epoch 7/1000\n",
      "80/80 [==============================] - 1s 7ms/step - loss: 0.6221 - accuracy: 0.7375 - val_loss: 0.5096 - val_accuracy: 0.8350\n",
      "Epoch 8/1000\n",
      "80/80 [==============================] - 1s 7ms/step - loss: 0.5324 - accuracy: 0.7775 - val_loss: 0.4178 - val_accuracy: 0.8500\n",
      "Epoch 9/1000\n",
      "80/80 [==============================] - 1s 8ms/step - loss: 0.4931 - accuracy: 0.8012 - val_loss: 0.3842 - val_accuracy: 0.8500\n",
      "Epoch 10/1000\n",
      "80/80 [==============================] - 1s 7ms/step - loss: 0.4489 - accuracy: 0.8112 - val_loss: 0.3762 - val_accuracy: 0.8600\n",
      "Epoch 11/1000\n",
      "80/80 [==============================] - 1s 6ms/step - loss: 0.4626 - accuracy: 0.8112 - val_loss: 0.4047 - val_accuracy: 0.8350\n",
      "Epoch 12/1000\n",
      "80/80 [==============================] - 0s 6ms/step - loss: 0.4703 - accuracy: 0.8138 - val_loss: 0.3925 - val_accuracy: 0.8450\n",
      "Epoch 13/1000\n",
      "80/80 [==============================] - 1s 6ms/step - loss: 0.4604 - accuracy: 0.8062 - val_loss: 0.3719 - val_accuracy: 0.8450\n",
      "Epoch 14/1000\n",
      "80/80 [==============================] - 1s 7ms/step - loss: 0.4281 - accuracy: 0.8175 - val_loss: 0.3716 - val_accuracy: 0.8500\n",
      "Epoch 15/1000\n",
      "80/80 [==============================] - 1s 8ms/step - loss: 0.4258 - accuracy: 0.8300 - val_loss: 0.3685 - val_accuracy: 0.8450\n",
      "Epoch 16/1000\n",
      "80/80 [==============================] - 1s 13ms/step - loss: 0.4189 - accuracy: 0.8288 - val_loss: 0.3587 - val_accuracy: 0.8550\n",
      "Epoch 17/1000\n",
      "80/80 [==============================] - 1s 12ms/step - loss: 0.4030 - accuracy: 0.8413 - val_loss: 0.3527 - val_accuracy: 0.8600\n",
      "Epoch 18/1000\n",
      "80/80 [==============================] - 1s 11ms/step - loss: 0.4139 - accuracy: 0.8388 - val_loss: 0.3648 - val_accuracy: 0.8550\n",
      "Epoch 19/1000\n",
      "80/80 [==============================] - 1s 13ms/step - loss: 0.3964 - accuracy: 0.8500 - val_loss: 0.3513 - val_accuracy: 0.8550\n",
      "Epoch 20/1000\n",
      "80/80 [==============================] - 1s 9ms/step - loss: 0.3976 - accuracy: 0.8450 - val_loss: 0.3476 - val_accuracy: 0.8550\n",
      "Epoch 21/1000\n",
      "80/80 [==============================] - 1s 6ms/step - loss: 0.3721 - accuracy: 0.8612 - val_loss: 0.3467 - val_accuracy: 0.8700\n",
      "Epoch 22/1000\n",
      "80/80 [==============================] - 0s 6ms/step - loss: 0.3789 - accuracy: 0.8612 - val_loss: 0.3416 - val_accuracy: 0.8750\n",
      "Epoch 23/1000\n",
      "80/80 [==============================] - 1s 7ms/step - loss: 0.3943 - accuracy: 0.8500 - val_loss: 0.3439 - val_accuracy: 0.8650\n",
      "Epoch 24/1000\n",
      "80/80 [==============================] - 1s 7ms/step - loss: 0.3660 - accuracy: 0.8500 - val_loss: 0.3437 - val_accuracy: 0.8700\n",
      "Epoch 25/1000\n",
      "80/80 [==============================] - 1s 7ms/step - loss: 0.3663 - accuracy: 0.8637 - val_loss: 0.3422 - val_accuracy: 0.8700\n",
      "Epoch 26/1000\n",
      "80/80 [==============================] - 1s 10ms/step - loss: 0.3701 - accuracy: 0.8662 - val_loss: 0.3461 - val_accuracy: 0.8800\n",
      "Epoch 27/1000\n",
      "80/80 [==============================] - 1s 7ms/step - loss: 0.3697 - accuracy: 0.8562 - val_loss: 0.3460 - val_accuracy: 0.8800\n",
      "Epoch 28/1000\n",
      "80/80 [==============================] - 1s 8ms/step - loss: 0.3643 - accuracy: 0.8700 - val_loss: 0.3453 - val_accuracy: 0.8700\n",
      "Epoch 29/1000\n",
      "80/80 [==============================] - 1s 7ms/step - loss: 0.3754 - accuracy: 0.8550 - val_loss: 0.3454 - val_accuracy: 0.8800\n",
      "Epoch 30/1000\n",
      "80/80 [==============================] - 1s 7ms/step - loss: 0.3690 - accuracy: 0.8562 - val_loss: 0.3469 - val_accuracy: 0.8850\n",
      "Epoch 31/1000\n",
      "80/80 [==============================] - 1s 7ms/step - loss: 0.3668 - accuracy: 0.8525 - val_loss: 0.3448 - val_accuracy: 0.8750\n",
      "Epoch 32/1000\n",
      "80/80 [==============================] - 1s 7ms/step - loss: 0.3620 - accuracy: 0.8587 - val_loss: 0.3617 - val_accuracy: 0.8650\n",
      "Epoch 33/1000\n",
      "80/80 [==============================] - 1s 7ms/step - loss: 0.3608 - accuracy: 0.8662 - val_loss: 0.3472 - val_accuracy: 0.8800\n",
      "Epoch 34/1000\n",
      "80/80 [==============================] - 1s 6ms/step - loss: 0.3559 - accuracy: 0.8650 - val_loss: 0.3484 - val_accuracy: 0.8800\n",
      "Epoch 35/1000\n",
      "80/80 [==============================] - 1s 7ms/step - loss: 0.3637 - accuracy: 0.8650 - val_loss: 0.3499 - val_accuracy: 0.8800\n",
      "Epoch 36/1000\n",
      "80/80 [==============================] - 1s 7ms/step - loss: 0.3598 - accuracy: 0.8625 - val_loss: 0.3547 - val_accuracy: 0.8500\n",
      "Epoch 37/1000\n",
      "80/80 [==============================] - 1s 9ms/step - loss: 0.3548 - accuracy: 0.8650 - val_loss: 0.3495 - val_accuracy: 0.8800\n",
      "Epoch 38/1000\n",
      "80/80 [==============================] - 1s 13ms/step - loss: 0.3575 - accuracy: 0.8662 - val_loss: 0.3545 - val_accuracy: 0.8750\n",
      "Epoch 39/1000\n",
      "80/80 [==============================] - 1s 11ms/step - loss: 0.3459 - accuracy: 0.8675 - val_loss: 0.3494 - val_accuracy: 0.8700\n",
      "Epoch 40/1000\n",
      "80/80 [==============================] - 1s 13ms/step - loss: 0.3475 - accuracy: 0.8737 - val_loss: 0.3499 - val_accuracy: 0.8800\n",
      "Epoch 41/1000\n",
      "80/80 [==============================] - 1s 10ms/step - loss: 0.3513 - accuracy: 0.8700 - val_loss: 0.3488 - val_accuracy: 0.8800\n",
      "Epoch 42/1000\n",
      "80/80 [==============================] - 1s 8ms/step - loss: 0.3663 - accuracy: 0.8575 - val_loss: 0.3501 - val_accuracy: 0.8750\n",
      "Epoch 43/1000\n",
      "80/80 [==============================] - 1s 7ms/step - loss: 0.3518 - accuracy: 0.8700 - val_loss: 0.3540 - val_accuracy: 0.8500\n",
      "Epoch 44/1000\n",
      "80/80 [==============================] - 1s 7ms/step - loss: 0.3478 - accuracy: 0.8612 - val_loss: 0.3506 - val_accuracy: 0.8750\n",
      "Epoch 45/1000\n",
      "80/80 [==============================] - 1s 7ms/step - loss: 0.3444 - accuracy: 0.8575 - val_loss: 0.3528 - val_accuracy: 0.8550\n",
      "Epoch 46/1000\n",
      "80/80 [==============================] - 0s 6ms/step - loss: 0.3377 - accuracy: 0.8750 - val_loss: 0.3617 - val_accuracy: 0.8700\n",
      "Epoch 47/1000\n",
      "80/80 [==============================] - 1s 7ms/step - loss: 0.3459 - accuracy: 0.8650 - val_loss: 0.3550 - val_accuracy: 0.8800\n",
      "Epoch 48/1000\n",
      "80/80 [==============================] - 1s 6ms/step - loss: 0.3422 - accuracy: 0.8675 - val_loss: 0.3609 - val_accuracy: 0.8750\n",
      "Epoch 49/1000\n",
      "80/80 [==============================] - 1s 7ms/step - loss: 0.3429 - accuracy: 0.8650 - val_loss: 0.3562 - val_accuracy: 0.8800\n",
      "Epoch 50/1000\n",
      "80/80 [==============================] - 1s 7ms/step - loss: 0.3461 - accuracy: 0.8600 - val_loss: 0.3554 - val_accuracy: 0.8800\n",
      "Epoch 51/1000\n",
      "80/80 [==============================] - 1s 7ms/step - loss: 0.3343 - accuracy: 0.8650 - val_loss: 0.3595 - val_accuracy: 0.8800\n",
      "Epoch 52/1000\n",
      "80/80 [==============================] - 1s 8ms/step - loss: 0.3421 - accuracy: 0.8625 - val_loss: 0.3560 - val_accuracy: 0.8550\n",
      "Epoch 53/1000\n",
      "80/80 [==============================] - 1s 7ms/step - loss: 0.3317 - accuracy: 0.8788 - val_loss: 0.3619 - val_accuracy: 0.8550\n",
      "Epoch 54/1000\n",
      "80/80 [==============================] - 1s 7ms/step - loss: 0.3310 - accuracy: 0.8700 - val_loss: 0.3649 - val_accuracy: 0.8800\n",
      "Epoch 55/1000\n",
      "80/80 [==============================] - 1s 7ms/step - loss: 0.3398 - accuracy: 0.8637 - val_loss: 0.3624 - val_accuracy: 0.8800\n",
      "Epoch 56/1000\n",
      "80/80 [==============================] - 1s 7ms/step - loss: 0.3385 - accuracy: 0.8637 - val_loss: 0.3666 - val_accuracy: 0.8650\n",
      "Epoch 57/1000\n",
      "80/80 [==============================] - 1s 6ms/step - loss: 0.3408 - accuracy: 0.8675 - val_loss: 0.3584 - val_accuracy: 0.8550\n",
      "Epoch 58/1000\n",
      "80/80 [==============================] - 1s 7ms/step - loss: 0.3276 - accuracy: 0.8750 - val_loss: 0.3718 - val_accuracy: 0.8600\n",
      "Epoch 59/1000\n",
      "80/80 [==============================] - 1s 6ms/step - loss: 0.3338 - accuracy: 0.8737 - val_loss: 0.3585 - val_accuracy: 0.8650\n",
      "Epoch 60/1000\n",
      "80/80 [==============================] - 1s 9ms/step - loss: 0.3472 - accuracy: 0.8662 - val_loss: 0.3603 - val_accuracy: 0.8700\n",
      "Epoch 61/1000\n",
      "80/80 [==============================] - 1s 12ms/step - loss: 0.3288 - accuracy: 0.8700 - val_loss: 0.3590 - val_accuracy: 0.8800\n",
      "Epoch 62/1000\n",
      "80/80 [==============================] - 1s 11ms/step - loss: 0.3201 - accuracy: 0.8725 - val_loss: 0.3604 - val_accuracy: 0.8550\n",
      "Epoch 63/1000\n",
      "80/80 [==============================] - 1s 10ms/step - loss: 0.3376 - accuracy: 0.8687 - val_loss: 0.3609 - val_accuracy: 0.8700\n",
      "Epoch 64/1000\n",
      "80/80 [==============================] - 1s 12ms/step - loss: 0.3220 - accuracy: 0.8775 - val_loss: 0.3661 - val_accuracy: 0.8650\n",
      "Epoch 65/1000\n",
      "80/80 [==============================] - 1s 9ms/step - loss: 0.3238 - accuracy: 0.8662 - val_loss: 0.3638 - val_accuracy: 0.8750\n",
      "Epoch 66/1000\n",
      "80/80 [==============================] - 1s 8ms/step - loss: 0.3327 - accuracy: 0.8725 - val_loss: 0.3639 - val_accuracy: 0.8550\n",
      "Epoch 67/1000\n",
      "80/80 [==============================] - 1s 7ms/step - loss: 0.3262 - accuracy: 0.8788 - val_loss: 0.3650 - val_accuracy: 0.8600\n",
      "7/7 [==============================] - 0s 5ms/step - loss: 0.3650 - accuracy: 0.8600\n",
      "Test accuracy: 0.8600000143051147\n",
      "7/7 [==============================] - 0s 3ms/step\n"
     ]
    }
   ],
   "source": [
    "from tensorflow import keras                                                                                                                                         \n",
    "from tensorflow.keras.layers import Conv1D, MaxPooling1D, Flatten, Dense, Dropout                                                                                    \n",
    "from tensorflow.keras.optimizers import Adam                                                                                                                         \n",
    "from tensorflow.keras.callbacks import EarlyStopping \n",
    "\n",
    "# Define the CNN architecture                                                                                                                                        \n",
    "model = keras.Sequential([                                                                                                                                           \n",
    "    Conv1D(filters=32, kernel_size=8, activation='relu', input_shape=(201, 1)),                                          \n",
    "    MaxPooling1D(pool_size=8),                                                                                                                                       \n",
    "    Dropout(0.1),                                                                                                                                                    \n",
    "    Conv1D(filters=64, kernel_size=4, activation='relu'),                                                                \n",
    "    MaxPooling1D(pool_size=4),                                                                                             \n",
    "    Dropout(0.15),                                                                                                         \n",
    "    Conv1D(filters=128, kernel_size=3, activation='relu'),                     \n",
    "    MaxPooling1D(pool_size=2),                                                                                             \n",
    "    Dropout(0.25),                                                                                                         \n",
    "    Flatten(),                                                                                                             \n",
    "    Dense(units=128, activation='relu'),                                        \n",
    "    Dropout(0.25),                                                                                                         \n",
    "    Dense(units=64, activation='relu'),                                                                                    \n",
    "    Dropout(0.15),                                                                                                         \n",
    "    Dense(units=32, activation='relu'),                                                                                    \n",
    "    Dropout(0.1),                                                                                                          \n",
    "    Dense(units=16, activation='relu'),                                                                                    \n",
    "    Dense(units=1, activation='sigmoid')                                                                                   \n",
    "])                                                                                                                         \n",
    "# Set the learning rate                                                                                                    \n",
    "lr = 0.0001                                                                                                                \n",
    "# Compile the model with a custom optimizer                                                                                \n",
    "optimizer = Adam(learning_rate=lr)                                                                                         \n",
    "model.compile(optimizer=optimizer, loss='binary_crossentropy', metrics=['accuracy'])                                       \n",
    "# Set up early stopping                                                                                                    \n",
    "early_stop = EarlyStopping(monitor='val_loss', patience=45)                                                                \n",
    "# Train the model                                                                                                          \n",
    "history = model.fit(X_train, y_train, epochs=1000, batch_size=10, validation_data=(X_test, y_test), callbacks=[early_stop])\n",
    "# Evaluate the model on the test set                     \n",
    "test_loss, test_acc = model.evaluate(X_test, y_test)     \n",
    "print('Test accuracy:', test_acc)                                                     \n",
    "# Make predictions on the test set                       \n",
    "test_predictions = model.predict(X_test)                                                                                 \n",
    "# Convert the predictions to binary labels (0 or 1)      \n",
    "test_predictions = np.round(test_predictions).astype(int)\n",
    "# Create a confusion matrix                           \n",
    "cm = confusion_matrix(y_test, test_predictions)       "
   ]
  },
  {
   "cell_type": "code",
   "execution_count": null,
   "metadata": {
    "collapsed": true,
    "id": "tBICFjO7HO7p"
   },
   "outputs": [],
   "source": []
  },
  {
   "cell_type": "code",
   "execution_count": 44,
   "metadata": {
    "colab": {
     "base_uri": "https://localhost:8080/",
     "height": 573
    },
    "id": "3euwHAAfHPgm",
    "outputId": "539b96f8-0798-4146-8dd9-a4a3b95d67f8"
   },
   "outputs": [
    {
     "data": {
      "image/png": "[encoded data removed]",
      "text/plain": [
       "<Figure size 432x288 with 1 Axes>"
      ]
     },
     "metadata": {
      "needs_background": "light"
     },
     "output_type": "display_data"
    },
    {
     "data": {
      "image/png": "[encoded data removed]",
      "text/plain": [
       "<Figure size 432x288 with 1 Axes>"
      ]
     },
     "metadata": {
      "needs_background": "light"
     },
     "output_type": "display_data"
    }
   ],
   "source": [
    "import matplotlib.pyplot as plt\n",
    "\n",
    "# Plot the training and validation loss\n",
    "plt.plot(history.history['loss'])\n",
    "plt.plot(history.history['val_loss'])\n",
    "plt.title('Model Loss')\n",
    "plt.ylabel('Loss')\n",
    "plt.xlabel('Epoch')\n",
    "plt.legend(['train', 'validation'], loc='upper right')\n",
    "plt.show()\n",
    "\n",
    "# Plot the training and validation accuracy\n",
    "plt.plot(history.history['accuracy'])\n",
    "plt.plot(history.history['val_accuracy'])\n",
    "plt.title('Model Accuracy')\n",
    "plt.ylabel('Accuracy')\n",
    "plt.xlabel('Epoch')\n",
    "plt.legend(['train', 'validation'], loc='upper left')\n",
    "plt.show()"
   ]
  },
  {
   "cell_type": "code",
   "execution_count": null,
   "metadata": {
    "collapsed": true,
    "id": "ik3FgP0FH1yJ"
   },
   "outputs": [],
   "source": []
  },
  {
   "cell_type": "code",
   "execution_count": 45,
   "metadata": {
    "colab": {
     "base_uri": "https://localhost:8080/",
     "height": 383
    },
    "id": "XEW4WyOKH2RH",
    "outputId": "ac409e0f-40a1-49d7-8a66-a90e851c3683"
   },
   "outputs": [
    {
     "name": "stdout",
     "output_type": "stream",
     "text": [
      "7/7 [==============================] - 0s 7ms/step - loss: 0.3650 - accuracy: 0.8600\n",
      "Test accuracy: 0.8600000143051147\n",
      "7/7 [==============================] - 0s 6ms/step\n",
      "Confusion matrix:\n",
      "[[80 19]\n",
      " [ 9 92]]\n"
     ]
    },
    {
     "data": {
      "image/png": "[encoded data removed]",
      "text/plain": [
       "<Figure size 432x288 with 2 Axes>"
      ]
     },
     "metadata": {
      "needs_background": "light"
     },
     "output_type": "display_data"
    }
   ],
   "source": [
    "# Evaluate the model on the test set\n",
    "test_loss, test_acc = model.evaluate(X_test, y_test)\n",
    "print('Test accuracy:', test_acc)\n",
    "\n",
    "# Make predictions on the test set\n",
    "test_predictions = model.predict(X_test)\n",
    "\n",
    "# Convert the predictions to binary labels (0 or 1)\n",
    "test_predictions = np.round(test_predictions).astype(int)\n",
    "\n",
    "# Create a confusion matrix\n",
    "cm = confusion_matrix(y_test, test_predictions)\n",
    "\n",
    "# Print the confusion matrix\n",
    "print('Confusion matrix:')\n",
    "print(cm)\n",
    "\n",
    "# Plot the confusion matrix as a heatmap\n",
    "sns.heatmap(cm, annot=True, cmap='Blues', fmt='g')\n",
    "plt.xlabel('Predicted label')\n",
    "plt.ylabel('True label')\n",
    "plt.show()"
   ]
  }
 ],
 "metadata": {
  "colab": {
   "provenance": []
  },
  "kernelspec": {
   "display_name": "Python 3",
   "language": "python",
   "name": "python3"
  },
  "language_info": {
   "codemirror_mode": {
    "name": "ipython",
    "version": 3
   },
   "file_extension": ".py",
   "mimetype": "text/x-python",
   "name": "python",
   "nbconvert_exporter": "python",
   "pygments_lexer": "ipython3",
   "version": "3.6.8"
  }
 },
 "nbformat": 4,
 "nbformat_minor": 1
}
